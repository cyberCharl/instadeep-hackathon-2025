{
  "cells": [
    {
      "cell_type": "markdown",
      "metadata": {
        "id": "LPVUemGzkZXt"
      },
      "source": [
        "# MLIP hackathon starter notebook"
      ]
    },
    {
      "cell_type": "markdown",
      "metadata": {
        "id": "WZbvC8Gq3qPz"
      },
      "source": [
        "In this challenge, we train a Machine Learning Interatomic Potential (MLIP) model using the [`mlip`](https://github.com/instadeepai/mlip) library.\n",
        "\n",
        "If you run this on Google Colab, make sure to select a GPU runtime (Runtime > Change runtime type > Hardware accelerator > GPU)."
      ]
    },
    {
      "cell_type": "code",
      "execution_count": 212,
      "metadata": {
        "id": "eLsahv2MlU12"
      },
      "outputs": [],
      "source": [
        "#!pip install mlip \"jax[cuda12]\""
      ]
    },
    {
      "cell_type": "code",
      "source": [
        "#!pip install wandb"
      ],
      "metadata": {
        "collapsed": true,
        "id": "nvEJG82QTrnx"
      },
      "execution_count": 213,
      "outputs": []
    },
    {
      "cell_type": "markdown",
      "metadata": {
        "id": "9bd0DkOGeScx"
      },
      "source": [
        "**Install, required imports, and logging setup**\n"
      ]
    },
    {
      "cell_type": "code",
      "source": [
        "# import wandb\n",
        "# !wandb login"
      ],
      "metadata": {
        "id": "g6CVS1Z3T_xP"
      },
      "execution_count": 214,
      "outputs": []
    },
    {
      "cell_type": "code",
      "execution_count": 215,
      "metadata": {
        "id": "7j0nxIefksNG"
      },
      "outputs": [],
      "source": [
        "import os\n",
        "import numpy as np\n",
        "import pandas as pd\n",
        "import logging\n",
        "import matplotlib.pyplot as plt\n",
        "\n",
        "# For dataset loading\n",
        "from mlip.data import GraphDatasetBuilder, ExtxyzReader\n",
        "\n",
        "# For model\n",
        "from mlip.models import Mace, Nequip, Visnet, ForceField\n",
        "\n",
        "# For optimizer\n",
        "import optax\n",
        "\n",
        "# For loss function\n",
        "from mlip.models.loss import MSELoss\n",
        "\n",
        "# For training\n",
        "from mlip.training import TrainingLoop\n",
        "from mlip.models.model_io import save_model_to_zip, load_model_from_zip\n",
        "from mlip.models.params_loading import load_parameters_from_checkpoint\n",
        "\n",
        "# For checkpointing\n",
        "from mlip.training import TrainingIOHandler, log_metrics_to_line\n",
        "from mlip.training.training_io_handler import LogCategory\n",
        "\n",
        "# Set up logging\n",
        "logging.basicConfig(level=logging.INFO, force=True, format='%(levelname)s - %(message)s')\n",
        "\n",
        "# Set dedicated logging for mlip. Set this to logging.DEBUG to see more detailed logs.\n",
        "logging.getLogger(\"mlip\").setLevel(logging.INFO)"
      ]
    },
    {
      "cell_type": "markdown",
      "metadata": {
        "id": "Ru3fIT7Tq24A"
      },
      "source": [
        "Let's also check what device we are using:"
      ]
    },
    {
      "cell_type": "code",
      "execution_count": 216,
      "metadata": {
        "colab": {
          "base_uri": "https://localhost:8080/"
        },
        "id": "i7bAOYOrqxN8",
        "outputId": "e826f844-60f7-4d4e-c702-bd9adafaa3a2"
      },
      "outputs": [
        {
          "output_type": "stream",
          "name": "stdout",
          "text": [
            "[CudaDevice(id=0)]\n"
          ]
        }
      ],
      "source": [
        "import jax\n",
        "\n",
        "print(jax.devices())"
      ]
    },
    {
      "cell_type": "markdown",
      "metadata": {
        "id": "cksPWIwMkt-G"
      },
      "source": [
        "## 1. Preparing a dataset"
      ]
    },
    {
      "cell_type": "markdown",
      "metadata": {
        "id": "OkHNCGbVwyCK"
      },
      "source": [
        "For this example, we train on configurations of a molecule called [3-(benzyloxy)pyridin-2-amine](https://pubchem.ncbi.nlm.nih.gov/substance/854545) (molecular formula `C12H12N2O`, abbreviated as `3BPA`) sampled with Molecular Dynamics at a temperature of 300 Kelvin.\n",
        "\n",
        "It's molecular structure consists of a **pyridin-2-amine core**:\n",
        "\n",
        " * A **pyridine ring** (six-membered aromatic ring with one nitrogen atom).\n",
        "\n",
        " * An **amino group (-NH₂)** at the 2-position of the pyridine ring (adjacent to the nitrogen).\n",
        "\n",
        "Benzyloxy substituent at position 3:\n",
        "\n",
        " * A **benzyloxy group (-OCH₂C₆H₅)** is attached to the 3-position of the pyridine ring.\n",
        "\n",
        " * This consists of a **methylene bridge (–CH₂–)** bonded to a **phenyl ring (C₆H₅)**, connected via an **ether linkage (–O–)**.\n",
        "\n",
        "![3BPA](https://go.drugbank.com/structures/DB02352/thumb.svg)"
      ]
    },
    {
      "cell_type": "markdown",
      "metadata": {
        "id": "CsWBkN4xlU14"
      },
      "source": [
        "The data processing **is a two step process**:\n",
        "\n",
        "1. **We read the data from disk into [`ChemicalSystem`](https://instadeepai.github.io/mlip/api_reference/data/chemical_system.html) objects**. This is done by a \"reader\", and since the dataset is stored in extended xyz format, it can be read with the [`ExtxyzReader`](https://instadeepai.github.io/mlip/api_reference/data/chemical_systems_readers/extxyz_reader.html). The *mlip* library also includes a HDF5 format reader: [`Hdf5Reader`](https://instadeepai.github.io/mlip/api_reference/data/chemical_systems_readers/hdf5_reader.html)."
      ]
    },
    {
      "cell_type": "code",
      "execution_count": 217,
      "metadata": {
        "id": "dAV2wyZGlU15"
      },
      "outputs": [],
      "source": [
        "%%bash\n",
        "mkdir -p data\n",
        "\n",
        "[ -f data/test_public.xyz ] || wget -P data https://raw.githubusercontent.com/BioGeek/hackathon_IndabaX_2025_mlip/refs/heads/main/data/test_public.xyz\n",
        "[ -f data/train.xyz ] || wget -P data https://raw.githubusercontent.com/BioGeek/hackathon_IndabaX_2025_mlip/refs/heads/main/data/train.xyz\n",
        "[ -f data/validation.xyz ] || wget -P data https://raw.githubusercontent.com/BioGeek/hackathon_IndabaX_2025_mlip/refs/heads/main/data/validation.xyz"
      ]
    },
    {
      "cell_type": "code",
      "execution_count": 218,
      "metadata": {
        "id": "MxbTwW74kwrN"
      },
      "outputs": [],
      "source": [
        "reader = ExtxyzReader(\n",
        "    ExtxyzReader.Config(\n",
        "        train_dataset_paths=\"data/train.xyz\",\n",
        "        valid_dataset_paths=\"data/validation.xyz\")\n",
        ")"
      ]
    },
    {
      "cell_type": "markdown",
      "metadata": {
        "id": "PkLW_jW2xS1t"
      },
      "source": [
        "2. **We process these [`ChemicalSystem`](https://instadeepai.github.io/mlip/api_reference/data/chemical_system.html) objects into graphs.** This process uses the class [`GraphDatasetBuilder`](https://instadeepai.github.io/mlip/api_reference/data/graph_dataset_builder.html) which offers some degree of customisation through its [config class](https://instadeepai.github.io/mlip/api_reference/data/dataset_configs.html#mlip.data.configs.GraphDatasetBuilderConfig).\n",
        "\n"
      ]
    },
    {
      "cell_type": "code",
      "execution_count": 219,
      "metadata": {
        "colab": {
          "base_uri": "https://localhost:8080/",
          "height": 347,
          "referenced_widgets": [
            "d9065d96eda140d3b55d383f4eb12a9a",
            "3ccd1e30a02249b48d68bbd290c09df7",
            "72d02f0fcdf74c9fa873ac3ff536104d",
            "fc1df937ac9a4a718b1b942354510d1e",
            "9a6bf0549a164da1b532a67de1988540",
            "41e52f4b44e34c6aa1d6a6f4af310487",
            "47fec0e83ea740acb5e4b12ef0e92c02",
            "1a9f49b358684caabd05619a0bbac5ef",
            "551275c82dc74acdabfaad693f7ca829",
            "0a3fae77987b4366ab6ac168667433a0",
            "9b0c11aa83f84da19ba638635698f5b9",
            "ee3fd5de13724a2ea558773d75ca4e74",
            "8cc0ee12e6eb48189c440e348c7a5ebc",
            "9b1e0688d87d43eaa70a6db49703ccca",
            "62128146627d47e480cb9702e54fed80",
            "87bb97aa7e0849018a79eb09e46403e7",
            "eee3ce6bc227402794ddfad62d4dc326",
            "b5d9160f295f411b93a17b2c1fe80ab2",
            "a6a5fcd76c6c4260aded04fa3ae4e97b",
            "f4a7193dd19449bcbd3525839d85780c",
            "283892c18f3242a79c0aab27ee50d3d6",
            "dc33021852ea4654a72d1f7cdf7ba153",
            "72b7ae9a2a9a4a9bbf0b8257ed0390a9",
            "1c5316ada6ff4cbbafc7fa5932b00844",
            "7791b1d07c0f4f90ad5665591beb0ed1",
            "5e157a4b8b274f648a3f4bd0920bfbe1",
            "8b505a45bc0544abafd17211e611b336",
            "3033d10c5e4b4e429fbc527df42e21d6",
            "6d07cf8c01654f7983d8954768147671",
            "86f6cd0f21a942fbb4d62058ce88dd94",
            "e9c85169f69a4651abc39b6d7137835e",
            "c5f5a5193ad94ba9873fd30f0e212b7b",
            "fc487cc4a544490e825f59be85c61a0b",
            "93ade586e0bc4bb9a6dbd147e245c8cd",
            "d448626d271346e89da3f40999b49dab",
            "80e629bb188c4b7aa58ed5ef618a3a7f",
            "8c4264bba57d4351997cc4143cb89af7",
            "cf65ecc737384e35a2bb892cc6ea6f20",
            "e26cc8704d414785ae8b9b4cf4acf657",
            "fbe8a81101734d89a4a2fec6d4c544a9",
            "6ffc391f29e241f3b33f92909821e9fa",
            "6e6f0d486bb34be289eda95676d1b96c",
            "4d2db213e7e9444dba638885ab145f55",
            "3cf4b867d10a4c3b9e36dbd1b70dc528"
          ]
        },
        "id": "tXjGxXwul4kT",
        "outputId": "19e273f2-7e99-457d-d726-2c4ce47609ff"
      },
      "outputs": [
        {
          "output_type": "display_data",
          "data": {
            "text/plain": [
              "Graph creation:   0%|          | 0/500 [00:00<?, ?it/s]"
            ],
            "application/vnd.jupyter.widget-view+json": {
              "version_major": 2,
              "version_minor": 0,
              "model_id": "d9065d96eda140d3b55d383f4eb12a9a"
            }
          },
          "metadata": {}
        },
        {
          "output_type": "display_data",
          "data": {
            "text/plain": [
              "valid graph creation:   0%|          | 0/100 [00:00<?, ?it/s]"
            ],
            "application/vnd.jupyter.widget-view+json": {
              "version_major": 2,
              "version_minor": 0,
              "model_id": "ee3fd5de13724a2ea558773d75ca4e74"
            }
          },
          "metadata": {}
        },
        {
          "output_type": "display_data",
          "data": {
            "text/plain": [
              "test graph creation: 0it [00:00, ?it/s]"
            ],
            "application/vnd.jupyter.widget-view+json": {
              "version_major": 2,
              "version_minor": 0,
              "model_id": "72b7ae9a2a9a4a9bbf0b8257ed0390a9"
            }
          },
          "metadata": {}
        },
        {
          "output_type": "stream",
          "name": "stderr",
          "text": [
            "INFO - Starting to compute mandatory dataset statistics: this may take some time...\n"
          ]
        },
        {
          "output_type": "display_data",
          "data": {
            "text/plain": [
              "Average number of neighbors computation:   0%|          | 0/500 [00:00<?, ?it/s]"
            ],
            "application/vnd.jupyter.widget-view+json": {
              "version_major": 2,
              "version_minor": 0,
              "model_id": "93ade586e0bc4bb9a6dbd147e245c8cd"
            }
          },
          "metadata": {}
        },
        {
          "output_type": "stream",
          "name": "stderr",
          "text": [
            "INFO - Processed 10% of data\n",
            "INFO - Processed 20% of data\n",
            "INFO - Processed 30% of data\n",
            "INFO - Processed 40% of data\n",
            "INFO - Processed 50% of data\n",
            "INFO - Processed 60% of data\n",
            "INFO - Processed 70% of data\n",
            "INFO - Processed 80% of data\n",
            "INFO - Processed 90% of data\n",
            "INFO - Processed 100% of data\n"
          ]
        }
      ],
      "source": [
        "builder_config = GraphDatasetBuilder.Config(\n",
        "    graph_cutoff_angstrom=5.0,\n",
        "    batch_size=16,\n",
        ")\n",
        "\n",
        "builder = GraphDatasetBuilder(reader, builder_config)\n",
        "builder.prepare_datasets() # This step is required to compute all dataset information (used later on by most MLIP model)\n",
        "\n",
        "train_set, validation_set, _ = builder.get_splits()"
      ]
    },
    {
      "cell_type": "markdown",
      "metadata": {
        "id": "DHq_F75zxb-D"
      },
      "source": [
        "More information can be found in the [deep-dive on data processing](https://instadeepai.github.io/mlip/user_guide/data_processing.html)  in our documentation for more details.\n",
        "\n",
        "We can now **print some statistics about our dataset** along with the [`DatasetInfo`](https://instadeepai.github.io/mlip/api_reference/data/dataset_info.html) object that will be required for downstream tasks. The **dataset info** holds all the hyperparameters of the models that are directly derived from the dataset or its processing, e.g., the cutoff distance to determine the graph edges."
      ]
    },
    {
      "cell_type": "code",
      "execution_count": 220,
      "metadata": {
        "colab": {
          "base_uri": "https://localhost:8080/"
        },
        "id": "d6cER4-oroyQ",
        "outputId": "870d48e3-e074-43b3-d0bc-ee5d73557471"
      },
      "outputs": [
        {
          "output_type": "stream",
          "name": "stdout",
          "text": [
            "Dataset info: Atomic Energies: {'H': -723.2941604798493, 'C': -723.2941604798525, 'N': -120.54902674664157, 'O': -60.27451337332064}, Avg. num. neighbors: 16.72, Avg. r_min: 1.00, Graph cutoff distance: 5.0\n",
            "Number of batches in train set: 32\n",
            "Number of batches in validation set: 7\n"
          ]
        }
      ],
      "source": [
        "print(\"Dataset info:\", builder.dataset_info)\n",
        "print(\"Number of batches in train set:\", len(train_set))\n",
        "print(\"Number of batches in validation set:\", len(validation_set))"
      ]
    },
    {
      "cell_type": "markdown",
      "metadata": {
        "id": "OGTiyZ1IlU15"
      },
      "source": [
        "The atomic energies and forces are stored in the `energy` and `forces` attributes of the [`ChemicalSystem`](https://instadeepai.github.io/mlip/api_reference/data/chemical_system.html) objects, respectively. The energies are in [eV](https://en.wikipedia.org/wiki/Electronvolt), and the forces are in eV/[Å](https://en.wikipedia.org/wiki/Angstrom)."
      ]
    },
    {
      "cell_type": "markdown",
      "metadata": {
        "id": "Ts8Pv7Aqo0wp"
      },
      "source": [
        "## 2. Preparing a training loop"
      ]
    },
    {
      "cell_type": "markdown",
      "metadata": {
        "id": "I5_9_VPfxmIr"
      },
      "source": [
        "To start training, we first need to prepare some prerequisites. These are, as for all ML models:\n",
        "- A **model architecture**,\n",
        "- An **optimizer**, and\n",
        "- A **loss function**\n",
        "\n",
        "We start with the **model architecture**:\n",
        "\n",
        "We can use one of the pre-defined models in the *mlip* library, such as MACE, NequIP, or ViSNet. These models are designed to handle molecular graphs and can be configured with various hyperparameters.\n",
        "\n",
        "For this tutorial, we provide the initialization code for MACE, NequIP and ViSnet, but commented out two of them. For all the hyperparameters available, see the documentations of the [MACE config](https://instadeepai.github.io/mlip/api_reference/models/mace.html#mlip.models.mace.config.MaceConfig), the [NequIP config](https://instadeepai.github.io/mlip/api_reference/models/nequip.html#mlip.models.nequip.config.NequipConfig), and the [ViSNet config](https://instadeepai.github.io/mlip/api_reference/models/visnet.html#mlip.models.visnet.config.VisnetConfig).\n",
        "\n",
        "The model creation process includes two steps:\n",
        "* 1: the creation of the MLIP network and\n",
        "* 2:the creation  of the force field.\n",
        "\n",
        "See our [deep-dive on models](https://instadeepai.github.io/mlip/user_guide/models.html) for a detailed explanation of this pattern.\n",
        "\n",
        "**Hint**: try some of the other pre-defined models by uncommenting the lines below and running the cell again. You can also try to change some of the hyperparameters in the config classes, e.g., the number of layers or channels"
      ]
    },
    {
      "cell_type": "code",
      "source": [
        "# run = wandb.init(\n",
        "#     # Set the wandb entity where your project will be logged (generally your team name).\n",
        "#     entity=\"cyberCharl\",\n",
        "#     # Set the wandb project where this run will be logged.\n",
        "#     project=\"Instadeep Hackathon\",\n",
        "#     # Track hyperparameters and run metadata.\n",
        "#     config={\n",
        "#         \"epochs\": 100,\n",
        "#         \"node_irreps\": \"4x0e + 4x0o + 4x1o + 4x1e + 4x2e + 4x2o\",\n",
        "#         \"num_layers\": 4,\n",
        "#         \"weight_decay\": 1e-5,\n",
        "#         \"grad_norm\": 50,\n",
        "#         \"num_gradient_accumulation_steps\": 1,\n",
        "#         \"init_learning_rate\": 5e-4,  # Start a bit higher\n",
        "#         \"peak_learning_rate\": 2e-3,  # Target higher peak\n",
        "#         \"final_learning_rate\": 1e-4,  # Decay to a lower final LR\n",
        "#         \"warmup_steps\": 10000,  # Adjusted for your dataset size and epoch count (approx 5 epochs)\n",
        "#         \"transition_steps\": 1840000,\n",
        "#         \"energy_weight\": 500.0\n",
        "#     },\n",
        "# )"
      ],
      "metadata": {
        "id": "Y54QCG8GVOou"
      },
      "execution_count": 221,
      "outputs": []
    },
    {
      "cell_type": "code",
      "execution_count": 222,
      "metadata": {
        "id": "Q4VU3zb6o1_9"
      },
      "outputs": [],
      "source": [
        "sweep_config = {\n",
        "    'method': 'bayes',  # or 'grid', 'random'\n",
        "    'metric': {\n",
        "        'name': 'val_loss',  # This should match your logged metric\n",
        "        'goal': 'minimize'\n",
        "    },\n",
        "    'parameters': {\n",
        "        'num_layers': {'values': [2, 4, 6]},\n",
        "        'init_learning_rate': {'min': 1e-4, 'max': 5e-3},\n",
        "        'peak_learning_rate': {'min': 1e-3, 'max': 5e-3},\n",
        "        'final_learning_rate': {'min': 1e-5, 'max': 1e-3},\n",
        "        'weight_decay': {'min': 1e-6, 'max': 1e-3},\n",
        "        'energy_weight': {'values': [100.0, 500.0, 1000.0]}\n",
        "        # Add more as needed\n",
        "    }\n",
        "}"
      ]
    },
    {
      "cell_type": "markdown",
      "metadata": {
        "id": "KZPgyPdplU16"
      },
      "source": [
        "The force field will be the essential object required for the\n",
        "\n",
        "---\n",
        "\n",
        "training below, as well as for running MD simulations."
      ]
    },
    {
      "cell_type": "code",
      "source": [
        "import wandb\n",
        "run = wandb.init(\n",
        "    # Set the wandb entity where your project will be logged (generally your team name).\n",
        "    entity=\"cybercharl-ai-safety-south-africa\",\n",
        "    # Set the wandb project where this run will be logged.\n",
        "    project=\"instadeep-hackathon-2025\",\n",
        "    # Track hyperparameters and run metadata.\n",
        "    config={\n",
        "        \"epochs\": 100,\n",
        "        \"node_irreps\": \"4x0e + 4x0o + 4x1o + 4x1e + 4x2e + 4x2o\",\n",
        "        \"num_layers\": 4,\n",
        "        \"weight_decay\": 1e-5,\n",
        "        \"grad_norm\": 50,\n",
        "        \"num_gradient_accumulation_steps\": 1,\n",
        "        \"init_learning_rate\": 5e-4,  # Start a bit higher\n",
        "        \"peak_learning_rate\": 2e-3,  # Target higher peak\n",
        "        \"final_learning_rate\": 1e-4,  # Decay to a lower final LR\n",
        "        \"warmup_steps\": 10000,  # Adjusted for your dataset size and epoch count (approx 5 epochs)\n",
        "        \"transition_steps\": 1840000,\n",
        "        \"energy_weight\": 500.0\n",
        "    }\n",
        ")\n",
        "\n",
        "def train():\n",
        "    # 1. Initialize wandb run\n",
        "    run = wandb.init() # Commented out this line as the sweep will handle init\n",
        "    config = run.config\n",
        "\n",
        "    # 2. Build model with sweep hyperparameters\n",
        "    mlip_network = Nequip(\n",
        "        Nequip.Config(\n",
        "            node_irreps=\"4x0e + 4x0o + 4x1o + 4x1e + 4x2e + 4x2o\",  # or sweep this too\n",
        "            num_layers=config.num_layers,\n",
        "        ),\n",
        "        builder.dataset_info,\n",
        "    )\n",
        "    force_field = ForceField.from_mlip_network(mlip_network)\n",
        "\n",
        "    # 3. Optimizer config\n",
        "    from mlip.training.optimizer_config import OptimizerConfig # Import here\n",
        "    optimizer_config = OptimizerConfig(\n",
        "        apply_weight_decay_mask=True,\n",
        "        weight_decay=config.weight_decay,\n",
        "        grad_norm=50,  # or config.grad_norm\n",
        "        num_gradient_accumulation_steps=1,\n",
        "        init_learning_rate=config.init_learning_rate,\n",
        "        peak_learning_rate=config.peak_learning_rate,\n",
        "        final_learning_rate=config.final_learning_rate,\n",
        "        warmup_steps=10000,  # or config.warmup_steps\n",
        "        transition_steps=1840000,  # or config.transition_steps\n",
        "    )\n",
        "    from mlip.training.optimizer import get_default_mlip_optimizer # Import here\n",
        "    optimizer = get_default_mlip_optimizer(optimizer_config)\n",
        "\n",
        "    # 4. Loss and training config\n",
        "    from mlip.models.loss import MSELoss # Import here\n",
        "    loss = MSELoss()\n",
        "    from mlip.training import TrainingLoop # Import here\n",
        "    training_config = TrainingLoop.Config(\n",
        "        num_epochs=100,  # or config.epochs\n",
        "        energy_weight=config.energy_weight,\n",
        "        force_weight=0,  # or config.force_weight\n",
        "    )\n",
        "\n",
        "    # 5. IO handler and logger\n",
        "    from mlip.training import TrainingIOHandler, log_metrics_to_line # Import here\n",
        "    io_handler = TrainingIOHandler(\n",
        "        TrainingIOHandler.Config(local_model_output_dir=\"training/model_training\")\n",
        "    )\n",
        "    io_handler.attach_logger(log_metrics_to_line)\n",
        "\n",
        "    # Custom logger to log val_loss to wandb\n",
        "    from mlip.training.training_io_handler import LogCategory # Import here\n",
        "    def wandb_logger(category, to_log, epoch_number):\n",
        "        if category == LogCategory.EVAL_METRICS:\n",
        "          run.log(to_log) # Log val_loss with step\n",
        "\n",
        "\n",
        "    io_handler.attach_logger(wandb_logger)\n",
        "\n",
        "    # 6. Training loop\n",
        "    training_loop = TrainingLoop(\n",
        "        train_dataset=train_set,\n",
        "        validation_dataset=validation_set,\n",
        "        force_field=force_field,\n",
        "        loss=loss,\n",
        "        optimizer=optimizer,\n",
        "        config=training_config,\n",
        "        io_handler=io_handler,\n",
        "    )\n",
        "    training_loop.run()\n",
        "\n",
        "    # Save the best model\n",
        "    save_model_to_zip(f\"training/model_{wandb.run.id}.zip\", training_loop.best_model)\n",
        "\n",
        "    # Run inference and save CSV\n",
        "    from ase.io import read as ase_read\n",
        "    test_data = \"data/test_public.xyz\"\n",
        "    structures = ase_read(test_data, index=\":\")\n",
        "\n",
        "    from mlip.inference import run_batched_inference\n",
        "    predictions = run_batched_inference(structures, training_loop.best_model, batch_size=8)\n",
        "    energies = np.array([prediction.energy for prediction in predictions])\n",
        "\n",
        "    df = pd.DataFrame({\n",
        "        'ID': np.arange(len(energies)),\n",
        "        'energies': energies\n",
        "    })\n",
        "\n",
        "    csv_name = f\"{wandb.run.id}_submission.csv\"\n",
        "    df.to_csv(csv_name, index=False)\n",
        "    wandb.save(csv_name)  # Uploads to wandb for easy download\n",
        "\n",
        "sweep_id = wandb.sweep(sweep_config, project=\"instadeep-hackathon-2025\")\n",
        "wandb.agent(sweep_id, function=train)"
      ],
      "metadata": {
        "colab": {
          "base_uri": "https://localhost:8080/",
          "height": 1000
        },
        "id": "Vjj8bbvpbY_C",
        "outputId": "d2d48adb-d343-4fc7-82ae-be12749ae4b0"
      },
      "execution_count": null,
      "outputs": [
        {
          "output_type": "display_data",
          "data": {
            "text/plain": [
              "<IPython.core.display.HTML object>"
            ],
            "text/html": [
              "Finishing previous runs because reinit is set to 'default'."
            ]
          },
          "metadata": {}
        },
        {
          "output_type": "display_data",
          "data": {
            "text/plain": [
              "<IPython.core.display.HTML object>"
            ],
            "text/html": []
          },
          "metadata": {}
        },
        {
          "output_type": "display_data",
          "data": {
            "text/plain": [
              "<IPython.core.display.HTML object>"
            ],
            "text/html": [
              " View run <strong style=\"color:#cdcd00\">cosmic-forest-3</strong> at: <a href='https://wandb.ai/cybercharl-ai-safety-south-africa/instadeep-hackathon-2025/runs/9vby5ypg' target=\"_blank\">https://wandb.ai/cybercharl-ai-safety-south-africa/instadeep-hackathon-2025/runs/9vby5ypg</a><br> View project at: <a href='https://wandb.ai/cybercharl-ai-safety-south-africa/instadeep-hackathon-2025' target=\"_blank\">https://wandb.ai/cybercharl-ai-safety-south-africa/instadeep-hackathon-2025</a><br>Synced 5 W&B file(s), 0 media file(s), 0 artifact file(s) and 0 other file(s)"
            ]
          },
          "metadata": {}
        },
        {
          "output_type": "display_data",
          "data": {
            "text/plain": [
              "<IPython.core.display.HTML object>"
            ],
            "text/html": [
              "Find logs at: <code>./wandb/run-20250709_185615-9vby5ypg/logs</code>"
            ]
          },
          "metadata": {}
        },
        {
          "output_type": "display_data",
          "data": {
            "text/plain": [
              "<IPython.core.display.HTML object>"
            ],
            "text/html": [
              "Tracking run with wandb version 0.21.0"
            ]
          },
          "metadata": {}
        },
        {
          "output_type": "display_data",
          "data": {
            "text/plain": [
              "<IPython.core.display.HTML object>"
            ],
            "text/html": [
              "Run data is saved locally in <code>/content/wandb/run-20250709_185724-mk1cbou8</code>"
            ]
          },
          "metadata": {}
        },
        {
          "output_type": "display_data",
          "data": {
            "text/plain": [
              "<IPython.core.display.HTML object>"
            ],
            "text/html": [
              "Syncing run <strong><a href='https://wandb.ai/cybercharl-ai-safety-south-africa/instadeep-hackathon-2025/runs/mk1cbou8' target=\"_blank\">breezy-fire-4</a></strong> to <a href='https://wandb.ai/cybercharl-ai-safety-south-africa/instadeep-hackathon-2025' target=\"_blank\">Weights & Biases</a> (<a href='https://wandb.me/developer-guide' target=\"_blank\">docs</a>)<br>"
            ]
          },
          "metadata": {}
        },
        {
          "output_type": "display_data",
          "data": {
            "text/plain": [
              "<IPython.core.display.HTML object>"
            ],
            "text/html": [
              " View project at <a href='https://wandb.ai/cybercharl-ai-safety-south-africa/instadeep-hackathon-2025' target=\"_blank\">https://wandb.ai/cybercharl-ai-safety-south-africa/instadeep-hackathon-2025</a>"
            ]
          },
          "metadata": {}
        },
        {
          "output_type": "display_data",
          "data": {
            "text/plain": [
              "<IPython.core.display.HTML object>"
            ],
            "text/html": [
              " View run at <a href='https://wandb.ai/cybercharl-ai-safety-south-africa/instadeep-hackathon-2025/runs/mk1cbou8' target=\"_blank\">https://wandb.ai/cybercharl-ai-safety-south-africa/instadeep-hackathon-2025/runs/mk1cbou8</a>"
            ]
          },
          "metadata": {}
        },
        {
          "output_type": "stream",
          "name": "stderr",
          "text": [
            "ERROR - Task was destroyed but it is pending!\n",
            "task: <Task cancelling name='Task-86786' coro=<Event.wait() running at /usr/lib/python3.11/asyncio/locks.py:213> wait_for=<Future cancelled>>\n",
            "\u001b[34m\u001b[1mwandb\u001b[0m: \u001b[33mWARNING\u001b[0m Calling wandb.login() after wandb.init() has no effect.\n"
          ]
        },
        {
          "output_type": "stream",
          "name": "stdout",
          "text": [
            "Create sweep with ID: 156uxkmm\n",
            "Sweep URL: https://wandb.ai/cybercharl-ai-safety-south-africa/instadeep-hackathon-2025/sweeps/156uxkmm\n"
          ]
        },
        {
          "output_type": "stream",
          "name": "stderr",
          "text": [
            "\u001b[34m\u001b[1mwandb\u001b[0m: Agent Starting Run: qubguh2d with config:\n",
            "\u001b[34m\u001b[1mwandb\u001b[0m: \tenergy_weight: 500\n",
            "\u001b[34m\u001b[1mwandb\u001b[0m: \tfinal_learning_rate: 0.00027571455565362585\n",
            "\u001b[34m\u001b[1mwandb\u001b[0m: \tinit_learning_rate: 0.000585894064037785\n",
            "\u001b[34m\u001b[1mwandb\u001b[0m: \tnum_layers: 2\n",
            "\u001b[34m\u001b[1mwandb\u001b[0m: \tpeak_learning_rate: 0.0028892082906843974\n",
            "\u001b[34m\u001b[1mwandb\u001b[0m: \tweight_decay: 0.000806450734688251\n"
          ]
        },
        {
          "output_type": "display_data",
          "data": {
            "text/plain": [
              "<IPython.core.display.HTML object>"
            ],
            "text/html": [
              "Tracking run with wandb version 0.21.0"
            ]
          },
          "metadata": {}
        },
        {
          "output_type": "display_data",
          "data": {
            "text/plain": [
              "<IPython.core.display.HTML object>"
            ],
            "text/html": [
              "Run data is saved locally in <code>/content/wandb/run-20250709_185731-qubguh2d</code>"
            ]
          },
          "metadata": {}
        },
        {
          "output_type": "display_data",
          "data": {
            "text/plain": [
              "<IPython.core.display.HTML object>"
            ],
            "text/html": [
              "Syncing run <strong><a href='https://wandb.ai/cybercharl-ai-safety-south-africa/instadeep-hackathon-2025/runs/qubguh2d' target=\"_blank\">giddy-sweep-1</a></strong> to <a href='https://wandb.ai/cybercharl-ai-safety-south-africa/instadeep-hackathon-2025' target=\"_blank\">Weights & Biases</a> (<a href='https://wandb.me/developer-guide' target=\"_blank\">docs</a>)<br>Sweep page: <a href='https://wandb.ai/cybercharl-ai-safety-south-africa/instadeep-hackathon-2025/sweeps/156uxkmm' target=\"_blank\">https://wandb.ai/cybercharl-ai-safety-south-africa/instadeep-hackathon-2025/sweeps/156uxkmm</a>"
            ]
          },
          "metadata": {}
        },
        {
          "output_type": "display_data",
          "data": {
            "text/plain": [
              "<IPython.core.display.HTML object>"
            ],
            "text/html": [
              " View project at <a href='https://wandb.ai/cybercharl-ai-safety-south-africa/instadeep-hackathon-2025' target=\"_blank\">https://wandb.ai/cybercharl-ai-safety-south-africa/instadeep-hackathon-2025</a>"
            ]
          },
          "metadata": {}
        },
        {
          "output_type": "display_data",
          "data": {
            "text/plain": [
              "<IPython.core.display.HTML object>"
            ],
            "text/html": [
              " View sweep at <a href='https://wandb.ai/cybercharl-ai-safety-south-africa/instadeep-hackathon-2025/sweeps/156uxkmm' target=\"_blank\">https://wandb.ai/cybercharl-ai-safety-south-africa/instadeep-hackathon-2025/sweeps/156uxkmm</a>"
            ]
          },
          "metadata": {}
        },
        {
          "output_type": "display_data",
          "data": {
            "text/plain": [
              "<IPython.core.display.HTML object>"
            ],
            "text/html": [
              " View run at <a href='https://wandb.ai/cybercharl-ai-safety-south-africa/instadeep-hackathon-2025/runs/qubguh2d' target=\"_blank\">https://wandb.ai/cybercharl-ai-safety-south-africa/instadeep-hackathon-2025/runs/qubguh2d</a>"
            ]
          },
          "metadata": {}
        },
        {
          "output_type": "stream",
          "name": "stderr",
          "text": [
            "INFO - Cleaning up existing temporary directories at /content/training/model_training/model.\n",
            "INFO - Number of parameters: 29098\n",
            "INFO - Number of parameters in optimizer: 116398\n",
            "INFO - Starting training loop...\n",
            "INFO - Validation: Loss = 87.034 | Mae e = 3.000 | Mae f = 1.389 | Rmse e = 3.066 | Rmse f = 1.866\n",
            "INFO - Best model: Loss = 87.034 | Best epoch = 0\n"
          ]
        },
        {
          "output_type": "stream",
          "name": "stdout",
          "text": [
            "here??\n"
          ]
        },
        {
          "output_type": "stream",
          "name": "stderr",
          "text": [
            "INFO - ------------ Epoch 1 ------------\n",
            "INFO - Training:   Loss = 22.330 | Gradient norm = 0.760 | Param update norm = 0.084 | Runtime in seconds = 13.467\n",
            "INFO - Validation: Loss = 86.395 | Mae e = 3.152 | Mae f = 1.383 | Rmse e = 3.215 | Rmse f = 1.859\n",
            "INFO - Saving checkpoint at epoch 1...\n",
            "INFO - Best model: Loss = 86.395 | Best epoch = 1\n"
          ]
        },
        {
          "output_type": "stream",
          "name": "stdout",
          "text": [
            "here??\n"
          ]
        },
        {
          "output_type": "stream",
          "name": "stderr",
          "text": [
            "INFO - ------------ Epoch 2 ------------\n",
            "INFO - Training:   Loss = 21.347 | Gradient norm = 2.438 | Param update norm = 0.088 | Runtime in seconds = 0.294\n",
            "INFO - Validation: Loss = 84.800 | Mae e = 3.510 | Mae f = 1.370 | Rmse e = 3.566 | Rmse f = 1.842\n",
            "INFO - Saving checkpoint at epoch 2...\n",
            "INFO - Best model: Loss = 84.800 | Best epoch = 2\n"
          ]
        },
        {
          "output_type": "stream",
          "name": "stdout",
          "text": [
            "here??\n"
          ]
        },
        {
          "output_type": "stream",
          "name": "stderr",
          "text": [
            "INFO - ------------ Epoch 3 ------------\n",
            "INFO - Training:   Loss = 17.062 | Gradient norm = 6.496 | Param update norm = 0.100 | Runtime in seconds = 0.432\n",
            "INFO - Validation: Loss = 79.606 | Mae e = 4.522 | Mae f = 1.327 | Rmse e = 4.565 | Rmse f = 1.784\n",
            "INFO - Saving checkpoint at epoch 3...\n",
            "INFO - Best model: Loss = 79.606 | Best epoch = 3\n"
          ]
        },
        {
          "output_type": "stream",
          "name": "stdout",
          "text": [
            "here??\n"
          ]
        },
        {
          "output_type": "stream",
          "name": "stderr",
          "text": [
            "INFO - ------------ Epoch 4 ------------\n",
            "INFO - Training:   Loss = 11.498 | Gradient norm = 6.398 | Param update norm = 0.089 | Runtime in seconds = 0.259\n",
            "INFO - Validation: Loss = 70.259 | Mae e = 6.336 | Mae f = 1.247 | Rmse e = 6.365 | Rmse f = 1.676\n",
            "INFO - Saving checkpoint at epoch 4...\n",
            "INFO - Best model: Loss = 70.259 | Best epoch = 4\n"
          ]
        },
        {
          "output_type": "stream",
          "name": "stdout",
          "text": [
            "here??\n"
          ]
        },
        {
          "output_type": "stream",
          "name": "stderr",
          "text": [
            "INFO - ------------ Epoch 5 ------------\n",
            "INFO - Training:   Loss = 7.958 | Gradient norm = 4.455 | Param update norm = 0.067 | Runtime in seconds = 0.268\n",
            "INFO - Validation: Loss = 58.912 | Mae e = 8.629 | Mae f = 1.139 | Rmse e = 8.649 | Rmse f = 1.534\n",
            "INFO - Saving checkpoint at epoch 5...\n",
            "INFO - Best model: Loss = 58.912 | Best epoch = 5\n"
          ]
        },
        {
          "output_type": "stream",
          "name": "stdout",
          "text": [
            "here??\n"
          ]
        },
        {
          "output_type": "stream",
          "name": "stderr",
          "text": [
            "INFO - ------------ Epoch 6 ------------\n",
            "INFO - Training:   Loss = 6.814 | Gradient norm = 4.101 | Param update norm = 0.051 | Runtime in seconds = 0.264\n",
            "INFO - Validation: Loss = 49.111 | Mae e = 10.616 | Mae f = 1.036 | Rmse e = 10.630 | Rmse f = 1.399\n",
            "INFO - Saving checkpoint at epoch 6...\n",
            "INFO - Best model: Loss = 49.111 | Best epoch = 6\n"
          ]
        },
        {
          "output_type": "stream",
          "name": "stdout",
          "text": [
            "here??\n"
          ]
        },
        {
          "output_type": "stream",
          "name": "stderr",
          "text": [
            "INFO - ------------ Epoch 7 ------------\n",
            "INFO - Training:   Loss = 6.196 | Gradient norm = 3.778 | Param update norm = 0.043 | Runtime in seconds = 0.431\n",
            "INFO - Validation: Loss = 41.424 | Mae e = 12.097 | Mae f = 0.947 | Rmse e = 12.109 | Rmse f = 1.284\n",
            "INFO - Saving checkpoint at epoch 7...\n",
            "INFO - Best model: Loss = 41.424 | Best epoch = 7\n"
          ]
        },
        {
          "output_type": "stream",
          "name": "stdout",
          "text": [
            "here??\n"
          ]
        },
        {
          "output_type": "stream",
          "name": "stderr",
          "text": [
            "INFO - ------------ Epoch 8 ------------\n",
            "INFO - Training:   Loss = 5.795 | Gradient norm = 3.514 | Param update norm = 0.038 | Runtime in seconds = 0.267\n",
            "INFO - Validation: Loss = 35.654 | Mae e = 13.094 | Mae f = 0.874 | Rmse e = 13.104 | Rmse f = 1.190\n",
            "INFO - Saving checkpoint at epoch 8...\n",
            "INFO - Best model: Loss = 35.654 | Best epoch = 8\n"
          ]
        },
        {
          "output_type": "stream",
          "name": "stdout",
          "text": [
            "here??\n"
          ]
        },
        {
          "output_type": "stream",
          "name": "stderr",
          "text": [
            "INFO - ------------ Epoch 9 ------------\n",
            "INFO - Training:   Loss = 5.496 | Gradient norm = 3.735 | Param update norm = 0.035 | Runtime in seconds = 0.264\n",
            "INFO - Validation: Loss = 31.278 | Mae e = 13.788 | Mae f = 0.815 | Rmse e = 13.797 | Rmse f = 1.114\n",
            "INFO - Saving checkpoint at epoch 9...\n",
            "INFO - Best model: Loss = 31.278 | Best epoch = 9\n"
          ]
        },
        {
          "output_type": "stream",
          "name": "stdout",
          "text": [
            "here??\n"
          ]
        },
        {
          "output_type": "stream",
          "name": "stderr",
          "text": [
            "INFO - ------------ Epoch 10 ------------\n",
            "INFO - Training:   Loss = 5.243 | Gradient norm = 3.252 | Param update norm = 0.032 | Runtime in seconds = 0.270\n",
            "INFO - Validation: Loss = 27.925 | Mae e = 14.296 | Mae f = 0.767 | Rmse e = 14.304 | Rmse f = 1.052\n",
            "INFO - Saving checkpoint at epoch 10...\n",
            "INFO - Best model: Loss = 27.925 | Best epoch = 10\n"
          ]
        },
        {
          "output_type": "stream",
          "name": "stdout",
          "text": [
            "here??\n"
          ]
        },
        {
          "output_type": "stream",
          "name": "stderr",
          "text": [
            "INFO - ------------ Epoch 11 ------------\n",
            "INFO - Training:   Loss = 5.032 | Gradient norm = 4.211 | Param update norm = 0.031 | Runtime in seconds = 0.260\n",
            "INFO - Validation: Loss = 25.363 | Mae e = 14.682 | Mae f = 0.728 | Rmse e = 14.690 | Rmse f = 1.001\n",
            "INFO - Saving checkpoint at epoch 11...\n",
            "INFO - Best model: Loss = 25.363 | Best epoch = 11\n"
          ]
        },
        {
          "output_type": "stream",
          "name": "stdout",
          "text": [
            "here??\n"
          ]
        },
        {
          "output_type": "stream",
          "name": "stderr",
          "text": [
            "INFO - ------------ Epoch 12 ------------\n",
            "INFO - Training:   Loss = 4.849 | Gradient norm = 5.166 | Param update norm = 0.031 | Runtime in seconds = 0.433\n",
            "INFO - Validation: Loss = 23.417 | Mae e = 14.963 | Mae f = 0.698 | Rmse e = 14.970 | Rmse f = 0.961\n",
            "INFO - Saving checkpoint at epoch 12...\n",
            "INFO - Best model: Loss = 23.417 | Best epoch = 12\n"
          ]
        },
        {
          "output_type": "stream",
          "name": "stdout",
          "text": [
            "here??\n"
          ]
        },
        {
          "output_type": "stream",
          "name": "stderr",
          "text": [
            "INFO - ------------ Epoch 13 ------------\n",
            "INFO - Training:   Loss = 4.652 | Gradient norm = 4.344 | Param update norm = 0.028 | Runtime in seconds = 0.266\n",
            "INFO - Validation: Loss = 21.892 | Mae e = 15.167 | Mae f = 0.674 | Rmse e = 15.174 | Rmse f = 0.929\n",
            "INFO - Saving checkpoint at epoch 13...\n",
            "INFO - Best model: Loss = 21.892 | Best epoch = 13\n"
          ]
        },
        {
          "output_type": "stream",
          "name": "stdout",
          "text": [
            "here??\n"
          ]
        },
        {
          "output_type": "stream",
          "name": "stderr",
          "text": [
            "INFO - ------------ Epoch 14 ------------\n",
            "INFO - Training:   Loss = 4.485 | Gradient norm = 4.806 | Param update norm = 0.028 | Runtime in seconds = 0.427\n",
            "INFO - Validation: Loss = 20.685 | Mae e = 15.308 | Mae f = 0.655 | Rmse e = 15.315 | Rmse f = 0.903\n",
            "INFO - Saving checkpoint at epoch 14...\n",
            "INFO - Best model: Loss = 20.685 | Best epoch = 14\n"
          ]
        },
        {
          "output_type": "stream",
          "name": "stdout",
          "text": [
            "here??\n"
          ]
        },
        {
          "output_type": "stream",
          "name": "stderr",
          "text": [
            "INFO - ------------ Epoch 15 ------------\n",
            "INFO - Training:   Loss = 4.317 | Gradient norm = 5.409 | Param update norm = 0.027 | Runtime in seconds = 0.281\n",
            "INFO - Validation: Loss = 19.698 | Mae e = 15.375 | Mae f = 0.639 | Rmse e = 15.381 | Rmse f = 0.880\n",
            "INFO - Saving checkpoint at epoch 15...\n",
            "INFO - Best model: Loss = 19.698 | Best epoch = 15\n"
          ]
        },
        {
          "output_type": "stream",
          "name": "stdout",
          "text": [
            "here??\n"
          ]
        },
        {
          "output_type": "stream",
          "name": "stderr",
          "text": [
            "INFO - ------------ Epoch 16 ------------\n",
            "INFO - Training:   Loss = 4.146 | Gradient norm = 4.741 | Param update norm = 0.026 | Runtime in seconds = 0.349\n",
            "INFO - Validation: Loss = 18.856 | Mae e = 15.412 | Mae f = 0.626 | Rmse e = 15.418 | Rmse f = 0.861\n",
            "INFO - Saving checkpoint at epoch 16...\n",
            "INFO - Best model: Loss = 18.856 | Best epoch = 16\n"
          ]
        },
        {
          "output_type": "stream",
          "name": "stdout",
          "text": [
            "here??\n"
          ]
        },
        {
          "output_type": "stream",
          "name": "stderr",
          "text": [
            "INFO - ------------ Epoch 17 ------------\n",
            "INFO - Training:   Loss = 3.994 | Gradient norm = 5.785 | Param update norm = 0.027 | Runtime in seconds = 0.443\n",
            "INFO - Validation: Loss = 18.139 | Mae e = 15.389 | Mae f = 0.614 | Rmse e = 15.395 | Rmse f = 0.844\n",
            "INFO - Saving checkpoint at epoch 17...\n",
            "INFO - Best model: Loss = 18.139 | Best epoch = 17\n"
          ]
        },
        {
          "output_type": "stream",
          "name": "stdout",
          "text": [
            "here??\n"
          ]
        },
        {
          "output_type": "stream",
          "name": "stderr",
          "text": [
            "INFO - ------------ Epoch 18 ------------\n",
            "INFO - Training:   Loss = 3.841 | Gradient norm = 6.331 | Param update norm = 0.026 | Runtime in seconds = 0.317\n",
            "INFO - Validation: Loss = 17.499 | Mae e = 15.290 | Mae f = 0.604 | Rmse e = 15.297 | Rmse f = 0.829\n",
            "INFO - Saving checkpoint at epoch 18...\n",
            "INFO - Best model: Loss = 17.499 | Best epoch = 18\n"
          ]
        },
        {
          "output_type": "stream",
          "name": "stdout",
          "text": [
            "here??\n"
          ]
        },
        {
          "output_type": "stream",
          "name": "stderr",
          "text": [
            "INFO - ------------ Epoch 19 ------------\n",
            "INFO - Training:   Loss = 3.698 | Gradient norm = 6.612 | Param update norm = 0.027 | Runtime in seconds = 0.336\n",
            "INFO - Validation: Loss = 16.929 | Mae e = 15.143 | Mae f = 0.594 | Rmse e = 15.150 | Rmse f = 0.815\n",
            "INFO - Saving checkpoint at epoch 19...\n",
            "INFO - Best model: Loss = 16.929 | Best epoch = 19\n"
          ]
        },
        {
          "output_type": "stream",
          "name": "stdout",
          "text": [
            "here??\n"
          ]
        },
        {
          "output_type": "stream",
          "name": "stderr",
          "text": [
            "INFO - ------------ Epoch 20 ------------\n",
            "INFO - Training:   Loss = 3.571 | Gradient norm = 8.884 | Param update norm = 0.027 | Runtime in seconds = 0.326\n",
            "INFO - Validation: Loss = 16.391 | Mae e = 14.965 | Mae f = 0.585 | Rmse e = 14.971 | Rmse f = 0.802\n",
            "INFO - Saving checkpoint at epoch 20...\n",
            "INFO - Best model: Loss = 16.391 | Best epoch = 20\n"
          ]
        },
        {
          "output_type": "stream",
          "name": "stdout",
          "text": [
            "here??\n"
          ]
        },
        {
          "output_type": "stream",
          "name": "stderr",
          "text": [
            "INFO - ------------ Epoch 21 ------------\n",
            "INFO - Training:   Loss = 3.408 | Gradient norm = 6.412 | Param update norm = 0.024 | Runtime in seconds = 0.471\n",
            "INFO - Validation: Loss = 15.913 | Mae e = 14.694 | Mae f = 0.576 | Rmse e = 14.701 | Rmse f = 0.790\n",
            "INFO - Saving checkpoint at epoch 21...\n",
            "INFO - Best model: Loss = 15.913 | Best epoch = 21\n"
          ]
        },
        {
          "output_type": "stream",
          "name": "stdout",
          "text": [
            "here??\n"
          ]
        },
        {
          "output_type": "stream",
          "name": "stderr",
          "text": [
            "INFO - ------------ Epoch 22 ------------\n",
            "INFO - Training:   Loss = 3.286 | Gradient norm = 7.066 | Param update norm = 0.024 | Runtime in seconds = 0.264\n",
            "INFO - Validation: Loss = 15.430 | Mae e = 14.398 | Mae f = 0.568 | Rmse e = 14.404 | Rmse f = 0.778\n",
            "INFO - Saving checkpoint at epoch 22...\n",
            "INFO - Best model: Loss = 15.430 | Best epoch = 22\n"
          ]
        },
        {
          "output_type": "stream",
          "name": "stdout",
          "text": [
            "here??\n"
          ]
        },
        {
          "output_type": "stream",
          "name": "stderr",
          "text": [
            "INFO - ------------ Epoch 23 ------------\n",
            "INFO - Training:   Loss = 3.161 | Gradient norm = 7.659 | Param update norm = 0.024 | Runtime in seconds = 0.263\n",
            "INFO - Validation: Loss = 14.997 | Mae e = 14.010 | Mae f = 0.560 | Rmse e = 14.016 | Rmse f = 0.768\n",
            "INFO - Saving checkpoint at epoch 23...\n",
            "INFO - Best model: Loss = 14.997 | Best epoch = 23\n"
          ]
        },
        {
          "output_type": "stream",
          "name": "stdout",
          "text": [
            "here??\n"
          ]
        },
        {
          "output_type": "stream",
          "name": "stderr",
          "text": [
            "INFO - ------------ Epoch 24 ------------\n",
            "INFO - Training:   Loss = 3.039 | Gradient norm = 8.095 | Param update norm = 0.024 | Runtime in seconds = 0.436\n",
            "INFO - Validation: Loss = 14.573 | Mae e = 13.552 | Mae f = 0.552 | Rmse e = 13.559 | Rmse f = 0.757\n",
            "INFO - Saving checkpoint at epoch 24...\n",
            "INFO - Best model: Loss = 14.573 | Best epoch = 24\n"
          ]
        },
        {
          "output_type": "stream",
          "name": "stdout",
          "text": [
            "here??\n"
          ]
        },
        {
          "output_type": "stream",
          "name": "stderr",
          "text": [
            "INFO - ------------ Epoch 25 ------------\n",
            "INFO - Training:   Loss = 2.932 | Gradient norm = 8.859 | Param update norm = 0.025 | Runtime in seconds = 0.260\n",
            "INFO - Validation: Loss = 14.174 | Mae e = 13.024 | Mae f = 0.545 | Rmse e = 13.031 | Rmse f = 0.747\n",
            "INFO - Saving checkpoint at epoch 25...\n",
            "INFO - Best model: Loss = 14.174 | Best epoch = 25\n"
          ]
        },
        {
          "output_type": "stream",
          "name": "stdout",
          "text": [
            "here??\n"
          ]
        },
        {
          "output_type": "stream",
          "name": "stderr",
          "text": [
            "INFO - ------------ Epoch 26 ------------\n",
            "INFO - Training:   Loss = 2.817 | Gradient norm = 8.108 | Param update norm = 0.024 | Runtime in seconds = 0.305\n",
            "INFO - Validation: Loss = 13.776 | Mae e = 12.461 | Mae f = 0.537 | Rmse e = 12.468 | Rmse f = 0.737\n",
            "INFO - Saving checkpoint at epoch 26...\n",
            "INFO - Best model: Loss = 13.776 | Best epoch = 26\n"
          ]
        },
        {
          "output_type": "stream",
          "name": "stdout",
          "text": [
            "here??\n"
          ]
        },
        {
          "output_type": "stream",
          "name": "stderr",
          "text": [
            "INFO - ------------ Epoch 27 ------------\n",
            "INFO - Training:   Loss = 2.693 | Gradient norm = 7.334 | Param update norm = 0.022 | Runtime in seconds = 0.452\n",
            "INFO - Validation: Loss = 13.381 | Mae e = 11.849 | Mae f = 0.530 | Rmse e = 11.855 | Rmse f = 0.726\n",
            "INFO - Saving checkpoint at epoch 27...\n",
            "INFO - Best model: Loss = 13.381 | Best epoch = 27\n"
          ]
        },
        {
          "output_type": "stream",
          "name": "stdout",
          "text": [
            "here??\n"
          ]
        },
        {
          "output_type": "stream",
          "name": "stderr",
          "text": [
            "INFO - ------------ Epoch 28 ------------\n",
            "INFO - Training:   Loss = 2.603 | Gradient norm = 11.282 | Param update norm = 0.024 | Runtime in seconds = 0.445\n",
            "INFO - Validation: Loss = 13.000 | Mae e = 11.212 | Mae f = 0.523 | Rmse e = 11.219 | Rmse f = 0.716\n",
            "INFO - Saving checkpoint at epoch 28...\n",
            "INFO - Best model: Loss = 13.000 | Best epoch = 28\n"
          ]
        },
        {
          "output_type": "stream",
          "name": "stdout",
          "text": [
            "here??\n"
          ]
        },
        {
          "output_type": "stream",
          "name": "stderr",
          "text": [
            "INFO - ------------ Epoch 29 ------------\n",
            "INFO - Training:   Loss = 2.478 | Gradient norm = 10.272 | Param update norm = 0.022 | Runtime in seconds = 0.473\n",
            "INFO - Validation: Loss = 12.605 | Mae e = 10.571 | Mae f = 0.516 | Rmse e = 10.578 | Rmse f = 0.706\n",
            "INFO - Saving checkpoint at epoch 29...\n",
            "INFO - Best model: Loss = 12.605 | Best epoch = 29\n"
          ]
        },
        {
          "output_type": "stream",
          "name": "stdout",
          "text": [
            "here??\n"
          ]
        },
        {
          "output_type": "stream",
          "name": "stderr",
          "text": [
            "INFO - ------------ Epoch 30 ------------\n",
            "INFO - Training:   Loss = 2.372 | Gradient norm = 8.334 | Param update norm = 0.022 | Runtime in seconds = 0.356\n",
            "INFO - Validation: Loss = 12.214 | Mae e = 9.916 | Mae f = 0.508 | Rmse e = 9.923 | Rmse f = 0.695\n",
            "INFO - Saving checkpoint at epoch 30...\n",
            "INFO - Best model: Loss = 12.214 | Best epoch = 30\n"
          ]
        },
        {
          "output_type": "stream",
          "name": "stdout",
          "text": [
            "here??\n"
          ]
        },
        {
          "output_type": "stream",
          "name": "stderr",
          "text": [
            "INFO - ------------ Epoch 31 ------------\n",
            "INFO - Training:   Loss = 2.276 | Gradient norm = 9.202 | Param update norm = 0.023 | Runtime in seconds = 0.421\n",
            "INFO - Validation: Loss = 11.842 | Mae e = 9.243 | Mae f = 0.501 | Rmse e = 9.251 | Rmse f = 0.685\n",
            "INFO - Saving checkpoint at epoch 31...\n",
            "INFO - Best model: Loss = 11.842 | Best epoch = 31\n"
          ]
        },
        {
          "output_type": "stream",
          "name": "stdout",
          "text": [
            "here??\n"
          ]
        },
        {
          "output_type": "stream",
          "name": "stderr",
          "text": [
            "INFO - ------------ Epoch 32 ------------\n",
            "INFO - Training:   Loss = 2.157 | Gradient norm = 7.736 | Param update norm = 0.021 | Runtime in seconds = 0.263\n",
            "INFO - Validation: Loss = 11.476 | Mae e = 8.578 | Mae f = 0.493 | Rmse e = 8.586 | Rmse f = 0.675\n",
            "INFO - Saving checkpoint at epoch 32...\n",
            "INFO - Best model: Loss = 11.476 | Best epoch = 32\n"
          ]
        },
        {
          "output_type": "stream",
          "name": "stdout",
          "text": [
            "here??\n"
          ]
        },
        {
          "output_type": "stream",
          "name": "stderr",
          "text": [
            "INFO - ------------ Epoch 33 ------------\n",
            "INFO - Training:   Loss = 2.083 | Gradient norm = 10.759 | Param update norm = 0.021 | Runtime in seconds = 0.268\n",
            "INFO - Validation: Loss = 11.111 | Mae e = 7.944 | Mae f = 0.486 | Rmse e = 7.953 | Rmse f = 0.664\n",
            "INFO - Saving checkpoint at epoch 33...\n",
            "INFO - Best model: Loss = 11.111 | Best epoch = 33\n"
          ]
        },
        {
          "output_type": "stream",
          "name": "stdout",
          "text": [
            "here??\n"
          ]
        },
        {
          "output_type": "stream",
          "name": "stderr",
          "text": [
            "INFO - ------------ Epoch 34 ------------\n",
            "INFO - Training:   Loss = 1.978 | Gradient norm = 7.121 | Param update norm = 0.019 | Runtime in seconds = 0.263\n",
            "INFO - Validation: Loss = 10.789 | Mae e = 7.300 | Mae f = 0.478 | Rmse e = 7.309 | Rmse f = 0.655\n",
            "INFO - Saving checkpoint at epoch 34...\n",
            "INFO - Best model: Loss = 10.789 | Best epoch = 34\n"
          ]
        },
        {
          "output_type": "stream",
          "name": "stdout",
          "text": [
            "here??\n"
          ]
        },
        {
          "output_type": "stream",
          "name": "stderr",
          "text": [
            "INFO - ------------ Epoch 35 ------------\n",
            "INFO - Training:   Loss = 1.928 | Gradient norm = 10.636 | Param update norm = 0.021 | Runtime in seconds = 0.265\n",
            "INFO - Validation: Loss = 10.472 | Mae e = 6.692 | Mae f = 0.471 | Rmse e = 6.702 | Rmse f = 0.645\n",
            "INFO - Saving checkpoint at epoch 35...\n",
            "INFO - Best model: Loss = 10.472 | Best epoch = 35\n"
          ]
        },
        {
          "output_type": "stream",
          "name": "stdout",
          "text": [
            "here??\n"
          ]
        },
        {
          "output_type": "stream",
          "name": "stderr",
          "text": [
            "INFO - ------------ Epoch 36 ------------\n",
            "INFO - Training:   Loss = 1.856 | Gradient norm = 8.533 | Param update norm = 0.020 | Runtime in seconds = 0.428\n",
            "INFO - Validation: Loss = 10.209 | Mae e = 6.105 | Mae f = 0.465 | Rmse e = 6.117 | Rmse f = 0.637\n",
            "INFO - Saving checkpoint at epoch 36...\n",
            "INFO - Best model: Loss = 10.209 | Best epoch = 36\n"
          ]
        },
        {
          "output_type": "stream",
          "name": "stdout",
          "text": [
            "here??\n"
          ]
        },
        {
          "output_type": "stream",
          "name": "stderr",
          "text": [
            "INFO - ------------ Epoch 37 ------------\n",
            "INFO - Training:   Loss = 1.797 | Gradient norm = 9.222 | Param update norm = 0.019 | Runtime in seconds = 0.258\n",
            "INFO - Validation: Loss = 9.951 | Mae e = 5.560 | Mae f = 0.459 | Rmse e = 5.572 | Rmse f = 0.630\n",
            "INFO - Saving checkpoint at epoch 37...\n",
            "INFO - Best model: Loss = 9.951 | Best epoch = 37\n"
          ]
        },
        {
          "output_type": "stream",
          "name": "stdout",
          "text": [
            "here??\n"
          ]
        },
        {
          "output_type": "stream",
          "name": "stderr",
          "text": [
            "INFO - ------------ Epoch 38 ------------\n",
            "INFO - Training:   Loss = 1.736 | Gradient norm = 7.757 | Param update norm = 0.018 | Runtime in seconds = 0.428\n",
            "INFO - Validation: Loss = 9.711 | Mae e = 5.073 | Mae f = 0.453 | Rmse e = 5.086 | Rmse f = 0.622\n",
            "INFO - Saving checkpoint at epoch 38...\n",
            "INFO - Best model: Loss = 9.711 | Best epoch = 38\n"
          ]
        },
        {
          "output_type": "stream",
          "name": "stdout",
          "text": [
            "here??\n"
          ]
        },
        {
          "output_type": "stream",
          "name": "stderr",
          "text": [
            "INFO - ------------ Epoch 39 ------------\n",
            "INFO - Training:   Loss = 1.683 | Gradient norm = 6.835 | Param update norm = 0.017 | Runtime in seconds = 0.258\n",
            "INFO - Validation: Loss = 9.510 | Mae e = 4.617 | Mae f = 0.448 | Rmse e = 4.631 | Rmse f = 0.616\n",
            "INFO - Saving checkpoint at epoch 39...\n",
            "INFO - Best model: Loss = 9.510 | Best epoch = 39\n"
          ]
        },
        {
          "output_type": "stream",
          "name": "stdout",
          "text": [
            "here??\n"
          ]
        },
        {
          "output_type": "stream",
          "name": "stderr",
          "text": [
            "INFO - ------------ Epoch 40 ------------\n",
            "INFO - Training:   Loss = 1.636 | Gradient norm = 6.694 | Param update norm = 0.017 | Runtime in seconds = 0.432\n",
            "INFO - Validation: Loss = 9.318 | Mae e = 4.176 | Mae f = 0.443 | Rmse e = 4.192 | Rmse f = 0.610\n",
            "INFO - Saving checkpoint at epoch 40...\n",
            "INFO - Best model: Loss = 9.318 | Best epoch = 40\n"
          ]
        },
        {
          "output_type": "stream",
          "name": "stdout",
          "text": [
            "here??\n"
          ]
        },
        {
          "output_type": "stream",
          "name": "stderr",
          "text": [
            "INFO - ------------ Epoch 41 ------------\n",
            "INFO - Training:   Loss = 1.610 | Gradient norm = 7.857 | Param update norm = 0.018 | Runtime in seconds = 0.430\n",
            "INFO - Validation: Loss = 9.154 | Mae e = 3.770 | Mae f = 0.438 | Rmse e = 3.788 | Rmse f = 0.604\n",
            "INFO - Saving checkpoint at epoch 41...\n",
            "INFO - Best model: Loss = 9.154 | Best epoch = 41\n"
          ]
        },
        {
          "output_type": "stream",
          "name": "stdout",
          "text": [
            "here??\n"
          ]
        },
        {
          "output_type": "stream",
          "name": "stderr",
          "text": [
            "INFO - ------------ Epoch 42 ------------\n",
            "INFO - Training:   Loss = 1.571 | Gradient norm = 8.534 | Param update norm = 0.018 | Runtime in seconds = 0.266\n",
            "INFO - Validation: Loss = 9.014 | Mae e = 3.387 | Mae f = 0.434 | Rmse e = 3.406 | Rmse f = 0.600\n",
            "INFO - Saving checkpoint at epoch 42...\n",
            "INFO - Best model: Loss = 9.014 | Best epoch = 42\n"
          ]
        },
        {
          "output_type": "stream",
          "name": "stdout",
          "text": [
            "here??\n"
          ]
        },
        {
          "output_type": "stream",
          "name": "stderr",
          "text": [
            "INFO - ------------ Epoch 43 ------------\n",
            "INFO - Training:   Loss = 1.537 | Gradient norm = 8.871 | Param update norm = 0.018 | Runtime in seconds = 0.275\n",
            "INFO - Validation: Loss = 8.856 | Mae e = 3.066 | Mae f = 0.430 | Rmse e = 3.087 | Rmse f = 0.595\n",
            "INFO - Saving checkpoint at epoch 43...\n",
            "INFO - Best model: Loss = 8.856 | Best epoch = 43\n"
          ]
        },
        {
          "output_type": "stream",
          "name": "stdout",
          "text": [
            "here??\n"
          ]
        },
        {
          "output_type": "stream",
          "name": "stderr",
          "text": [
            "INFO - ------------ Epoch 44 ------------\n",
            "INFO - Training:   Loss = 1.496 | Gradient norm = 7.190 | Param update norm = 0.017 | Runtime in seconds = 0.321\n",
            "INFO - Validation: Loss = 8.745 | Mae e = 2.747 | Mae f = 0.427 | Rmse e = 2.770 | Rmse f = 0.591\n",
            "INFO - Saving checkpoint at epoch 44...\n",
            "INFO - Best model: Loss = 8.745 | Best epoch = 44\n"
          ]
        },
        {
          "output_type": "stream",
          "name": "stdout",
          "text": [
            "here??\n"
          ]
        },
        {
          "output_type": "stream",
          "name": "stderr",
          "text": [
            "INFO - ------------ Epoch 45 ------------\n",
            "INFO - Training:   Loss = 1.465 | Gradient norm = 7.185 | Param update norm = 0.016 | Runtime in seconds = 0.513\n",
            "INFO - Validation: Loss = 8.622 | Mae e = 2.466 | Mae f = 0.423 | Rmse e = 2.493 | Rmse f = 0.587\n",
            "INFO - Saving checkpoint at epoch 45...\n",
            "INFO - Best model: Loss = 8.622 | Best epoch = 45\n"
          ]
        },
        {
          "output_type": "stream",
          "name": "stdout",
          "text": [
            "here??\n"
          ]
        },
        {
          "output_type": "stream",
          "name": "stderr",
          "text": [
            "INFO - ------------ Epoch 46 ------------\n",
            "INFO - Training:   Loss = 1.435 | Gradient norm = 7.036 | Param update norm = 0.016 | Runtime in seconds = 0.308\n",
            "INFO - Validation: Loss = 8.515 | Mae e = 2.212 | Mae f = 0.420 | Rmse e = 2.241 | Rmse f = 0.583\n",
            "INFO - Saving checkpoint at epoch 46...\n",
            "INFO - Best model: Loss = 8.515 | Best epoch = 46\n"
          ]
        },
        {
          "output_type": "stream",
          "name": "stdout",
          "text": [
            "here??\n"
          ]
        },
        {
          "output_type": "stream",
          "name": "stderr",
          "text": [
            "INFO - ------------ Epoch 47 ------------\n",
            "INFO - Training:   Loss = 1.415 | Gradient norm = 7.683 | Param update norm = 0.017 | Runtime in seconds = 0.341\n",
            "INFO - Validation: Loss = 8.420 | Mae e = 1.963 | Mae f = 0.417 | Rmse e = 1.996 | Rmse f = 0.580\n",
            "INFO - Saving checkpoint at epoch 47...\n",
            "INFO - Best model: Loss = 8.420 | Best epoch = 47\n"
          ]
        },
        {
          "output_type": "stream",
          "name": "stdout",
          "text": [
            "here??\n"
          ]
        },
        {
          "output_type": "stream",
          "name": "stderr",
          "text": [
            "INFO - ------------ Epoch 48 ------------\n",
            "INFO - Training:   Loss = 1.396 | Gradient norm = 8.983 | Param update norm = 0.017 | Runtime in seconds = 0.509\n",
            "INFO - Validation: Loss = 8.325 | Mae e = 1.779 | Mae f = 0.414 | Rmse e = 1.815 | Rmse f = 0.577\n",
            "INFO - Saving checkpoint at epoch 48...\n",
            "INFO - Best model: Loss = 8.325 | Best epoch = 48\n"
          ]
        },
        {
          "output_type": "stream",
          "name": "stdout",
          "text": [
            "here??\n"
          ]
        },
        {
          "output_type": "stream",
          "name": "stderr",
          "text": [
            "INFO - ------------ Epoch 49 ------------\n",
            "INFO - Training:   Loss = 1.361 | Gradient norm = 6.717 | Param update norm = 0.016 | Runtime in seconds = 0.279\n",
            "INFO - Validation: Loss = 8.228 | Mae e = 1.563 | Mae f = 0.411 | Rmse e = 1.604 | Rmse f = 0.574\n",
            "INFO - Saving checkpoint at epoch 49...\n",
            "INFO - Best model: Loss = 8.228 | Best epoch = 49\n"
          ]
        },
        {
          "output_type": "stream",
          "name": "stdout",
          "text": [
            "here??\n"
          ]
        },
        {
          "output_type": "stream",
          "name": "stderr",
          "text": [
            "INFO - ------------ Epoch 50 ------------\n",
            "INFO - Training:   Loss = 1.328 | Gradient norm = 5.614 | Param update norm = 0.015 | Runtime in seconds = 0.253\n",
            "INFO - Validation: Loss = 8.146 | Mae e = 1.396 | Mae f = 0.408 | Rmse e = 1.441 | Rmse f = 0.571\n",
            "INFO - Saving checkpoint at epoch 50...\n",
            "INFO - Best model: Loss = 8.146 | Best epoch = 50\n"
          ]
        },
        {
          "output_type": "stream",
          "name": "stdout",
          "text": [
            "here??\n"
          ]
        },
        {
          "output_type": "stream",
          "name": "stderr",
          "text": [
            "INFO - ------------ Epoch 51 ------------\n",
            "INFO - Training:   Loss = 1.313 | Gradient norm = 6.771 | Param update norm = 0.015 | Runtime in seconds = 0.253\n",
            "INFO - Validation: Loss = 8.055 | Mae e = 1.253 | Mae f = 0.405 | Rmse e = 1.300 | Rmse f = 0.568\n",
            "INFO - Saving checkpoint at epoch 51...\n",
            "INFO - Best model: Loss = 8.055 | Best epoch = 51\n"
          ]
        },
        {
          "output_type": "stream",
          "name": "stdout",
          "text": [
            "here??\n"
          ]
        },
        {
          "output_type": "stream",
          "name": "stderr",
          "text": [
            "INFO - ------------ Epoch 52 ------------\n",
            "INFO - Training:   Loss = 1.297 | Gradient norm = 7.227 | Param update norm = 0.016 | Runtime in seconds = 0.261\n",
            "INFO - Validation: Loss = 7.986 | Mae e = 1.101 | Mae f = 0.403 | Rmse e = 1.151 | Rmse f = 0.565\n",
            "INFO - Saving checkpoint at epoch 52...\n",
            "INFO - Best model: Loss = 7.986 | Best epoch = 52\n"
          ]
        },
        {
          "output_type": "stream",
          "name": "stdout",
          "text": [
            "here??\n"
          ]
        },
        {
          "output_type": "stream",
          "name": "stderr",
          "text": [
            "INFO - ------------ Epoch 53 ------------\n",
            "INFO - Training:   Loss = 1.277 | Gradient norm = 7.282 | Param update norm = 0.016 | Runtime in seconds = 0.259\n",
            "INFO - Validation: Loss = 7.909 | Mae e = 0.984 | Mae f = 0.400 | Rmse e = 1.038 | Rmse f = 0.562\n",
            "INFO - Saving checkpoint at epoch 53...\n",
            "INFO - Best model: Loss = 7.909 | Best epoch = 53\n"
          ]
        },
        {
          "output_type": "stream",
          "name": "stdout",
          "text": [
            "here??\n"
          ]
        },
        {
          "output_type": "stream",
          "name": "stderr",
          "text": [
            "INFO - ------------ Epoch 54 ------------\n",
            "INFO - Training:   Loss = 1.249 | Gradient norm = 6.614 | Param update norm = 0.015 | Runtime in seconds = 0.439\n",
            "INFO - Validation: Loss = 7.839 | Mae e = 0.877 | Mae f = 0.398 | Rmse e = 0.935 | Rmse f = 0.560\n",
            "INFO - Saving checkpoint at epoch 54...\n",
            "INFO - Best model: Loss = 7.839 | Best epoch = 54\n"
          ]
        },
        {
          "output_type": "stream",
          "name": "stdout",
          "text": [
            "here??\n"
          ]
        },
        {
          "output_type": "stream",
          "name": "stderr",
          "text": [
            "INFO - ------------ Epoch 55 ------------\n",
            "INFO - Training:   Loss = 1.225 | Gradient norm = 5.871 | Param update norm = 0.014 | Runtime in seconds = 0.258\n",
            "INFO - Validation: Loss = 7.772 | Mae e = 0.750 | Mae f = 0.396 | Rmse e = 0.814 | Rmse f = 0.558\n",
            "INFO - Saving checkpoint at epoch 55...\n",
            "INFO - Best model: Loss = 7.772 | Best epoch = 55\n"
          ]
        },
        {
          "output_type": "stream",
          "name": "stdout",
          "text": [
            "here??\n"
          ]
        },
        {
          "output_type": "stream",
          "name": "stderr",
          "text": [
            "INFO - ------------ Epoch 56 ------------\n",
            "INFO - Training:   Loss = 1.212 | Gradient norm = 6.603 | Param update norm = 0.015 | Runtime in seconds = 0.425\n",
            "INFO - Validation: Loss = 7.702 | Mae e = 0.650 | Mae f = 0.393 | Rmse e = 0.720 | Rmse f = 0.555\n",
            "INFO - Saving checkpoint at epoch 56...\n",
            "INFO - Best model: Loss = 7.702 | Best epoch = 56\n"
          ]
        },
        {
          "output_type": "stream",
          "name": "stdout",
          "text": [
            "here??\n"
          ]
        },
        {
          "output_type": "stream",
          "name": "stderr",
          "text": [
            "INFO - ------------ Epoch 57 ------------\n",
            "INFO - Training:   Loss = 1.195 | Gradient norm = 6.769 | Param update norm = 0.015 | Runtime in seconds = 0.261\n",
            "INFO - Validation: Loss = 7.646 | Mae e = 0.578 | Mae f = 0.391 | Rmse e = 0.652 | Rmse f = 0.553\n",
            "INFO - Saving checkpoint at epoch 57...\n",
            "INFO - Best model: Loss = 7.646 | Best epoch = 57\n"
          ]
        },
        {
          "output_type": "stream",
          "name": "stdout",
          "text": [
            "here??\n"
          ]
        },
        {
          "output_type": "stream",
          "name": "stderr",
          "text": [
            "INFO - ------------ Epoch 58 ------------\n",
            "INFO - Training:   Loss = 1.172 | Gradient norm = 6.056 | Param update norm = 0.015 | Runtime in seconds = 0.257\n",
            "INFO - Validation: Loss = 7.579 | Mae e = 0.538 | Mae f = 0.389 | Rmse e = 0.615 | Rmse f = 0.551\n",
            "INFO - Saving checkpoint at epoch 58...\n",
            "INFO - Best model: Loss = 7.579 | Best epoch = 58\n"
          ]
        },
        {
          "output_type": "stream",
          "name": "stdout",
          "text": [
            "here??\n"
          ]
        },
        {
          "output_type": "stream",
          "name": "stderr",
          "text": [
            "INFO - ------------ Epoch 59 ------------\n",
            "INFO - Training:   Loss = 1.168 | Gradient norm = 8.508 | Param update norm = 0.016 | Runtime in seconds = 0.441\n",
            "INFO - Validation: Loss = 7.515 | Mae e = 0.476 | Mae f = 0.387 | Rmse e = 0.560 | Rmse f = 0.548\n",
            "INFO - Saving checkpoint at epoch 59...\n",
            "INFO - Best model: Loss = 7.515 | Best epoch = 59\n"
          ]
        },
        {
          "output_type": "stream",
          "name": "stdout",
          "text": [
            "here??\n"
          ]
        },
        {
          "output_type": "stream",
          "name": "stderr",
          "text": [
            "INFO - ------------ Epoch 60 ------------\n",
            "INFO - Training:   Loss = 1.155 | Gradient norm = 8.580 | Param update norm = 0.017 | Runtime in seconds = 0.269\n",
            "INFO - Validation: Loss = 7.450 | Mae e = 0.451 | Mae f = 0.385 | Rmse e = 0.538 | Rmse f = 0.546\n",
            "INFO - Saving checkpoint at epoch 60...\n",
            "INFO - Best model: Loss = 7.450 | Best epoch = 60\n"
          ]
        },
        {
          "output_type": "stream",
          "name": "stdout",
          "text": [
            "here??\n"
          ]
        },
        {
          "output_type": "stream",
          "name": "stderr",
          "text": [
            "INFO - ------------ Epoch 61 ------------\n",
            "INFO - Training:   Loss = 1.141 | Gradient norm = 8.913 | Param update norm = 0.017 | Runtime in seconds = 0.431\n",
            "INFO - Validation: Loss = 7.394 | Mae e = 0.406 | Mae f = 0.383 | Rmse e = 0.498 | Rmse f = 0.544\n",
            "INFO - Saving checkpoint at epoch 61...\n",
            "INFO - Best model: Loss = 7.394 | Best epoch = 61\n"
          ]
        },
        {
          "output_type": "stream",
          "name": "stdout",
          "text": [
            "here??\n"
          ]
        },
        {
          "output_type": "stream",
          "name": "stderr",
          "text": [
            "INFO - ------------ Epoch 62 ------------\n",
            "INFO - Training:   Loss = 1.120 | Gradient norm = 7.619 | Param update norm = 0.016 | Runtime in seconds = 0.279\n",
            "INFO - Validation: Loss = 7.337 | Mae e = 0.357 | Mae f = 0.381 | Rmse e = 0.455 | Rmse f = 0.542\n",
            "INFO - Saving checkpoint at epoch 62...\n",
            "INFO - Best model: Loss = 7.337 | Best epoch = 62\n"
          ]
        },
        {
          "output_type": "stream",
          "name": "stdout",
          "text": [
            "here??\n"
          ]
        },
        {
          "output_type": "stream",
          "name": "stderr",
          "text": [
            "INFO - ------------ Epoch 63 ------------\n",
            "INFO - Training:   Loss = 1.108 | Gradient norm = 7.252 | Param update norm = 0.017 | Runtime in seconds = 0.270\n",
            "INFO - Validation: Loss = 7.282 | Mae e = 0.326 | Mae f = 0.379 | Rmse e = 0.424 | Rmse f = 0.540\n",
            "INFO - Saving checkpoint at epoch 63...\n",
            "INFO - Best model: Loss = 7.282 | Best epoch = 63\n"
          ]
        },
        {
          "output_type": "stream",
          "name": "stdout",
          "text": [
            "here??\n"
          ]
        },
        {
          "output_type": "stream",
          "name": "stderr",
          "text": [
            "INFO - ------------ Epoch 64 ------------\n",
            "INFO - Training:   Loss = 1.085 | Gradient norm = 7.508 | Param update norm = 0.015 | Runtime in seconds = 0.268\n",
            "INFO - Validation: Loss = 7.216 | Mae e = 0.320 | Mae f = 0.377 | Rmse e = 0.417 | Rmse f = 0.537\n",
            "INFO - Saving checkpoint at epoch 64...\n",
            "INFO - Best model: Loss = 7.216 | Best epoch = 64\n"
          ]
        },
        {
          "output_type": "stream",
          "name": "stdout",
          "text": [
            "here??\n"
          ]
        },
        {
          "output_type": "stream",
          "name": "stderr",
          "text": [
            "INFO - ------------ Epoch 65 ------------\n",
            "INFO - Training:   Loss = 1.066 | Gradient norm = 6.033 | Param update norm = 0.014 | Runtime in seconds = 0.255\n",
            "INFO - Validation: Loss = 7.165 | Mae e = 0.300 | Mae f = 0.375 | Rmse e = 0.397 | Rmse f = 0.535\n",
            "INFO - Saving checkpoint at epoch 65...\n",
            "INFO - Best model: Loss = 7.165 | Best epoch = 65\n"
          ]
        },
        {
          "output_type": "stream",
          "name": "stdout",
          "text": [
            "here??\n"
          ]
        },
        {
          "output_type": "stream",
          "name": "stderr",
          "text": [
            "INFO - ------------ Epoch 66 ------------\n",
            "INFO - Training:   Loss = 1.064 | Gradient norm = 8.352 | Param update norm = 0.016 | Runtime in seconds = 0.427\n",
            "INFO - Validation: Loss = 7.112 | Mae e = 0.283 | Mae f = 0.373 | Rmse e = 0.378 | Rmse f = 0.533\n",
            "INFO - Saving checkpoint at epoch 66...\n",
            "INFO - Best model: Loss = 7.112 | Best epoch = 66\n"
          ]
        },
        {
          "output_type": "stream",
          "name": "stdout",
          "text": [
            "here??\n"
          ]
        },
        {
          "output_type": "stream",
          "name": "stderr",
          "text": [
            "INFO - ------------ Epoch 67 ------------\n",
            "INFO - Training:   Loss = 1.045 | Gradient norm = 7.516 | Param update norm = 0.015 | Runtime in seconds = 0.260\n",
            "INFO - Validation: Loss = 7.046 | Mae e = 0.279 | Mae f = 0.371 | Rmse e = 0.373 | Rmse f = 0.531\n",
            "INFO - Saving checkpoint at epoch 67...\n",
            "INFO - Best model: Loss = 7.046 | Best epoch = 67\n"
          ]
        },
        {
          "output_type": "stream",
          "name": "stdout",
          "text": [
            "here??\n"
          ]
        },
        {
          "output_type": "stream",
          "name": "stderr",
          "text": [
            "INFO - ------------ Epoch 68 ------------\n",
            "INFO - Training:   Loss = 1.020 | Gradient norm = 5.810 | Param update norm = 0.013 | Runtime in seconds = 0.428\n",
            "INFO - Validation: Loss = 6.999 | Mae e = 0.265 | Mae f = 0.369 | Rmse e = 0.357 | Rmse f = 0.529\n",
            "INFO - Saving checkpoint at epoch 68...\n",
            "INFO - Best model: Loss = 6.999 | Best epoch = 68\n"
          ]
        },
        {
          "output_type": "stream",
          "name": "stdout",
          "text": [
            "here??\n"
          ]
        },
        {
          "output_type": "stream",
          "name": "stderr",
          "text": [
            "INFO - ------------ Epoch 69 ------------\n",
            "INFO - Training:   Loss = 1.010 | Gradient norm = 6.961 | Param update norm = 0.014 | Runtime in seconds = 1.237\n",
            "INFO - Validation: Loss = 6.936 | Mae e = 0.264 | Mae f = 0.367 | Rmse e = 0.355 | Rmse f = 0.527\n",
            "INFO - Saving checkpoint at epoch 69...\n",
            "INFO - Best model: Loss = 6.936 | Best epoch = 69\n"
          ]
        },
        {
          "output_type": "stream",
          "name": "stdout",
          "text": [
            "here??\n"
          ]
        },
        {
          "output_type": "stream",
          "name": "stderr",
          "text": [
            "INFO - ------------ Epoch 70 ------------\n",
            "INFO - Training:   Loss = 1.017 | Gradient norm = 8.988 | Param update norm = 0.017 | Runtime in seconds = 0.264\n",
            "INFO - Validation: Loss = 6.889 | Mae e = 0.259 | Mae f = 0.365 | Rmse e = 0.349 | Rmse f = 0.525\n",
            "INFO - Saving checkpoint at epoch 70...\n",
            "INFO - Best model: Loss = 6.889 | Best epoch = 70\n"
          ]
        },
        {
          "output_type": "stream",
          "name": "stdout",
          "text": [
            "here??\n"
          ]
        },
        {
          "output_type": "stream",
          "name": "stderr",
          "text": [
            "INFO - ------------ Epoch 71 ------------\n",
            "INFO - Training:   Loss = 0.997 | Gradient norm = 7.650 | Param update norm = 0.016 | Runtime in seconds = 0.264\n",
            "INFO - Validation: Loss = 6.835 | Mae e = 0.262 | Mae f = 0.364 | Rmse e = 0.352 | Rmse f = 0.523\n",
            "INFO - Saving checkpoint at epoch 71...\n",
            "INFO - Best model: Loss = 6.835 | Best epoch = 71\n"
          ]
        },
        {
          "output_type": "stream",
          "name": "stdout",
          "text": [
            "here??\n"
          ]
        },
        {
          "output_type": "stream",
          "name": "stderr",
          "text": [
            "INFO - ------------ Epoch 72 ------------\n",
            "INFO - Training:   Loss = 0.973 | Gradient norm = 6.215 | Param update norm = 0.013 | Runtime in seconds = 0.328\n",
            "INFO - Validation: Loss = 6.780 | Mae e = 0.259 | Mae f = 0.362 | Rmse e = 0.347 | Rmse f = 0.521\n",
            "INFO - Saving checkpoint at epoch 72...\n",
            "INFO - Best model: Loss = 6.780 | Best epoch = 72\n"
          ]
        },
        {
          "output_type": "stream",
          "name": "stdout",
          "text": [
            "here??\n"
          ]
        },
        {
          "output_type": "stream",
          "name": "stderr",
          "text": [
            "INFO - ------------ Epoch 73 ------------\n",
            "INFO - Training:   Loss = 0.971 | Gradient norm = 7.476 | Param update norm = 0.016 | Runtime in seconds = 0.315\n",
            "INFO - Validation: Loss = 6.726 | Mae e = 0.256 | Mae f = 0.360 | Rmse e = 0.344 | Rmse f = 0.519\n",
            "INFO - Saving checkpoint at epoch 73...\n",
            "INFO - Best model: Loss = 6.726 | Best epoch = 73\n"
          ]
        },
        {
          "output_type": "stream",
          "name": "stdout",
          "text": [
            "here??\n"
          ]
        },
        {
          "output_type": "stream",
          "name": "stderr",
          "text": [
            "INFO - ------------ Epoch 74 ------------\n",
            "INFO - Training:   Loss = 0.953 | Gradient norm = 6.995 | Param update norm = 0.014 | Runtime in seconds = 0.315\n",
            "INFO - Validation: Loss = 6.680 | Mae e = 0.251 | Mae f = 0.358 | Rmse e = 0.337 | Rmse f = 0.517\n",
            "INFO - Saving checkpoint at epoch 74...\n",
            "INFO - Best model: Loss = 6.680 | Best epoch = 74\n"
          ]
        },
        {
          "output_type": "stream",
          "name": "stdout",
          "text": [
            "here??\n"
          ]
        },
        {
          "output_type": "stream",
          "name": "stderr",
          "text": [
            "INFO - ------------ Epoch 75 ------------\n",
            "INFO - Training:   Loss = 0.939 | Gradient norm = 6.286 | Param update norm = 0.014 | Runtime in seconds = 0.317\n",
            "INFO - Validation: Loss = 6.627 | Mae e = 0.249 | Mae f = 0.357 | Rmse e = 0.333 | Rmse f = 0.515\n",
            "INFO - Saving checkpoint at epoch 75...\n",
            "INFO - Best model: Loss = 6.627 | Best epoch = 75\n"
          ]
        },
        {
          "output_type": "stream",
          "name": "stdout",
          "text": [
            "here??\n"
          ]
        },
        {
          "output_type": "stream",
          "name": "stderr",
          "text": [
            "INFO - ------------ Epoch 76 ------------\n",
            "INFO - Training:   Loss = 0.939 | Gradient norm = 7.318 | Param update norm = 0.016 | Runtime in seconds = 0.455\n",
            "INFO - Validation: Loss = 6.584 | Mae e = 0.247 | Mae f = 0.355 | Rmse e = 0.330 | Rmse f = 0.513\n",
            "INFO - Saving checkpoint at epoch 76...\n",
            "INFO - Best model: Loss = 6.584 | Best epoch = 76\n"
          ]
        },
        {
          "output_type": "stream",
          "name": "stdout",
          "text": [
            "here??\n"
          ]
        },
        {
          "output_type": "stream",
          "name": "stderr",
          "text": [
            "INFO - ------------ Epoch 77 ------------\n",
            "INFO - Training:   Loss = 0.922 | Gradient norm = 7.170 | Param update norm = 0.014 | Runtime in seconds = 0.327\n",
            "INFO - Validation: Loss = 6.530 | Mae e = 0.245 | Mae f = 0.353 | Rmse e = 0.328 | Rmse f = 0.511\n",
            "INFO - Saving checkpoint at epoch 77...\n",
            "INFO - Best model: Loss = 6.530 | Best epoch = 77\n"
          ]
        },
        {
          "output_type": "stream",
          "name": "stdout",
          "text": [
            "here??\n"
          ]
        },
        {
          "output_type": "stream",
          "name": "stderr",
          "text": [
            "INFO - ------------ Epoch 78 ------------\n",
            "INFO - Training:   Loss = 0.904 | Gradient norm = 5.270 | Param update norm = 0.013 | Runtime in seconds = 0.258\n",
            "INFO - Validation: Loss = 6.477 | Mae e = 0.245 | Mae f = 0.352 | Rmse e = 0.327 | Rmse f = 0.509\n",
            "INFO - Saving checkpoint at epoch 78...\n",
            "INFO - Best model: Loss = 6.477 | Best epoch = 78\n"
          ]
        },
        {
          "output_type": "stream",
          "name": "stdout",
          "text": [
            "here??\n"
          ]
        },
        {
          "output_type": "stream",
          "name": "stderr",
          "text": [
            "INFO - ------------ Epoch 79 ------------\n",
            "INFO - Training:   Loss = 0.903 | Gradient norm = 6.911 | Param update norm = 0.015 | Runtime in seconds = 0.269\n",
            "INFO - Validation: Loss = 6.430 | Mae e = 0.246 | Mae f = 0.350 | Rmse e = 0.329 | Rmse f = 0.507\n",
            "INFO - Saving checkpoint at epoch 79...\n",
            "INFO - Best model: Loss = 6.430 | Best epoch = 79\n"
          ]
        },
        {
          "output_type": "stream",
          "name": "stdout",
          "text": [
            "here??\n"
          ]
        },
        {
          "output_type": "stream",
          "name": "stderr",
          "text": [
            "INFO - ------------ Epoch 80 ------------\n",
            "INFO - Training:   Loss = 0.899 | Gradient norm = 6.731 | Param update norm = 0.016 | Runtime in seconds = 0.432\n",
            "INFO - Validation: Loss = 6.382 | Mae e = 0.244 | Mae f = 0.348 | Rmse e = 0.326 | Rmse f = 0.505\n",
            "INFO - Saving checkpoint at epoch 80...\n",
            "INFO - Best model: Loss = 6.382 | Best epoch = 80\n"
          ]
        },
        {
          "output_type": "stream",
          "name": "stdout",
          "text": [
            "here??\n"
          ]
        },
        {
          "output_type": "stream",
          "name": "stderr",
          "text": [
            "INFO - ------------ Epoch 81 ------------\n",
            "INFO - Training:   Loss = 0.882 | Gradient norm = 5.890 | Param update norm = 0.014 | Runtime in seconds = 0.261\n",
            "INFO - Validation: Loss = 6.334 | Mae e = 0.247 | Mae f = 0.347 | Rmse e = 0.330 | Rmse f = 0.503\n",
            "INFO - Saving checkpoint at epoch 81...\n",
            "INFO - Best model: Loss = 6.334 | Best epoch = 81\n"
          ]
        },
        {
          "output_type": "stream",
          "name": "stdout",
          "text": [
            "here??\n"
          ]
        },
        {
          "output_type": "stream",
          "name": "stderr",
          "text": [
            "INFO - ------------ Epoch 82 ------------\n",
            "INFO - Training:   Loss = 0.872 | Gradient norm = 6.644 | Param update norm = 0.014 | Runtime in seconds = 0.269\n",
            "INFO - Validation: Loss = 6.284 | Mae e = 0.244 | Mae f = 0.345 | Rmse e = 0.326 | Rmse f = 0.501\n",
            "INFO - Saving checkpoint at epoch 82...\n",
            "INFO - Best model: Loss = 6.284 | Best epoch = 82\n"
          ]
        },
        {
          "output_type": "stream",
          "name": "stdout",
          "text": [
            "here??\n"
          ]
        },
        {
          "output_type": "stream",
          "name": "stderr",
          "text": [
            "INFO - ------------ Epoch 83 ------------\n",
            "INFO - Training:   Loss = 0.869 | Gradient norm = 6.878 | Param update norm = 0.015 | Runtime in seconds = 0.262\n",
            "INFO - Validation: Loss = 6.240 | Mae e = 0.248 | Mae f = 0.344 | Rmse e = 0.331 | Rmse f = 0.500\n",
            "INFO - Saving checkpoint at epoch 83...\n",
            "INFO - Best model: Loss = 6.240 | Best epoch = 83\n"
          ]
        },
        {
          "output_type": "stream",
          "name": "stdout",
          "text": [
            "here??\n"
          ]
        },
        {
          "output_type": "stream",
          "name": "stderr",
          "text": [
            "INFO - ------------ Epoch 84 ------------\n",
            "INFO - Training:   Loss = 0.851 | Gradient norm = 5.766 | Param update norm = 0.013 | Runtime in seconds = 0.263\n",
            "INFO - Validation: Loss = 6.194 | Mae e = 0.250 | Mae f = 0.342 | Rmse e = 0.333 | Rmse f = 0.498\n",
            "INFO - Saving checkpoint at epoch 84...\n",
            "INFO - Best model: Loss = 6.194 | Best epoch = 84\n"
          ]
        },
        {
          "output_type": "stream",
          "name": "stdout",
          "text": [
            "here??\n"
          ]
        },
        {
          "output_type": "stream",
          "name": "stderr",
          "text": [
            "INFO - ------------ Epoch 85 ------------\n",
            "INFO - Training:   Loss = 0.854 | Gradient norm = 7.125 | Param update norm = 0.016 | Runtime in seconds = 0.424\n",
            "INFO - Validation: Loss = 6.141 | Mae e = 0.261 | Mae f = 0.341 | Rmse e = 0.343 | Rmse f = 0.496\n",
            "INFO - Saving checkpoint at epoch 85...\n",
            "INFO - Best model: Loss = 6.141 | Best epoch = 85\n"
          ]
        },
        {
          "output_type": "stream",
          "name": "stdout",
          "text": [
            "here??\n"
          ]
        },
        {
          "output_type": "stream",
          "name": "stderr",
          "text": [
            "INFO - ------------ Epoch 86 ------------\n",
            "INFO - Training:   Loss = 0.832 | Gradient norm = 5.463 | Param update norm = 0.013 | Runtime in seconds = 0.261\n",
            "INFO - Validation: Loss = 6.089 | Mae e = 0.266 | Mae f = 0.339 | Rmse e = 0.347 | Rmse f = 0.494\n",
            "INFO - Saving checkpoint at epoch 86...\n",
            "INFO - Best model: Loss = 6.089 | Best epoch = 86\n"
          ]
        },
        {
          "output_type": "stream",
          "name": "stdout",
          "text": [
            "here??\n"
          ]
        },
        {
          "output_type": "stream",
          "name": "stderr",
          "text": [
            "INFO - ------------ Epoch 87 ------------\n",
            "INFO - Training:   Loss = 0.829 | Gradient norm = 6.478 | Param update norm = 0.014 | Runtime in seconds = 0.276\n",
            "INFO - Validation: Loss = 6.046 | Mae e = 0.257 | Mae f = 0.337 | Rmse e = 0.337 | Rmse f = 0.492\n",
            "INFO - Saving checkpoint at epoch 87...\n",
            "INFO - Best model: Loss = 6.046 | Best epoch = 87\n"
          ]
        },
        {
          "output_type": "stream",
          "name": "stdout",
          "text": [
            "here??\n"
          ]
        },
        {
          "output_type": "stream",
          "name": "stderr",
          "text": [
            "INFO - ------------ Epoch 88 ------------\n",
            "INFO - Training:   Loss = 0.823 | Gradient norm = 7.326 | Param update norm = 0.014 | Runtime in seconds = 0.278\n",
            "INFO - Validation: Loss = 6.001 | Mae e = 0.262 | Mae f = 0.336 | Rmse e = 0.342 | Rmse f = 0.490\n",
            "INFO - Saving checkpoint at epoch 88...\n",
            "INFO - Best model: Loss = 6.001 | Best epoch = 88\n"
          ]
        },
        {
          "output_type": "stream",
          "name": "stdout",
          "text": [
            "here??\n"
          ]
        },
        {
          "output_type": "stream",
          "name": "stderr",
          "text": [
            "INFO - ------------ Epoch 89 ------------\n",
            "INFO - Training:   Loss = 0.814 | Gradient norm = 6.449 | Param update norm = 0.014 | Runtime in seconds = 0.274\n",
            "INFO - Validation: Loss = 5.957 | Mae e = 0.270 | Mae f = 0.335 | Rmse e = 0.349 | Rmse f = 0.488\n",
            "INFO - Saving checkpoint at epoch 89...\n",
            "INFO - Best model: Loss = 5.957 | Best epoch = 89\n"
          ]
        },
        {
          "output_type": "stream",
          "name": "stdout",
          "text": [
            "here??\n"
          ]
        },
        {
          "output_type": "stream",
          "name": "stderr",
          "text": [
            "INFO - ------------ Epoch 90 ------------\n",
            "INFO - Training:   Loss = 0.804 | Gradient norm = 5.353 | Param update norm = 0.014 | Runtime in seconds = 0.432\n",
            "INFO - Validation: Loss = 5.919 | Mae e = 0.269 | Mae f = 0.333 | Rmse e = 0.347 | Rmse f = 0.487\n",
            "INFO - Saving checkpoint at epoch 90...\n",
            "INFO - Best model: Loss = 5.919 | Best epoch = 90\n"
          ]
        },
        {
          "output_type": "stream",
          "name": "stdout",
          "text": [
            "here??\n"
          ]
        },
        {
          "output_type": "stream",
          "name": "stderr",
          "text": [
            "INFO - ------------ Epoch 91 ------------\n",
            "INFO - Training:   Loss = 0.797 | Gradient norm = 6.402 | Param update norm = 0.014 | Runtime in seconds = 0.259\n",
            "INFO - Validation: Loss = 5.874 | Mae e = 0.295 | Mae f = 0.332 | Rmse e = 0.370 | Rmse f = 0.485\n",
            "INFO - Saving checkpoint at epoch 91...\n",
            "INFO - Best model: Loss = 5.874 | Best epoch = 91\n"
          ]
        },
        {
          "output_type": "stream",
          "name": "stdout",
          "text": [
            "here??\n"
          ]
        },
        {
          "output_type": "stream",
          "name": "stderr",
          "text": [
            "INFO - ------------ Epoch 92 ------------\n",
            "INFO - Training:   Loss = 0.792 | Gradient norm = 7.774 | Param update norm = 0.014 | Runtime in seconds = 0.427\n",
            "INFO - Validation: Loss = 5.828 | Mae e = 0.305 | Mae f = 0.330 | Rmse e = 0.379 | Rmse f = 0.483\n",
            "INFO - Saving checkpoint at epoch 92...\n",
            "INFO - Best model: Loss = 5.828 | Best epoch = 92\n"
          ]
        },
        {
          "output_type": "stream",
          "name": "stdout",
          "text": [
            "here??\n"
          ]
        },
        {
          "output_type": "stream",
          "name": "stderr",
          "text": [
            "INFO - ------------ Epoch 93 ------------\n",
            "INFO - Training:   Loss = 0.775 | Gradient norm = 5.973 | Param update norm = 0.011 | Runtime in seconds = 0.261\n",
            "INFO - Validation: Loss = 5.790 | Mae e = 0.299 | Mae f = 0.329 | Rmse e = 0.372 | Rmse f = 0.481\n",
            "INFO - Saving checkpoint at epoch 93...\n",
            "INFO - Best model: Loss = 5.790 | Best epoch = 93\n"
          ]
        },
        {
          "output_type": "stream",
          "name": "stdout",
          "text": [
            "here??\n"
          ]
        },
        {
          "output_type": "stream",
          "name": "stderr",
          "text": [
            "INFO - ------------ Epoch 94 ------------\n",
            "INFO - Training:   Loss = 0.773 | Gradient norm = 6.047 | Param update norm = 0.013 | Runtime in seconds = 0.268\n",
            "INFO - Validation: Loss = 5.747 | Mae e = 0.307 | Mae f = 0.328 | Rmse e = 0.379 | Rmse f = 0.479\n",
            "INFO - Saving checkpoint at epoch 94...\n",
            "INFO - Best model: Loss = 5.747 | Best epoch = 94\n"
          ]
        },
        {
          "output_type": "stream",
          "name": "stdout",
          "text": [
            "here??\n"
          ]
        },
        {
          "output_type": "stream",
          "name": "stderr",
          "text": [
            "INFO - ------------ Epoch 95 ------------\n",
            "INFO - Training:   Loss = 0.773 | Gradient norm = 7.432 | Param update norm = 0.015 | Runtime in seconds = 0.266\n",
            "INFO - Validation: Loss = 5.704 | Mae e = 0.324 | Mae f = 0.326 | Rmse e = 0.394 | Rmse f = 0.478\n",
            "INFO - Saving checkpoint at epoch 95...\n",
            "INFO - Best model: Loss = 5.704 | Best epoch = 95\n"
          ]
        },
        {
          "output_type": "stream",
          "name": "stdout",
          "text": [
            "here??\n"
          ]
        },
        {
          "output_type": "stream",
          "name": "stderr",
          "text": [
            "INFO - ------------ Epoch 96 ------------\n",
            "INFO - Training:   Loss = 0.770 | Gradient norm = 7.053 | Param update norm = 0.016 | Runtime in seconds = 0.265\n",
            "INFO - Validation: Loss = 5.656 | Mae e = 0.349 | Mae f = 0.325 | Rmse e = 0.414 | Rmse f = 0.476\n",
            "INFO - Saving checkpoint at epoch 96...\n",
            "INFO - Best model: Loss = 5.656 | Best epoch = 96\n"
          ]
        },
        {
          "output_type": "stream",
          "name": "stdout",
          "text": [
            "here??\n"
          ]
        },
        {
          "output_type": "stream",
          "name": "stderr",
          "text": [
            "INFO - ------------ Epoch 97 ------------\n",
            "INFO - Training:   Loss = 0.771 | Gradient norm = 8.488 | Param update norm = 0.016 | Runtime in seconds = 0.443\n",
            "INFO - Validation: Loss = 5.625 | Mae e = 0.342 | Mae f = 0.324 | Rmse e = 0.408 | Rmse f = 0.474\n",
            "INFO - Saving checkpoint at epoch 97...\n",
            "INFO - Best model: Loss = 5.625 | Best epoch = 97\n"
          ]
        },
        {
          "output_type": "stream",
          "name": "stdout",
          "text": [
            "here??\n"
          ]
        },
        {
          "output_type": "stream",
          "name": "stderr",
          "text": [
            "INFO - ------------ Epoch 98 ------------\n",
            "INFO - Training:   Loss = 0.754 | Gradient norm = 6.439 | Param update norm = 0.015 | Runtime in seconds = 0.265\n",
            "INFO - Validation: Loss = 5.585 | Mae e = 0.363 | Mae f = 0.323 | Rmse e = 0.425 | Rmse f = 0.473\n",
            "INFO - Saving checkpoint at epoch 98...\n",
            "INFO - Best model: Loss = 5.585 | Best epoch = 98\n"
          ]
        },
        {
          "output_type": "stream",
          "name": "stdout",
          "text": [
            "here??\n"
          ]
        },
        {
          "output_type": "stream",
          "name": "stderr",
          "text": [
            "INFO - ------------ Epoch 99 ------------\n",
            "INFO - Training:   Loss = 0.745 | Gradient norm = 7.150 | Param update norm = 0.015 | Runtime in seconds = 0.435\n",
            "INFO - Validation: Loss = 5.542 | Mae e = 0.366 | Mae f = 0.321 | Rmse e = 0.426 | Rmse f = 0.471\n",
            "INFO - Saving checkpoint at epoch 99...\n",
            "INFO - Best model: Loss = 5.542 | Best epoch = 99\n"
          ]
        },
        {
          "output_type": "stream",
          "name": "stdout",
          "text": [
            "here??\n"
          ]
        },
        {
          "output_type": "stream",
          "name": "stderr",
          "text": [
            "INFO - ------------ Epoch 100 ------------\n",
            "INFO - Training:   Loss = 0.733 | Gradient norm = 6.229 | Param update norm = 0.013 | Runtime in seconds = 0.264\n",
            "INFO - Validation: Loss = 5.508 | Mae e = 0.365 | Mae f = 0.320 | Rmse e = 0.424 | Rmse f = 0.469\n",
            "INFO - Saving checkpoint at epoch 100...\n",
            "INFO - Best model: Loss = 5.508 | Best epoch = 100\n",
            "INFO - Training loop completed.\n"
          ]
        },
        {
          "output_type": "stream",
          "name": "stdout",
          "text": [
            "here??\n"
          ]
        },
        {
          "output_type": "display_data",
          "data": {
            "text/plain": [
              "<IPython.core.display.HTML object>"
            ],
            "text/html": []
          },
          "metadata": {}
        },
        {
          "output_type": "display_data",
          "data": {
            "text/plain": [
              "<IPython.core.display.HTML object>"
            ],
            "text/html": [
              "<br>    <style><br>        .wandb-row {<br>            display: flex;<br>            flex-direction: row;<br>            flex-wrap: wrap;<br>            justify-content: flex-start;<br>            width: 100%;<br>        }<br>        .wandb-col {<br>            display: flex;<br>            flex-direction: column;<br>            flex-basis: 100%;<br>            flex: 1;<br>            padding: 10px;<br>        }<br>    </style><br><div class=\"wandb-row\"><div class=\"wandb-col\"><h3>Run history:</h3><br/><table class=\"wandb\"><tr><td>loss</td><td>██▇▄▃▂▂▂▂▂▂▂▂▂▁▁▁▁▁▁▁▁▁▁▁▁▁▁▁▁▁▁▁▁▁▁▁▁▁▁</td></tr><tr><td>mae_e</td><td>▂▄▆▇▇███████▇▇▇▅▃▃▂▂▂▂▂▁▁▁▁▁▁▁▁▁▁▁▁▁▁▁▁▁</td></tr><tr><td>mae_f</td><td>█▆▄▃▃▃▃▃▃▂▂▂▂▂▂▂▂▂▂▂▁▁▁▁▁▁▁▁▁▁▁▁▁▁▁▁▁▁▁▁</td></tr><tr><td>mse_e</td><td>▇▇██████▇▇▆▆▅▅▄▂▂▂▂▁▁▁▁▁▁▁▁▁▁▁▁▁▁▁▁▁▁▁▁▁</td></tr><tr><td>mse_f</td><td>█▇▇▆▅▃▂▂▂▂▂▂▂▂▂▁▁▁▁▁▁▁▁▁▁▁▁▁▁▁▁▁▁▁▁▁▁▁▁▁</td></tr></table><br/></div><div class=\"wandb-col\"><h3>Run summary:</h3><br/><table class=\"wandb\"><tr><td>loss</td><td>5.50827</td></tr><tr><td>mae_e</td><td>0.36479</td></tr><tr><td>mae_f</td><td>0.32022</td></tr><tr><td>mse_e</td><td>0.18006</td></tr><tr><td>mse_f</td><td>0.22032</td></tr></table><br/></div></div>"
            ]
          },
          "metadata": {}
        },
        {
          "output_type": "display_data",
          "data": {
            "text/plain": [
              "<IPython.core.display.HTML object>"
            ],
            "text/html": [
              " View run <strong style=\"color:#cdcd00\">giddy-sweep-1</strong> at: <a href='https://wandb.ai/cybercharl-ai-safety-south-africa/instadeep-hackathon-2025/runs/qubguh2d' target=\"_blank\">https://wandb.ai/cybercharl-ai-safety-south-africa/instadeep-hackathon-2025/runs/qubguh2d</a><br> View project at: <a href='https://wandb.ai/cybercharl-ai-safety-south-africa/instadeep-hackathon-2025' target=\"_blank\">https://wandb.ai/cybercharl-ai-safety-south-africa/instadeep-hackathon-2025</a><br>Synced 5 W&B file(s), 0 media file(s), 0 artifact file(s) and 0 other file(s)"
            ]
          },
          "metadata": {}
        },
        {
          "output_type": "display_data",
          "data": {
            "text/plain": [
              "<IPython.core.display.HTML object>"
            ],
            "text/html": [
              "Find logs at: <code>./wandb/run-20250709_185731-qubguh2d/logs</code>"
            ]
          },
          "metadata": {}
        },
        {
          "output_type": "stream",
          "name": "stderr",
          "text": [
            "\u001b[34m\u001b[1mwandb\u001b[0m: Agent Starting Run: ahwoixtb with config:\n",
            "\u001b[34m\u001b[1mwandb\u001b[0m: \tenergy_weight: 500\n",
            "\u001b[34m\u001b[1mwandb\u001b[0m: \tfinal_learning_rate: 0.0008861566590326184\n",
            "\u001b[34m\u001b[1mwandb\u001b[0m: \tinit_learning_rate: 0.003296112320353406\n",
            "\u001b[34m\u001b[1mwandb\u001b[0m: \tnum_layers: 6\n",
            "\u001b[34m\u001b[1mwandb\u001b[0m: \tpeak_learning_rate: 0.004651399023766935\n",
            "\u001b[34m\u001b[1mwandb\u001b[0m: \tweight_decay: 4.767184712332288e-05\n"
          ]
        },
        {
          "output_type": "display_data",
          "data": {
            "text/plain": [
              "<IPython.core.display.HTML object>"
            ],
            "text/html": [
              "Tracking run with wandb version 0.21.0"
            ]
          },
          "metadata": {}
        },
        {
          "output_type": "display_data",
          "data": {
            "text/plain": [
              "<IPython.core.display.HTML object>"
            ],
            "text/html": [
              "Run data is saved locally in <code>/content/wandb/run-20250709_185845-ahwoixtb</code>"
            ]
          },
          "metadata": {}
        },
        {
          "output_type": "display_data",
          "data": {
            "text/plain": [
              "<IPython.core.display.HTML object>"
            ],
            "text/html": [
              "Syncing run <strong><a href='https://wandb.ai/cybercharl-ai-safety-south-africa/instadeep-hackathon-2025/runs/ahwoixtb' target=\"_blank\">worthy-sweep-2</a></strong> to <a href='https://wandb.ai/cybercharl-ai-safety-south-africa/instadeep-hackathon-2025' target=\"_blank\">Weights & Biases</a> (<a href='https://wandb.me/developer-guide' target=\"_blank\">docs</a>)<br>Sweep page: <a href='https://wandb.ai/cybercharl-ai-safety-south-africa/instadeep-hackathon-2025/sweeps/156uxkmm' target=\"_blank\">https://wandb.ai/cybercharl-ai-safety-south-africa/instadeep-hackathon-2025/sweeps/156uxkmm</a>"
            ]
          },
          "metadata": {}
        },
        {
          "output_type": "display_data",
          "data": {
            "text/plain": [
              "<IPython.core.display.HTML object>"
            ],
            "text/html": [
              " View project at <a href='https://wandb.ai/cybercharl-ai-safety-south-africa/instadeep-hackathon-2025' target=\"_blank\">https://wandb.ai/cybercharl-ai-safety-south-africa/instadeep-hackathon-2025</a>"
            ]
          },
          "metadata": {}
        },
        {
          "output_type": "display_data",
          "data": {
            "text/plain": [
              "<IPython.core.display.HTML object>"
            ],
            "text/html": [
              " View sweep at <a href='https://wandb.ai/cybercharl-ai-safety-south-africa/instadeep-hackathon-2025/sweeps/156uxkmm' target=\"_blank\">https://wandb.ai/cybercharl-ai-safety-south-africa/instadeep-hackathon-2025/sweeps/156uxkmm</a>"
            ]
          },
          "metadata": {}
        },
        {
          "output_type": "display_data",
          "data": {
            "text/plain": [
              "<IPython.core.display.HTML object>"
            ],
            "text/html": [
              " View run at <a href='https://wandb.ai/cybercharl-ai-safety-south-africa/instadeep-hackathon-2025/runs/ahwoixtb' target=\"_blank\">https://wandb.ai/cybercharl-ai-safety-south-africa/instadeep-hackathon-2025/runs/ahwoixtb</a>"
            ]
          },
          "metadata": {}
        },
        {
          "output_type": "stream",
          "name": "stderr",
          "text": [
            "INFO - Cleaning up existing temporary directories at /content/training/model_training/model.\n",
            "INFO - Number of parameters: 90282\n",
            "INFO - Number of parameters in optimizer: 361134\n",
            "INFO - Starting training loop...\n",
            "INFO - Validation: Loss = 86.909 | Mae e = 2.979 | Mae f = 1.388 | Rmse e = 3.046 | Rmse f = 1.864\n",
            "INFO - Best model: Loss = 86.909 | Best epoch = 0\n"
          ]
        },
        {
          "output_type": "stream",
          "name": "stdout",
          "text": [
            "here??\n"
          ]
        },
        {
          "output_type": "stream",
          "name": "stderr",
          "text": [
            "ERROR - Task was destroyed but it is pending!\n",
            "task: <Task cancelling name='Task-86793' coro=<Event.wait() running at /usr/lib/python3.11/asyncio/locks.py:213> wait_for=<Future cancelled>>\n",
            "INFO - ------------ Epoch 1 ------------\n",
            "INFO - Training:   Loss = 21.719 | Gradient norm = 1.101 | Param update norm = 0.763 | Runtime in seconds = 73.070\n",
            "INFO - Validation: Loss = 85.916 | Mae e = 3.204 | Mae f = 1.379 | Rmse e = 3.265 | Rmse f = 1.854\n",
            "INFO - Saving checkpoint at epoch 1...\n",
            "INFO - Best model: Loss = 85.916 | Best epoch = 1\n"
          ]
        },
        {
          "output_type": "stream",
          "name": "stdout",
          "text": [
            "here??\n"
          ]
        },
        {
          "output_type": "stream",
          "name": "stderr",
          "text": [
            "INFO - ------------ Epoch 2 ------------\n",
            "INFO - Training:   Loss = 9.029 | Gradient norm = 5.907 | Param update norm = 0.551 | Runtime in seconds = 2.120\n",
            "INFO - Validation: Loss = 73.903 | Mae e = 4.830 | Mae f = 1.274 | Rmse e = 4.867 | Rmse f = 1.719\n",
            "INFO - Saving checkpoint at epoch 2...\n",
            "INFO - Best model: Loss = 73.903 | Best epoch = 2\n"
          ]
        },
        {
          "output_type": "stream",
          "name": "stdout",
          "text": [
            "here??\n"
          ]
        },
        {
          "output_type": "stream",
          "name": "stderr",
          "text": [
            "INFO - ------------ Epoch 3 ------------\n",
            "INFO - Training:   Loss = 4.565 | Gradient norm = 5.484 | Param update norm = 0.402 | Runtime in seconds = 2.214\n",
            "INFO - Validation: Loss = 56.311 | Mae e = 6.812 | Mae f = 1.106 | Rmse e = 6.834 | Rmse f = 1.500\n",
            "INFO - Saving checkpoint at epoch 3...\n",
            "INFO - Best model: Loss = 56.311 | Best epoch = 3\n"
          ]
        },
        {
          "output_type": "stream",
          "name": "stdout",
          "text": [
            "here??\n"
          ]
        },
        {
          "output_type": "stream",
          "name": "stderr",
          "text": [
            "INFO - ------------ Epoch 4 ------------\n",
            "INFO - Training:   Loss = 2.835 | Gradient norm = 6.681 | Param update norm = 0.331 | Runtime in seconds = 2.214\n",
            "INFO - Validation: Loss = 44.543 | Mae e = 8.159 | Mae f = 0.978 | Rmse e = 8.175 | Rmse f = 1.333\n",
            "INFO - Saving checkpoint at epoch 4...\n",
            "INFO - Best model: Loss = 44.543 | Best epoch = 4\n"
          ]
        },
        {
          "output_type": "stream",
          "name": "stdout",
          "text": [
            "here??\n"
          ]
        },
        {
          "output_type": "stream",
          "name": "stderr",
          "text": [
            "INFO - ------------ Epoch 5 ------------\n",
            "INFO - Training:   Loss = 1.763 | Gradient norm = 4.910 | Param update norm = 0.328 | Runtime in seconds = 2.261\n",
            "INFO - Validation: Loss = 37.484 | Mae e = 8.844 | Mae f = 0.893 | Rmse e = 8.856 | Rmse f = 1.223\n",
            "INFO - Saving checkpoint at epoch 5...\n",
            "INFO - Best model: Loss = 37.484 | Best epoch = 5\n"
          ]
        },
        {
          "output_type": "stream",
          "name": "stdout",
          "text": [
            "here??\n"
          ]
        },
        {
          "output_type": "stream",
          "name": "stderr",
          "text": [
            "INFO - ------------ Epoch 6 ------------\n",
            "INFO - Training:   Loss = 1.258 | Gradient norm = 5.725 | Param update norm = 0.248 | Runtime in seconds = 2.273\n",
            "INFO - Validation: Loss = 32.714 | Mae e = 8.871 | Mae f = 0.831 | Rmse e = 8.882 | Rmse f = 1.142\n",
            "INFO - Saving checkpoint at epoch 6...\n",
            "INFO - Best model: Loss = 32.714 | Best epoch = 6\n"
          ]
        },
        {
          "output_type": "stream",
          "name": "stdout",
          "text": [
            "here??\n"
          ]
        },
        {
          "output_type": "stream",
          "name": "stderr",
          "text": [
            "INFO - ------------ Epoch 7 ------------\n",
            "INFO - Training:   Loss = 1.017 | Gradient norm = 6.694 | Param update norm = 0.210 | Runtime in seconds = 2.298\n",
            "INFO - Validation: Loss = 28.646 | Mae e = 8.556 | Mae f = 0.774 | Rmse e = 8.566 | Rmse f = 1.069\n",
            "INFO - Saving checkpoint at epoch 7...\n",
            "INFO - Best model: Loss = 28.646 | Best epoch = 7\n"
          ]
        },
        {
          "output_type": "stream",
          "name": "stdout",
          "text": [
            "here??\n"
          ]
        },
        {
          "output_type": "stream",
          "name": "stderr",
          "text": [
            "INFO - ------------ Epoch 8 ------------\n",
            "INFO - Training:   Loss = 0.812 | Gradient norm = 5.339 | Param update norm = 0.193 | Runtime in seconds = 2.110\n",
            "INFO - Validation: Loss = 25.089 | Mae e = 8.029 | Mae f = 0.720 | Rmse e = 8.038 | Rmse f = 1.000\n",
            "INFO - Saving checkpoint at epoch 8...\n",
            "INFO - Best model: Loss = 25.089 | Best epoch = 8\n"
          ]
        },
        {
          "output_type": "stream",
          "name": "stdout",
          "text": [
            "here??\n"
          ]
        },
        {
          "output_type": "stream",
          "name": "stderr",
          "text": [
            "INFO - ------------ Epoch 9 ------------\n",
            "INFO - Training:   Loss = 0.706 | Gradient norm = 4.399 | Param update norm = 0.188 | Runtime in seconds = 2.974\n",
            "INFO - Validation: Loss = 22.000 | Mae e = 7.415 | Mae f = 0.670 | Rmse e = 7.424 | Rmse f = 0.936\n",
            "INFO - Saving checkpoint at epoch 9...\n",
            "INFO - Best model: Loss = 22.000 | Best epoch = 9\n"
          ]
        },
        {
          "output_type": "stream",
          "name": "stdout",
          "text": [
            "here??\n"
          ]
        },
        {
          "output_type": "stream",
          "name": "stderr",
          "text": [
            "INFO - ------------ Epoch 10 ------------\n",
            "INFO - Training:   Loss = 0.608 | Gradient norm = 4.710 | Param update norm = 0.168 | Runtime in seconds = 2.098\n",
            "INFO - Validation: Loss = 19.320 | Mae e = 6.696 | Mae f = 0.624 | Rmse e = 6.705 | Rmse f = 0.878\n",
            "INFO - Saving checkpoint at epoch 10...\n",
            "INFO - Best model: Loss = 19.320 | Best epoch = 10\n"
          ]
        },
        {
          "output_type": "stream",
          "name": "stdout",
          "text": [
            "here??\n"
          ]
        },
        {
          "output_type": "stream",
          "name": "stderr",
          "text": [
            "INFO - ------------ Epoch 11 ------------\n",
            "INFO - Training:   Loss = 0.544 | Gradient norm = 4.110 | Param update norm = 0.159 | Runtime in seconds = 2.174\n",
            "INFO - Validation: Loss = 16.900 | Mae e = 6.001 | Mae f = 0.579 | Rmse e = 6.010 | Rmse f = 0.821\n",
            "INFO - Saving checkpoint at epoch 11...\n",
            "INFO - Best model: Loss = 16.900 | Best epoch = 11\n"
          ]
        },
        {
          "output_type": "stream",
          "name": "stdout",
          "text": [
            "here??\n"
          ]
        },
        {
          "output_type": "stream",
          "name": "stderr",
          "text": [
            "INFO - ------------ Epoch 12 ------------\n",
            "INFO - Training:   Loss = 0.498 | Gradient norm = 4.002 | Param update norm = 0.147 | Runtime in seconds = 1.981\n",
            "INFO - Validation: Loss = 14.797 | Mae e = 5.355 | Mae f = 0.538 | Rmse e = 5.364 | Rmse f = 0.768\n",
            "INFO - Saving checkpoint at epoch 12...\n",
            "INFO - Best model: Loss = 14.797 | Best epoch = 12\n"
          ]
        },
        {
          "output_type": "stream",
          "name": "stdout",
          "text": [
            "here??\n"
          ]
        },
        {
          "output_type": "stream",
          "name": "stderr",
          "text": [
            "INFO - ------------ Epoch 13 ------------\n",
            "INFO - Training:   Loss = 0.448 | Gradient norm = 3.586 | Param update norm = 0.132 | Runtime in seconds = 2.193\n",
            "INFO - Validation: Loss = 13.049 | Mae e = 4.743 | Mae f = 0.502 | Rmse e = 4.752 | Rmse f = 0.722\n",
            "INFO - Saving checkpoint at epoch 13...\n",
            "INFO - Best model: Loss = 13.049 | Best epoch = 13\n"
          ]
        },
        {
          "output_type": "stream",
          "name": "stdout",
          "text": [
            "here??\n"
          ]
        },
        {
          "output_type": "stream",
          "name": "stderr",
          "text": [
            "INFO - ------------ Epoch 14 ------------\n",
            "INFO - Training:   Loss = 0.410 | Gradient norm = 3.341 | Param update norm = 0.126 | Runtime in seconds = 2.214\n",
            "INFO - Validation: Loss = 11.611 | Mae e = 4.181 | Mae f = 0.471 | Rmse e = 4.190 | Rmse f = 0.681\n",
            "INFO - Saving checkpoint at epoch 14...\n",
            "INFO - Best model: Loss = 11.611 | Best epoch = 14\n"
          ]
        },
        {
          "output_type": "stream",
          "name": "stdout",
          "text": [
            "here??\n"
          ]
        },
        {
          "output_type": "stream",
          "name": "stderr",
          "text": [
            "INFO - ------------ Epoch 15 ------------\n",
            "INFO - Training:   Loss = 0.375 | Gradient norm = 3.018 | Param update norm = 0.119 | Runtime in seconds = 2.181\n",
            "INFO - Validation: Loss = 10.405 | Mae e = 3.705 | Mae f = 0.443 | Rmse e = 3.715 | Rmse f = 0.645\n",
            "INFO - Saving checkpoint at epoch 15...\n",
            "INFO - Best model: Loss = 10.405 | Best epoch = 15\n"
          ]
        },
        {
          "output_type": "stream",
          "name": "stdout",
          "text": [
            "here??\n"
          ]
        },
        {
          "output_type": "stream",
          "name": "stderr",
          "text": [
            "INFO - ------------ Epoch 16 ------------\n",
            "INFO - Training:   Loss = 0.355 | Gradient norm = 3.555 | Param update norm = 0.118 | Runtime in seconds = 2.244\n",
            "INFO - Validation: Loss = 9.400 | Mae e = 3.311 | Mae f = 0.419 | Rmse e = 3.322 | Rmse f = 0.613\n",
            "INFO - Saving checkpoint at epoch 16...\n",
            "INFO - Best model: Loss = 9.400 | Best epoch = 16\n"
          ]
        },
        {
          "output_type": "stream",
          "name": "stdout",
          "text": [
            "here??\n"
          ]
        },
        {
          "output_type": "stream",
          "name": "stderr",
          "text": [
            "INFO - ------------ Epoch 17 ------------\n",
            "INFO - Training:   Loss = 0.339 | Gradient norm = 3.849 | Param update norm = 0.117 | Runtime in seconds = 2.052\n",
            "INFO - Validation: Loss = 8.563 | Mae e = 2.979 | Mae f = 0.398 | Rmse e = 2.989 | Rmse f = 0.585\n",
            "INFO - Saving checkpoint at epoch 17...\n",
            "INFO - Best model: Loss = 8.563 | Best epoch = 17\n"
          ]
        },
        {
          "output_type": "stream",
          "name": "stdout",
          "text": [
            "here??\n"
          ]
        },
        {
          "output_type": "stream",
          "name": "stderr",
          "text": [
            "INFO - ------------ Epoch 18 ------------\n",
            "INFO - Training:   Loss = 0.321 | Gradient norm = 3.663 | Param update norm = 0.117 | Runtime in seconds = 2.051\n",
            "INFO - Validation: Loss = 7.855 | Mae e = 2.708 | Mae f = 0.379 | Rmse e = 2.719 | Rmse f = 0.560\n",
            "INFO - Saving checkpoint at epoch 18...\n",
            "INFO - Best model: Loss = 7.855 | Best epoch = 18\n"
          ]
        },
        {
          "output_type": "stream",
          "name": "stdout",
          "text": [
            "here??\n"
          ]
        },
        {
          "output_type": "stream",
          "name": "stderr",
          "text": [
            "INFO - ------------ Epoch 19 ------------\n",
            "INFO - Training:   Loss = 0.291 | Gradient norm = 3.222 | Param update norm = 0.102 | Runtime in seconds = 2.082\n",
            "INFO - Validation: Loss = 7.296 | Mae e = 2.451 | Mae f = 0.364 | Rmse e = 2.462 | Rmse f = 0.540\n",
            "INFO - Saving checkpoint at epoch 19...\n",
            "INFO - Best model: Loss = 7.296 | Best epoch = 19\n"
          ]
        },
        {
          "output_type": "stream",
          "name": "stdout",
          "text": [
            "here??\n"
          ]
        },
        {
          "output_type": "stream",
          "name": "stderr",
          "text": [
            "INFO - ------------ Epoch 20 ------------\n",
            "INFO - Training:   Loss = 0.289 | Gradient norm = 3.481 | Param update norm = 0.115 | Runtime in seconds = 2.220\n",
            "INFO - Validation: Loss = 6.800 | Mae e = 2.241 | Mae f = 0.350 | Rmse e = 2.253 | Rmse f = 0.521\n",
            "INFO - Saving checkpoint at epoch 20...\n",
            "INFO - Best model: Loss = 6.800 | Best epoch = 20\n"
          ]
        },
        {
          "output_type": "stream",
          "name": "stdout",
          "text": [
            "here??\n"
          ]
        },
        {
          "output_type": "stream",
          "name": "stderr",
          "text": [
            "INFO - ------------ Epoch 21 ------------\n",
            "INFO - Training:   Loss = 0.267 | Gradient norm = 3.173 | Param update norm = 0.098 | Runtime in seconds = 2.218\n",
            "INFO - Validation: Loss = 6.413 | Mae e = 2.043 | Mae f = 0.339 | Rmse e = 2.056 | Rmse f = 0.506\n",
            "INFO - Saving checkpoint at epoch 21...\n",
            "INFO - Best model: Loss = 6.413 | Best epoch = 21\n"
          ]
        },
        {
          "output_type": "stream",
          "name": "stdout",
          "text": [
            "here??\n"
          ]
        },
        {
          "output_type": "stream",
          "name": "stderr",
          "text": [
            "INFO - ------------ Epoch 22 ------------\n",
            "INFO - Training:   Loss = 0.247 | Gradient norm = 2.591 | Param update norm = 0.093 | Runtime in seconds = 2.131\n",
            "INFO - Validation: Loss = 6.074 | Mae e = 1.862 | Mae f = 0.329 | Rmse e = 1.876 | Rmse f = 0.493\n",
            "INFO - Saving checkpoint at epoch 22...\n",
            "INFO - Best model: Loss = 6.074 | Best epoch = 22\n"
          ]
        },
        {
          "output_type": "stream",
          "name": "stdout",
          "text": [
            "here??\n"
          ]
        },
        {
          "output_type": "stream",
          "name": "stderr",
          "text": [
            "INFO - ------------ Epoch 23 ------------\n",
            "INFO - Training:   Loss = 0.232 | Gradient norm = 2.446 | Param update norm = 0.086 | Runtime in seconds = 2.224\n",
            "INFO - Validation: Loss = 5.786 | Mae e = 1.715 | Mae f = 0.320 | Rmse e = 1.729 | Rmse f = 0.481\n",
            "INFO - Saving checkpoint at epoch 23...\n",
            "INFO - Best model: Loss = 5.786 | Best epoch = 23\n"
          ]
        },
        {
          "output_type": "stream",
          "name": "stdout",
          "text": [
            "here??\n"
          ]
        },
        {
          "output_type": "stream",
          "name": "stderr",
          "text": [
            "INFO - ------------ Epoch 24 ------------\n",
            "INFO - Training:   Loss = 0.232 | Gradient norm = 3.116 | Param update norm = 0.093 | Runtime in seconds = 2.333\n",
            "INFO - Validation: Loss = 5.525 | Mae e = 1.597 | Mae f = 0.312 | Rmse e = 1.611 | Rmse f = 0.470\n",
            "INFO - Saving checkpoint at epoch 24...\n",
            "INFO - Best model: Loss = 5.525 | Best epoch = 24\n"
          ]
        },
        {
          "output_type": "stream",
          "name": "stdout",
          "text": [
            "here??\n"
          ]
        },
        {
          "output_type": "stream",
          "name": "stderr",
          "text": [
            "INFO - ------------ Epoch 25 ------------\n",
            "INFO - Training:   Loss = 0.217 | Gradient norm = 2.412 | Param update norm = 0.091 | Runtime in seconds = 2.277\n",
            "INFO - Validation: Loss = 5.305 | Mae e = 1.461 | Mae f = 0.305 | Rmse e = 1.476 | Rmse f = 0.461\n",
            "INFO - Saving checkpoint at epoch 25...\n",
            "INFO - Best model: Loss = 5.305 | Best epoch = 25\n"
          ]
        },
        {
          "output_type": "stream",
          "name": "stdout",
          "text": [
            "here??\n"
          ]
        },
        {
          "output_type": "stream",
          "name": "stderr",
          "text": [
            "INFO - ------------ Epoch 26 ------------\n",
            "INFO - Training:   Loss = 0.207 | Gradient norm = 2.503 | Param update norm = 0.086 | Runtime in seconds = 2.346\n",
            "INFO - Validation: Loss = 5.121 | Mae e = 1.346 | Mae f = 0.299 | Rmse e = 1.362 | Rmse f = 0.452\n",
            "INFO - Saving checkpoint at epoch 26...\n",
            "INFO - Best model: Loss = 5.121 | Best epoch = 26\n"
          ]
        },
        {
          "output_type": "stream",
          "name": "stdout",
          "text": [
            "here??\n"
          ]
        },
        {
          "output_type": "stream",
          "name": "stderr",
          "text": [
            "INFO - ------------ Epoch 27 ------------\n",
            "INFO - Training:   Loss = 0.196 | Gradient norm = 2.078 | Param update norm = 0.078 | Runtime in seconds = 2.197\n",
            "INFO - Validation: Loss = 4.936 | Mae e = 1.252 | Mae f = 0.293 | Rmse e = 1.269 | Rmse f = 0.444\n",
            "INFO - Saving checkpoint at epoch 27...\n",
            "INFO - Best model: Loss = 4.936 | Best epoch = 27\n"
          ]
        },
        {
          "output_type": "stream",
          "name": "stdout",
          "text": [
            "here??\n"
          ]
        },
        {
          "output_type": "stream",
          "name": "stderr",
          "text": [
            "INFO - ------------ Epoch 28 ------------\n",
            "INFO - Training:   Loss = 0.201 | Gradient norm = 2.949 | Param update norm = 0.088 | Runtime in seconds = 2.357\n",
            "INFO - Validation: Loss = 4.794 | Mae e = 1.165 | Mae f = 0.288 | Rmse e = 1.183 | Rmse f = 0.438\n",
            "INFO - Saving checkpoint at epoch 28...\n",
            "INFO - Best model: Loss = 4.794 | Best epoch = 28\n"
          ]
        },
        {
          "output_type": "stream",
          "name": "stdout",
          "text": [
            "here??\n"
          ]
        },
        {
          "output_type": "stream",
          "name": "stderr",
          "text": [
            "INFO - ------------ Epoch 29 ------------\n",
            "INFO - Training:   Loss = 0.183 | Gradient norm = 2.083 | Param update norm = 0.077 | Runtime in seconds = 2.233\n",
            "INFO - Validation: Loss = 4.631 | Mae e = 1.104 | Mae f = 0.282 | Rmse e = 1.122 | Rmse f = 0.430\n",
            "INFO - Saving checkpoint at epoch 29...\n",
            "INFO - Best model: Loss = 4.631 | Best epoch = 29\n"
          ]
        },
        {
          "output_type": "stream",
          "name": "stdout",
          "text": [
            "here??\n"
          ]
        },
        {
          "output_type": "stream",
          "name": "stderr",
          "text": [
            "INFO - ------------ Epoch 30 ------------\n",
            "INFO - Training:   Loss = 0.176 | Gradient norm = 2.096 | Param update norm = 0.076 | Runtime in seconds = 2.365\n",
            "INFO - Validation: Loss = 4.492 | Mae e = 1.033 | Mae f = 0.277 | Rmse e = 1.052 | Rmse f = 0.424\n",
            "INFO - Saving checkpoint at epoch 30...\n",
            "INFO - Best model: Loss = 4.492 | Best epoch = 30\n"
          ]
        },
        {
          "output_type": "stream",
          "name": "stdout",
          "text": [
            "here??\n"
          ]
        },
        {
          "output_type": "stream",
          "name": "stderr",
          "text": [
            "INFO - ------------ Epoch 31 ------------\n",
            "INFO - Training:   Loss = 0.171 | Gradient norm = 1.832 | Param update norm = 0.079 | Runtime in seconds = 2.295\n",
            "INFO - Validation: Loss = 4.360 | Mae e = 0.977 | Mae f = 0.273 | Rmse e = 0.996 | Rmse f = 0.418\n",
            "INFO - Saving checkpoint at epoch 31...\n",
            "INFO - Best model: Loss = 4.360 | Best epoch = 31\n"
          ]
        },
        {
          "output_type": "stream",
          "name": "stdout",
          "text": [
            "here??\n"
          ]
        },
        {
          "output_type": "stream",
          "name": "stderr",
          "text": [
            "INFO - ------------ Epoch 32 ------------\n",
            "INFO - Training:   Loss = 0.163 | Gradient norm = 1.794 | Param update norm = 0.073 | Runtime in seconds = 2.233\n",
            "INFO - Validation: Loss = 4.256 | Mae e = 0.922 | Mae f = 0.269 | Rmse e = 0.942 | Rmse f = 0.413\n",
            "INFO - Saving checkpoint at epoch 32...\n",
            "INFO - Best model: Loss = 4.256 | Best epoch = 32\n"
          ]
        },
        {
          "output_type": "stream",
          "name": "stdout",
          "text": [
            "here??\n"
          ]
        },
        {
          "output_type": "stream",
          "name": "stderr",
          "text": [
            "INFO - ------------ Epoch 33 ------------\n",
            "INFO - Training:   Loss = 0.170 | Gradient norm = 2.649 | Param update norm = 0.089 | Runtime in seconds = 2.209\n",
            "INFO - Validation: Loss = 4.140 | Mae e = 0.885 | Mae f = 0.265 | Rmse e = 0.905 | Rmse f = 0.407\n",
            "INFO - Saving checkpoint at epoch 33...\n",
            "INFO - Best model: Loss = 4.140 | Best epoch = 33\n"
          ]
        },
        {
          "output_type": "stream",
          "name": "stdout",
          "text": [
            "here??\n"
          ]
        },
        {
          "output_type": "stream",
          "name": "stderr",
          "text": [
            "INFO - ------------ Epoch 34 ------------\n",
            "INFO - Training:   Loss = 0.158 | Gradient norm = 1.932 | Param update norm = 0.078 | Runtime in seconds = 2.313\n",
            "INFO - Validation: Loss = 4.051 | Mae e = 0.825 | Mae f = 0.262 | Rmse e = 0.846 | Rmse f = 0.403\n",
            "INFO - Saving checkpoint at epoch 34...\n",
            "INFO - Best model: Loss = 4.051 | Best epoch = 34\n"
          ]
        },
        {
          "output_type": "stream",
          "name": "stdout",
          "text": [
            "here??\n"
          ]
        },
        {
          "output_type": "stream",
          "name": "stderr",
          "text": [
            "INFO - ------------ Epoch 35 ------------\n",
            "INFO - Training:   Loss = 0.158 | Gradient norm = 2.246 | Param update norm = 0.082 | Runtime in seconds = 2.265\n",
            "INFO - Validation: Loss = 3.948 | Mae e = 0.799 | Mae f = 0.258 | Rmse e = 0.820 | Rmse f = 0.397\n",
            "INFO - Saving checkpoint at epoch 35...\n",
            "INFO - Best model: Loss = 3.948 | Best epoch = 35\n"
          ]
        },
        {
          "output_type": "stream",
          "name": "stdout",
          "text": [
            "here??\n"
          ]
        },
        {
          "output_type": "stream",
          "name": "stderr",
          "text": [
            "INFO - ------------ Epoch 36 ------------\n",
            "INFO - Training:   Loss = 0.147 | Gradient norm = 1.842 | Param update norm = 0.073 | Runtime in seconds = 2.227\n",
            "INFO - Validation: Loss = 3.861 | Mae e = 0.758 | Mae f = 0.255 | Rmse e = 0.778 | Rmse f = 0.393\n",
            "INFO - Saving checkpoint at epoch 36...\n",
            "INFO - Best model: Loss = 3.861 | Best epoch = 36\n"
          ]
        },
        {
          "output_type": "stream",
          "name": "stdout",
          "text": [
            "here??\n"
          ]
        },
        {
          "output_type": "stream",
          "name": "stderr",
          "text": [
            "INFO - ------------ Epoch 37 ------------\n",
            "INFO - Training:   Loss = 0.146 | Gradient norm = 2.325 | Param update norm = 0.076 | Runtime in seconds = 2.130\n",
            "INFO - Validation: Loss = 3.757 | Mae e = 0.731 | Mae f = 0.251 | Rmse e = 0.751 | Rmse f = 0.388\n",
            "INFO - Saving checkpoint at epoch 37...\n",
            "INFO - Best model: Loss = 3.757 | Best epoch = 37\n"
          ]
        },
        {
          "output_type": "stream",
          "name": "stdout",
          "text": [
            "here??\n"
          ]
        },
        {
          "output_type": "stream",
          "name": "stderr",
          "text": [
            "INFO - ------------ Epoch 38 ------------\n",
            "INFO - Training:   Loss = 0.139 | Gradient norm = 1.864 | Param update norm = 0.069 | Runtime in seconds = 2.241\n",
            "INFO - Validation: Loss = 3.677 | Mae e = 0.687 | Mae f = 0.248 | Rmse e = 0.708 | Rmse f = 0.383\n",
            "INFO - Saving checkpoint at epoch 38...\n",
            "INFO - Best model: Loss = 3.677 | Best epoch = 38\n"
          ]
        },
        {
          "output_type": "stream",
          "name": "stdout",
          "text": [
            "here??\n"
          ]
        },
        {
          "output_type": "stream",
          "name": "stderr",
          "text": [
            "INFO - ------------ Epoch 39 ------------\n",
            "INFO - Training:   Loss = 0.142 | Gradient norm = 2.389 | Param update norm = 0.075 | Runtime in seconds = 2.248\n",
            "INFO - Validation: Loss = 3.583 | Mae e = 0.667 | Mae f = 0.244 | Rmse e = 0.687 | Rmse f = 0.379\n",
            "INFO - Saving checkpoint at epoch 39...\n",
            "INFO - Best model: Loss = 3.583 | Best epoch = 39\n"
          ]
        },
        {
          "output_type": "stream",
          "name": "stdout",
          "text": [
            "here??\n"
          ]
        },
        {
          "output_type": "stream",
          "name": "stderr",
          "text": [
            "INFO - ------------ Epoch 40 ------------\n",
            "INFO - Training:   Loss = 0.140 | Gradient norm = 2.272 | Param update norm = 0.080 | Runtime in seconds = 2.259\n",
            "INFO - Validation: Loss = 3.510 | Mae e = 0.645 | Mae f = 0.241 | Rmse e = 0.665 | Rmse f = 0.375\n",
            "INFO - Saving checkpoint at epoch 40...\n",
            "INFO - Best model: Loss = 3.510 | Best epoch = 40\n"
          ]
        },
        {
          "output_type": "stream",
          "name": "stdout",
          "text": [
            "here??\n"
          ]
        },
        {
          "output_type": "stream",
          "name": "stderr",
          "text": [
            "INFO - ------------ Epoch 41 ------------\n",
            "INFO - Training:   Loss = 0.134 | Gradient norm = 2.045 | Param update norm = 0.075 | Runtime in seconds = 2.204\n",
            "INFO - Validation: Loss = 3.433 | Mae e = 0.625 | Mae f = 0.238 | Rmse e = 0.645 | Rmse f = 0.371\n",
            "INFO - Saving checkpoint at epoch 41...\n",
            "INFO - Best model: Loss = 3.433 | Best epoch = 41\n"
          ]
        },
        {
          "output_type": "stream",
          "name": "stdout",
          "text": [
            "here??\n"
          ]
        },
        {
          "output_type": "stream",
          "name": "stderr",
          "text": [
            "INFO - ------------ Epoch 42 ------------\n",
            "INFO - Training:   Loss = 0.137 | Gradient norm = 2.549 | Param update norm = 0.078 | Runtime in seconds = 2.132\n",
            "INFO - Validation: Loss = 3.364 | Mae e = 0.607 | Mae f = 0.236 | Rmse e = 0.627 | Rmse f = 0.367\n",
            "INFO - Saving checkpoint at epoch 42...\n",
            "INFO - Best model: Loss = 3.364 | Best epoch = 42\n"
          ]
        },
        {
          "output_type": "stream",
          "name": "stdout",
          "text": [
            "here??\n"
          ]
        },
        {
          "output_type": "stream",
          "name": "stderr",
          "text": [
            "INFO - ------------ Epoch 43 ------------\n",
            "INFO - Training:   Loss = 0.127 | Gradient norm = 2.049 | Param update norm = 0.069 | Runtime in seconds = 2.269\n",
            "INFO - Validation: Loss = 3.307 | Mae e = 0.586 | Mae f = 0.234 | Rmse e = 0.606 | Rmse f = 0.364\n",
            "INFO - Saving checkpoint at epoch 43...\n",
            "INFO - Best model: Loss = 3.307 | Best epoch = 43\n"
          ]
        },
        {
          "output_type": "stream",
          "name": "stdout",
          "text": [
            "here??\n"
          ]
        },
        {
          "output_type": "stream",
          "name": "stderr",
          "text": [
            "INFO - ------------ Epoch 44 ------------\n",
            "INFO - Training:   Loss = 0.128 | Gradient norm = 2.331 | Param update norm = 0.073 | Runtime in seconds = 2.247\n",
            "INFO - Validation: Loss = 3.256 | Mae e = 0.560 | Mae f = 0.232 | Rmse e = 0.580 | Rmse f = 0.361\n",
            "INFO - Saving checkpoint at epoch 44...\n",
            "INFO - Best model: Loss = 3.256 | Best epoch = 44\n"
          ]
        },
        {
          "output_type": "stream",
          "name": "stdout",
          "text": [
            "here??\n"
          ]
        },
        {
          "output_type": "stream",
          "name": "stderr",
          "text": [
            "INFO - ------------ Epoch 45 ------------\n",
            "INFO - Training:   Loss = 0.121 | Gradient norm = 1.772 | Param update norm = 0.069 | Runtime in seconds = 2.247\n",
            "INFO - Validation: Loss = 3.203 | Mae e = 0.540 | Mae f = 0.229 | Rmse e = 0.560 | Rmse f = 0.358\n",
            "INFO - Saving checkpoint at epoch 45...\n",
            "INFO - Best model: Loss = 3.203 | Best epoch = 45\n"
          ]
        },
        {
          "output_type": "stream",
          "name": "stdout",
          "text": [
            "here??\n"
          ]
        },
        {
          "output_type": "stream",
          "name": "stderr",
          "text": [
            "INFO - ------------ Epoch 46 ------------\n",
            "INFO - Training:   Loss = 0.119 | Gradient norm = 1.969 | Param update norm = 0.067 | Runtime in seconds = 2.295\n",
            "INFO - Validation: Loss = 3.161 | Mae e = 0.515 | Mae f = 0.228 | Rmse e = 0.535 | Rmse f = 0.356\n",
            "INFO - Saving checkpoint at epoch 46...\n",
            "INFO - Best model: Loss = 3.161 | Best epoch = 46\n"
          ]
        },
        {
          "output_type": "stream",
          "name": "stdout",
          "text": [
            "here??\n"
          ]
        },
        {
          "output_type": "stream",
          "name": "stderr",
          "text": [
            "INFO - ------------ Epoch 47 ------------\n",
            "INFO - Training:   Loss = 0.120 | Gradient norm = 2.446 | Param update norm = 0.070 | Runtime in seconds = 2.367\n",
            "INFO - Validation: Loss = 3.108 | Mae e = 0.508 | Mae f = 0.225 | Rmse e = 0.528 | Rmse f = 0.353\n",
            "INFO - Saving checkpoint at epoch 47...\n",
            "INFO - Best model: Loss = 3.108 | Best epoch = 47\n"
          ]
        },
        {
          "output_type": "stream",
          "name": "stdout",
          "text": [
            "here??\n"
          ]
        },
        {
          "output_type": "stream",
          "name": "stderr",
          "text": [
            "INFO - ------------ Epoch 48 ------------\n",
            "INFO - Training:   Loss = 0.118 | Gradient norm = 2.256 | Param update norm = 0.069 | Runtime in seconds = 2.446\n",
            "INFO - Validation: Loss = 3.056 | Mae e = 0.495 | Mae f = 0.223 | Rmse e = 0.515 | Rmse f = 0.350\n",
            "INFO - Saving checkpoint at epoch 48...\n",
            "INFO - Best model: Loss = 3.056 | Best epoch = 48\n"
          ]
        },
        {
          "output_type": "stream",
          "name": "stdout",
          "text": [
            "here??\n"
          ]
        },
        {
          "output_type": "stream",
          "name": "stderr",
          "text": [
            "INFO - ------------ Epoch 49 ------------\n",
            "INFO - Training:   Loss = 0.114 | Gradient norm = 1.968 | Param update norm = 0.072 | Runtime in seconds = 2.076\n",
            "INFO - Validation: Loss = 3.009 | Mae e = 0.482 | Mae f = 0.221 | Rmse e = 0.503 | Rmse f = 0.347\n",
            "INFO - Saving checkpoint at epoch 49...\n",
            "INFO - Best model: Loss = 3.009 | Best epoch = 49\n"
          ]
        },
        {
          "output_type": "stream",
          "name": "stdout",
          "text": [
            "here??\n"
          ]
        },
        {
          "output_type": "stream",
          "name": "stderr",
          "text": [
            "INFO - ------------ Epoch 50 ------------\n",
            "INFO - Training:   Loss = 0.114 | Gradient norm = 1.882 | Param update norm = 0.068 | Runtime in seconds = 2.360\n",
            "INFO - Validation: Loss = 2.964 | Mae e = 0.476 | Mae f = 0.220 | Rmse e = 0.496 | Rmse f = 0.344\n",
            "INFO - Saving checkpoint at epoch 50...\n",
            "INFO - Best model: Loss = 2.964 | Best epoch = 50\n"
          ]
        },
        {
          "output_type": "stream",
          "name": "stdout",
          "text": [
            "here??\n"
          ]
        },
        {
          "output_type": "stream",
          "name": "stderr",
          "text": [
            "INFO - ------------ Epoch 51 ------------\n",
            "INFO - Training:   Loss = 0.113 | Gradient norm = 1.933 | Param update norm = 0.072 | Runtime in seconds = 2.217\n",
            "INFO - Validation: Loss = 2.929 | Mae e = 0.465 | Mae f = 0.218 | Rmse e = 0.485 | Rmse f = 0.342\n",
            "INFO - Saving checkpoint at epoch 51...\n",
            "INFO - Best model: Loss = 2.929 | Best epoch = 51\n"
          ]
        },
        {
          "output_type": "stream",
          "name": "stdout",
          "text": [
            "here??\n"
          ]
        },
        {
          "output_type": "stream",
          "name": "stderr",
          "text": [
            "INFO - ------------ Epoch 52 ------------\n",
            "INFO - Training:   Loss = 0.107 | Gradient norm = 1.898 | Param update norm = 0.064 | Runtime in seconds = 2.328\n",
            "INFO - Validation: Loss = 2.895 | Mae e = 0.442 | Mae f = 0.217 | Rmse e = 0.463 | Rmse f = 0.340\n",
            "INFO - Saving checkpoint at epoch 52...\n",
            "INFO - Best model: Loss = 2.895 | Best epoch = 52\n"
          ]
        },
        {
          "output_type": "stream",
          "name": "stdout",
          "text": [
            "here??\n"
          ]
        },
        {
          "output_type": "stream",
          "name": "stderr",
          "text": [
            "INFO - ------------ Epoch 53 ------------\n",
            "INFO - Training:   Loss = 0.108 | Gradient norm = 2.250 | Param update norm = 0.064 | Runtime in seconds = 2.300\n",
            "INFO - Validation: Loss = 2.861 | Mae e = 0.427 | Mae f = 0.215 | Rmse e = 0.448 | Rmse f = 0.338\n",
            "INFO - Saving checkpoint at epoch 53...\n",
            "INFO - Best model: Loss = 2.861 | Best epoch = 53\n"
          ]
        },
        {
          "output_type": "stream",
          "name": "stdout",
          "text": [
            "here??\n"
          ]
        },
        {
          "output_type": "stream",
          "name": "stderr",
          "text": [
            "INFO - ------------ Epoch 54 ------------\n",
            "INFO - Training:   Loss = 0.107 | Gradient norm = 2.032 | Param update norm = 0.067 | Runtime in seconds = 1.961\n",
            "INFO - Validation: Loss = 2.817 | Mae e = 0.425 | Mae f = 0.213 | Rmse e = 0.446 | Rmse f = 0.336\n",
            "INFO - Saving checkpoint at epoch 54...\n",
            "INFO - Best model: Loss = 2.817 | Best epoch = 54\n"
          ]
        },
        {
          "output_type": "stream",
          "name": "stdout",
          "text": [
            "here??\n"
          ]
        },
        {
          "output_type": "stream",
          "name": "stderr",
          "text": [
            "INFO - ------------ Epoch 55 ------------\n",
            "INFO - Training:   Loss = 0.107 | Gradient norm = 2.267 | Param update norm = 0.068 | Runtime in seconds = 2.102\n",
            "INFO - Validation: Loss = 2.782 | Mae e = 0.410 | Mae f = 0.212 | Rmse e = 0.432 | Rmse f = 0.334\n",
            "INFO - Saving checkpoint at epoch 55...\n",
            "INFO - Best model: Loss = 2.782 | Best epoch = 55\n"
          ]
        },
        {
          "output_type": "stream",
          "name": "stdout",
          "text": [
            "here??\n"
          ]
        },
        {
          "output_type": "stream",
          "name": "stderr",
          "text": [
            "INFO - ------------ Epoch 56 ------------\n",
            "INFO - Training:   Loss = 0.105 | Gradient norm = 2.167 | Param update norm = 0.067 | Runtime in seconds = 3.409\n",
            "INFO - Validation: Loss = 2.750 | Mae e = 0.402 | Mae f = 0.211 | Rmse e = 0.424 | Rmse f = 0.332\n",
            "INFO - Saving checkpoint at epoch 56...\n",
            "INFO - Best model: Loss = 2.750 | Best epoch = 56\n"
          ]
        },
        {
          "output_type": "stream",
          "name": "stdout",
          "text": [
            "here??\n"
          ]
        },
        {
          "output_type": "stream",
          "name": "stderr",
          "text": [
            "INFO - ------------ Epoch 57 ------------\n",
            "INFO - Training:   Loss = 0.108 | Gradient norm = 2.686 | Param update norm = 0.070 | Runtime in seconds = 2.134\n",
            "INFO - Validation: Loss = 2.721 | Mae e = 0.401 | Mae f = 0.209 | Rmse e = 0.423 | Rmse f = 0.330\n",
            "INFO - Saving checkpoint at epoch 57...\n",
            "INFO - Best model: Loss = 2.721 | Best epoch = 57\n"
          ]
        },
        {
          "output_type": "stream",
          "name": "stdout",
          "text": [
            "here??\n"
          ]
        },
        {
          "output_type": "stream",
          "name": "stderr",
          "text": [
            "INFO - ------------ Epoch 58 ------------\n",
            "INFO - Training:   Loss = 0.100 | Gradient norm = 1.908 | Param update norm = 0.064 | Runtime in seconds = 2.362\n",
            "INFO - Validation: Loss = 2.692 | Mae e = 0.400 | Mae f = 0.208 | Rmse e = 0.422 | Rmse f = 0.328\n",
            "INFO - Saving checkpoint at epoch 58...\n",
            "INFO - Best model: Loss = 2.692 | Best epoch = 58\n"
          ]
        },
        {
          "output_type": "stream",
          "name": "stdout",
          "text": [
            "here??\n"
          ]
        },
        {
          "output_type": "stream",
          "name": "stderr",
          "text": [
            "INFO - ------------ Epoch 59 ------------\n",
            "INFO - Training:   Loss = 0.101 | Gradient norm = 2.188 | Param update norm = 0.064 | Runtime in seconds = 2.410\n",
            "INFO - Validation: Loss = 2.667 | Mae e = 0.379 | Mae f = 0.207 | Rmse e = 0.402 | Rmse f = 0.327\n",
            "INFO - Saving checkpoint at epoch 59...\n",
            "INFO - Best model: Loss = 2.667 | Best epoch = 59\n"
          ]
        },
        {
          "output_type": "stream",
          "name": "stdout",
          "text": [
            "here??\n"
          ]
        },
        {
          "output_type": "stream",
          "name": "stderr",
          "text": [
            "INFO - ------------ Epoch 60 ------------\n",
            "INFO - Training:   Loss = 0.097 | Gradient norm = 1.928 | Param update norm = 0.060 | Runtime in seconds = 2.457\n",
            "INFO - Validation: Loss = 2.638 | Mae e = 0.381 | Mae f = 0.206 | Rmse e = 0.404 | Rmse f = 0.325\n",
            "INFO - Saving checkpoint at epoch 60...\n",
            "INFO - Best model: Loss = 2.638 | Best epoch = 60\n"
          ]
        },
        {
          "output_type": "stream",
          "name": "stdout",
          "text": [
            "here??\n"
          ]
        },
        {
          "output_type": "stream",
          "name": "stderr",
          "text": [
            "INFO - ------------ Epoch 61 ------------\n",
            "INFO - Training:   Loss = 0.094 | Gradient norm = 1.700 | Param update norm = 0.061 | Runtime in seconds = 2.554\n",
            "INFO - Validation: Loss = 2.608 | Mae e = 0.369 | Mae f = 0.204 | Rmse e = 0.391 | Rmse f = 0.323\n",
            "INFO - Saving checkpoint at epoch 61...\n",
            "INFO - Best model: Loss = 2.608 | Best epoch = 61\n"
          ]
        },
        {
          "output_type": "stream",
          "name": "stdout",
          "text": [
            "here??\n"
          ]
        },
        {
          "output_type": "stream",
          "name": "stderr",
          "text": [
            "INFO - ------------ Epoch 62 ------------\n",
            "INFO - Training:   Loss = 0.096 | Gradient norm = 1.981 | Param update norm = 0.063 | Runtime in seconds = 2.481\n",
            "INFO - Validation: Loss = 2.578 | Mae e = 0.356 | Mae f = 0.203 | Rmse e = 0.379 | Rmse f = 0.321\n",
            "INFO - Saving checkpoint at epoch 62...\n",
            "INFO - Best model: Loss = 2.578 | Best epoch = 62\n"
          ]
        },
        {
          "output_type": "stream",
          "name": "stdout",
          "text": [
            "here??\n"
          ]
        },
        {
          "output_type": "stream",
          "name": "stderr",
          "text": [
            "INFO - ------------ Epoch 63 ------------\n",
            "INFO - Training:   Loss = 0.106 | Gradient norm = 2.827 | Param update norm = 0.078 | Runtime in seconds = 2.653\n",
            "INFO - Validation: Loss = 2.555 | Mae e = 0.365 | Mae f = 0.202 | Rmse e = 0.387 | Rmse f = 0.320\n",
            "INFO - Saving checkpoint at epoch 63...\n",
            "INFO - Best model: Loss = 2.555 | Best epoch = 63\n"
          ]
        },
        {
          "output_type": "stream",
          "name": "stdout",
          "text": [
            "here??\n"
          ]
        },
        {
          "output_type": "stream",
          "name": "stderr",
          "text": [
            "INFO - ------------ Epoch 64 ------------\n",
            "INFO - Training:   Loss = 0.098 | Gradient norm = 2.142 | Param update norm = 0.068 | Runtime in seconds = 2.087\n",
            "INFO - Validation: Loss = 2.534 | Mae e = 0.366 | Mae f = 0.201 | Rmse e = 0.388 | Rmse f = 0.318\n",
            "INFO - Saving checkpoint at epoch 64...\n",
            "INFO - Best model: Loss = 2.534 | Best epoch = 64\n"
          ]
        },
        {
          "output_type": "stream",
          "name": "stdout",
          "text": [
            "here??\n"
          ]
        },
        {
          "output_type": "stream",
          "name": "stderr",
          "text": [
            "INFO - ------------ Epoch 65 ------------\n",
            "INFO - Training:   Loss = 0.093 | Gradient norm = 1.754 | Param update norm = 0.067 | Runtime in seconds = 2.195\n",
            "INFO - Validation: Loss = 2.514 | Mae e = 0.352 | Mae f = 0.200 | Rmse e = 0.375 | Rmse f = 0.317\n",
            "INFO - Saving checkpoint at epoch 65...\n",
            "INFO - Best model: Loss = 2.514 | Best epoch = 65\n"
          ]
        },
        {
          "output_type": "stream",
          "name": "stdout",
          "text": [
            "here??\n"
          ]
        },
        {
          "output_type": "stream",
          "name": "stderr",
          "text": [
            "INFO - ------------ Epoch 66 ------------\n",
            "INFO - Training:   Loss = 0.094 | Gradient norm = 1.939 | Param update norm = 0.066 | Runtime in seconds = 2.266\n",
            "INFO - Validation: Loss = 2.494 | Mae e = 0.350 | Mae f = 0.199 | Rmse e = 0.372 | Rmse f = 0.316\n",
            "INFO - Saving checkpoint at epoch 66...\n",
            "INFO - Best model: Loss = 2.494 | Best epoch = 66\n"
          ]
        },
        {
          "output_type": "stream",
          "name": "stdout",
          "text": [
            "here??\n"
          ]
        },
        {
          "output_type": "stream",
          "name": "stderr",
          "text": [
            "INFO - ------------ Epoch 67 ------------\n",
            "INFO - Training:   Loss = 0.096 | Gradient norm = 2.026 | Param update norm = 0.074 | Runtime in seconds = 2.282\n",
            "INFO - Validation: Loss = 2.479 | Mae e = 0.331 | Mae f = 0.199 | Rmse e = 0.355 | Rmse f = 0.315\n",
            "INFO - Saving checkpoint at epoch 67...\n",
            "INFO - Best model: Loss = 2.479 | Best epoch = 67\n"
          ]
        },
        {
          "output_type": "stream",
          "name": "stdout",
          "text": [
            "here??\n"
          ]
        },
        {
          "output_type": "stream",
          "name": "stderr",
          "text": [
            "INFO - ------------ Epoch 68 ------------\n",
            "INFO - Training:   Loss = 0.095 | Gradient norm = 2.249 | Param update norm = 0.067 | Runtime in seconds = 2.355\n",
            "INFO - Validation: Loss = 2.464 | Mae e = 0.340 | Mae f = 0.198 | Rmse e = 0.363 | Rmse f = 0.314\n",
            "INFO - Saving checkpoint at epoch 68...\n",
            "INFO - Best model: Loss = 2.464 | Best epoch = 68\n"
          ]
        },
        {
          "output_type": "stream",
          "name": "stdout",
          "text": [
            "here??\n"
          ]
        },
        {
          "output_type": "stream",
          "name": "stderr",
          "text": [
            "INFO - ------------ Epoch 69 ------------\n",
            "INFO - Training:   Loss = 0.090 | Gradient norm = 1.628 | Param update norm = 0.063 | Runtime in seconds = 2.261\n",
            "INFO - Validation: Loss = 2.443 | Mae e = 0.329 | Mae f = 0.197 | Rmse e = 0.353 | Rmse f = 0.313\n",
            "INFO - Saving checkpoint at epoch 69...\n",
            "INFO - Best model: Loss = 2.443 | Best epoch = 69\n"
          ]
        },
        {
          "output_type": "stream",
          "name": "stdout",
          "text": [
            "here??\n"
          ]
        },
        {
          "output_type": "stream",
          "name": "stderr",
          "text": [
            "INFO - ------------ Epoch 70 ------------\n",
            "INFO - Training:   Loss = 0.089 | Gradient norm = 2.124 | Param update norm = 0.059 | Runtime in seconds = 2.406\n",
            "INFO - Validation: Loss = 2.420 | Mae e = 0.323 | Mae f = 0.196 | Rmse e = 0.347 | Rmse f = 0.311\n",
            "INFO - Saving checkpoint at epoch 70...\n",
            "INFO - Best model: Loss = 2.420 | Best epoch = 70\n"
          ]
        },
        {
          "output_type": "stream",
          "name": "stdout",
          "text": [
            "here??\n"
          ]
        },
        {
          "output_type": "stream",
          "name": "stderr",
          "text": [
            "INFO - ------------ Epoch 71 ------------\n",
            "INFO - Training:   Loss = 0.090 | Gradient norm = 2.305 | Param update norm = 0.062 | Runtime in seconds = 2.467\n",
            "INFO - Validation: Loss = 2.397 | Mae e = 0.324 | Mae f = 0.195 | Rmse e = 0.348 | Rmse f = 0.310\n",
            "INFO - Saving checkpoint at epoch 71...\n",
            "INFO - Best model: Loss = 2.397 | Best epoch = 71\n"
          ]
        },
        {
          "output_type": "stream",
          "name": "stdout",
          "text": [
            "here??\n"
          ]
        },
        {
          "output_type": "stream",
          "name": "stderr",
          "text": [
            "INFO - ------------ Epoch 72 ------------\n",
            "INFO - Training:   Loss = 0.085 | Gradient norm = 1.759 | Param update norm = 0.060 | Runtime in seconds = 2.464\n",
            "INFO - Validation: Loss = 2.379 | Mae e = 0.315 | Mae f = 0.194 | Rmse e = 0.339 | Rmse f = 0.308\n",
            "INFO - Saving checkpoint at epoch 72...\n",
            "INFO - Best model: Loss = 2.379 | Best epoch = 72\n"
          ]
        },
        {
          "output_type": "stream",
          "name": "stdout",
          "text": [
            "here??\n"
          ]
        },
        {
          "output_type": "stream",
          "name": "stderr",
          "text": [
            "INFO - ------------ Epoch 73 ------------\n",
            "INFO - Training:   Loss = 0.089 | Gradient norm = 2.340 | Param update norm = 0.064 | Runtime in seconds = 2.317\n",
            "INFO - Validation: Loss = 2.370 | Mae e = 0.296 | Mae f = 0.194 | Rmse e = 0.322 | Rmse f = 0.308\n",
            "INFO - Saving checkpoint at epoch 73...\n",
            "INFO - Best model: Loss = 2.370 | Best epoch = 73\n"
          ]
        },
        {
          "output_type": "stream",
          "name": "stdout",
          "text": [
            "here??\n"
          ]
        },
        {
          "output_type": "stream",
          "name": "stderr",
          "text": [
            "INFO - ------------ Epoch 74 ------------\n",
            "INFO - Training:   Loss = 0.087 | Gradient norm = 2.040 | Param update norm = 0.062 | Runtime in seconds = 2.272\n",
            "INFO - Validation: Loss = 2.348 | Mae e = 0.303 | Mae f = 0.193 | Rmse e = 0.328 | Rmse f = 0.306\n",
            "INFO - Saving checkpoint at epoch 74...\n",
            "INFO - Best model: Loss = 2.348 | Best epoch = 74\n"
          ]
        },
        {
          "output_type": "stream",
          "name": "stdout",
          "text": [
            "here??\n"
          ]
        },
        {
          "output_type": "stream",
          "name": "stderr",
          "text": [
            "INFO - ------------ Epoch 75 ------------\n",
            "INFO - Training:   Loss = 0.084 | Gradient norm = 1.843 | Param update norm = 0.060 | Runtime in seconds = 2.266\n",
            "INFO - Validation: Loss = 2.332 | Mae e = 0.293 | Mae f = 0.192 | Rmse e = 0.319 | Rmse f = 0.305\n",
            "INFO - Saving checkpoint at epoch 75...\n",
            "INFO - Best model: Loss = 2.332 | Best epoch = 75\n"
          ]
        },
        {
          "output_type": "stream",
          "name": "stdout",
          "text": [
            "here??\n"
          ]
        },
        {
          "output_type": "stream",
          "name": "stderr",
          "text": [
            "INFO - ------------ Epoch 76 ------------\n",
            "INFO - Training:   Loss = 0.084 | Gradient norm = 1.951 | Param update norm = 0.059 | Runtime in seconds = 2.249\n",
            "INFO - Validation: Loss = 2.319 | Mae e = 0.287 | Mae f = 0.191 | Rmse e = 0.313 | Rmse f = 0.305\n",
            "INFO - Saving checkpoint at epoch 76...\n",
            "INFO - Best model: Loss = 2.319 | Best epoch = 76\n"
          ]
        },
        {
          "output_type": "stream",
          "name": "stdout",
          "text": [
            "here??\n"
          ]
        },
        {
          "output_type": "stream",
          "name": "stderr",
          "text": [
            "INFO - ------------ Epoch 77 ------------\n",
            "INFO - Training:   Loss = 0.081 | Gradient norm = 1.752 | Param update norm = 0.058 | Runtime in seconds = 2.356\n",
            "INFO - Validation: Loss = 2.301 | Mae e = 0.286 | Mae f = 0.190 | Rmse e = 0.311 | Rmse f = 0.303\n",
            "INFO - Saving checkpoint at epoch 77...\n",
            "INFO - Best model: Loss = 2.301 | Best epoch = 77\n"
          ]
        },
        {
          "output_type": "stream",
          "name": "stdout",
          "text": [
            "here??\n"
          ]
        },
        {
          "output_type": "stream",
          "name": "stderr",
          "text": [
            "INFO - ------------ Epoch 78 ------------\n",
            "INFO - Training:   Loss = 0.082 | Gradient norm = 1.819 | Param update norm = 0.060 | Runtime in seconds = 2.103\n",
            "INFO - Validation: Loss = 2.286 | Mae e = 0.279 | Mae f = 0.190 | Rmse e = 0.305 | Rmse f = 0.302\n",
            "INFO - Saving checkpoint at epoch 78...\n",
            "INFO - Best model: Loss = 2.286 | Best epoch = 78\n"
          ]
        },
        {
          "output_type": "stream",
          "name": "stdout",
          "text": [
            "here??\n"
          ]
        },
        {
          "output_type": "stream",
          "name": "stderr",
          "text": [
            "INFO - ------------ Epoch 79 ------------\n",
            "INFO - Training:   Loss = 0.083 | Gradient norm = 2.006 | Param update norm = 0.062 | Runtime in seconds = 2.313\n",
            "INFO - Validation: Loss = 2.271 | Mae e = 0.282 | Mae f = 0.189 | Rmse e = 0.308 | Rmse f = 0.301\n",
            "INFO - Saving checkpoint at epoch 79...\n",
            "INFO - Best model: Loss = 2.271 | Best epoch = 79\n"
          ]
        },
        {
          "output_type": "stream",
          "name": "stdout",
          "text": [
            "here??\n"
          ]
        },
        {
          "output_type": "stream",
          "name": "stderr",
          "text": [
            "INFO - ------------ Epoch 80 ------------\n",
            "INFO - Training:   Loss = 0.080 | Gradient norm = 1.672 | Param update norm = 0.058 | Runtime in seconds = 2.198\n",
            "INFO - Validation: Loss = 2.254 | Mae e = 0.282 | Mae f = 0.188 | Rmse e = 0.307 | Rmse f = 0.300\n",
            "INFO - Saving checkpoint at epoch 80...\n",
            "INFO - Best model: Loss = 2.254 | Best epoch = 80\n"
          ]
        },
        {
          "output_type": "stream",
          "name": "stdout",
          "text": [
            "here??\n"
          ]
        },
        {
          "output_type": "stream",
          "name": "stderr",
          "text": [
            "INFO - ------------ Epoch 81 ------------\n",
            "INFO - Training:   Loss = 0.083 | Gradient norm = 2.331 | Param update norm = 0.061 | Runtime in seconds = 2.091\n",
            "INFO - Validation: Loss = 2.236 | Mae e = 0.278 | Mae f = 0.188 | Rmse e = 0.304 | Rmse f = 0.299\n",
            "INFO - Saving checkpoint at epoch 81...\n",
            "INFO - Best model: Loss = 2.236 | Best epoch = 81\n"
          ]
        },
        {
          "output_type": "stream",
          "name": "stdout",
          "text": [
            "here??\n"
          ]
        },
        {
          "output_type": "stream",
          "name": "stderr",
          "text": [
            "INFO - ------------ Epoch 82 ------------\n",
            "INFO - Training:   Loss = 0.078 | Gradient norm = 1.825 | Param update norm = 0.054 | Runtime in seconds = 2.118\n",
            "INFO - Validation: Loss = 2.217 | Mae e = 0.277 | Mae f = 0.187 | Rmse e = 0.303 | Rmse f = 0.298\n",
            "INFO - Saving checkpoint at epoch 82...\n",
            "INFO - Best model: Loss = 2.217 | Best epoch = 82\n"
          ]
        },
        {
          "output_type": "stream",
          "name": "stdout",
          "text": [
            "here??\n"
          ]
        },
        {
          "output_type": "stream",
          "name": "stderr",
          "text": [
            "INFO - ------------ Epoch 83 ------------\n",
            "INFO - Training:   Loss = 0.077 | Gradient norm = 1.667 | Param update norm = 0.056 | Runtime in seconds = 2.305\n",
            "INFO - Validation: Loss = 2.204 | Mae e = 0.273 | Mae f = 0.186 | Rmse e = 0.299 | Rmse f = 0.297\n",
            "INFO - Saving checkpoint at epoch 83...\n",
            "INFO - Best model: Loss = 2.204 | Best epoch = 83\n"
          ]
        },
        {
          "output_type": "stream",
          "name": "stdout",
          "text": [
            "here??\n"
          ]
        },
        {
          "output_type": "stream",
          "name": "stderr",
          "text": [
            "INFO - ------------ Epoch 84 ------------\n",
            "INFO - Training:   Loss = 0.078 | Gradient norm = 2.109 | Param update norm = 0.058 | Runtime in seconds = 2.325\n",
            "INFO - Validation: Loss = 2.194 | Mae e = 0.264 | Mae f = 0.186 | Rmse e = 0.290 | Rmse f = 0.296\n",
            "INFO - Saving checkpoint at epoch 84...\n",
            "INFO - Best model: Loss = 2.194 | Best epoch = 84\n"
          ]
        },
        {
          "output_type": "stream",
          "name": "stdout",
          "text": [
            "here??\n"
          ]
        },
        {
          "output_type": "stream",
          "name": "stderr",
          "text": [
            "INFO - ------------ Epoch 85 ------------\n",
            "INFO - Training:   Loss = 0.074 | Gradient norm = 1.474 | Param update norm = 0.052 | Runtime in seconds = 2.229\n",
            "INFO - Validation: Loss = 2.179 | Mae e = 0.267 | Mae f = 0.185 | Rmse e = 0.293 | Rmse f = 0.295\n",
            "INFO - Saving checkpoint at epoch 85...\n",
            "INFO - Best model: Loss = 2.179 | Best epoch = 85\n"
          ]
        },
        {
          "output_type": "stream",
          "name": "stdout",
          "text": [
            "here??\n"
          ]
        },
        {
          "output_type": "stream",
          "name": "stderr",
          "text": [
            "INFO - ------------ Epoch 86 ------------\n",
            "INFO - Training:   Loss = 0.079 | Gradient norm = 1.995 | Param update norm = 0.062 | Runtime in seconds = 2.212\n",
            "INFO - Validation: Loss = 2.175 | Mae e = 0.249 | Mae f = 0.185 | Rmse e = 0.277 | Rmse f = 0.295\n",
            "INFO - Saving checkpoint at epoch 86...\n",
            "INFO - Best model: Loss = 2.175 | Best epoch = 86\n"
          ]
        },
        {
          "output_type": "stream",
          "name": "stdout",
          "text": [
            "here??\n"
          ]
        },
        {
          "output_type": "stream",
          "name": "stderr",
          "text": [
            "INFO - ------------ Epoch 87 ------------\n",
            "INFO - Training:   Loss = 0.076 | Gradient norm = 1.927 | Param update norm = 0.057 | Runtime in seconds = 2.249\n",
            "INFO - Validation: Loss = 2.156 | Mae e = 0.256 | Mae f = 0.184 | Rmse e = 0.283 | Rmse f = 0.294\n",
            "INFO - Saving checkpoint at epoch 87...\n",
            "INFO - Best model: Loss = 2.156 | Best epoch = 87\n"
          ]
        },
        {
          "output_type": "stream",
          "name": "stdout",
          "text": [
            "here??\n"
          ]
        },
        {
          "output_type": "stream",
          "name": "stderr",
          "text": [
            "INFO - ------------ Epoch 88 ------------\n",
            "INFO - Training:   Loss = 0.074 | Gradient norm = 1.700 | Param update norm = 0.054 | Runtime in seconds = 2.213\n",
            "INFO - Validation: Loss = 2.147 | Mae e = 0.251 | Mae f = 0.183 | Rmse e = 0.279 | Rmse f = 0.293\n",
            "INFO - Saving checkpoint at epoch 88...\n",
            "INFO - Best model: Loss = 2.147 | Best epoch = 88\n"
          ]
        },
        {
          "output_type": "stream",
          "name": "stdout",
          "text": [
            "here??\n"
          ]
        },
        {
          "output_type": "stream",
          "name": "stderr",
          "text": [
            "INFO - ------------ Epoch 89 ------------\n",
            "INFO - Training:   Loss = 0.085 | Gradient norm = 2.406 | Param update norm = 0.075 | Runtime in seconds = 2.733\n",
            "INFO - Validation: Loss = 2.132 | Mae e = 0.261 | Mae f = 0.183 | Rmse e = 0.287 | Rmse f = 0.292\n",
            "INFO - Saving checkpoint at epoch 89...\n",
            "INFO - Best model: Loss = 2.132 | Best epoch = 89\n"
          ]
        },
        {
          "output_type": "stream",
          "name": "stdout",
          "text": [
            "here??\n"
          ]
        },
        {
          "output_type": "stream",
          "name": "stderr",
          "text": [
            "INFO - ------------ Epoch 90 ------------\n",
            "INFO - Training:   Loss = 0.079 | Gradient norm = 2.060 | Param update norm = 0.066 | Runtime in seconds = 2.909\n",
            "INFO - Validation: Loss = 2.118 | Mae e = 0.256 | Mae f = 0.182 | Rmse e = 0.283 | Rmse f = 0.291\n",
            "INFO - Saving checkpoint at epoch 90...\n",
            "INFO - Best model: Loss = 2.118 | Best epoch = 90\n"
          ]
        },
        {
          "output_type": "stream",
          "name": "stdout",
          "text": [
            "here??\n"
          ]
        },
        {
          "output_type": "stream",
          "name": "stderr",
          "text": [
            "INFO - ------------ Epoch 91 ------------\n",
            "INFO - Training:   Loss = 0.078 | Gradient norm = 1.964 | Param update norm = 0.067 | Runtime in seconds = 2.361\n",
            "INFO - Validation: Loss = 2.102 | Mae e = 0.252 | Mae f = 0.181 | Rmse e = 0.279 | Rmse f = 0.290\n",
            "INFO - Saving checkpoint at epoch 91...\n",
            "INFO - Best model: Loss = 2.102 | Best epoch = 91\n"
          ]
        },
        {
          "output_type": "stream",
          "name": "stdout",
          "text": [
            "here??\n"
          ]
        },
        {
          "output_type": "stream",
          "name": "stderr",
          "text": [
            "INFO - ------------ Epoch 92 ------------\n",
            "INFO - Training:   Loss = 0.076 | Gradient norm = 2.026 | Param update norm = 0.060 | Runtime in seconds = 2.369\n",
            "INFO - Validation: Loss = 2.088 | Mae e = 0.254 | Mae f = 0.181 | Rmse e = 0.281 | Rmse f = 0.289\n",
            "INFO - Saving checkpoint at epoch 92...\n",
            "INFO - Best model: Loss = 2.088 | Best epoch = 92\n"
          ]
        },
        {
          "output_type": "stream",
          "name": "stdout",
          "text": [
            "here??\n"
          ]
        },
        {
          "output_type": "stream",
          "name": "stderr",
          "text": [
            "INFO - ------------ Epoch 93 ------------\n",
            "INFO - Training:   Loss = 0.071 | Gradient norm = 1.606 | Param update norm = 0.053 | Runtime in seconds = 2.287\n",
            "INFO - Validation: Loss = 2.077 | Mae e = 0.243 | Mae f = 0.180 | Rmse e = 0.271 | Rmse f = 0.288\n",
            "INFO - Saving checkpoint at epoch 93...\n",
            "INFO - Best model: Loss = 2.077 | Best epoch = 93\n"
          ]
        },
        {
          "output_type": "stream",
          "name": "stdout",
          "text": [
            "here??\n"
          ]
        },
        {
          "output_type": "stream",
          "name": "stderr",
          "text": [
            "INFO - ------------ Epoch 94 ------------\n",
            "INFO - Training:   Loss = 0.071 | Gradient norm = 1.597 | Param update norm = 0.056 | Runtime in seconds = 2.697\n",
            "INFO - Validation: Loss = 2.066 | Mae e = 0.242 | Mae f = 0.180 | Rmse e = 0.270 | Rmse f = 0.287\n",
            "INFO - Saving checkpoint at epoch 94...\n",
            "INFO - Best model: Loss = 2.066 | Best epoch = 94\n"
          ]
        },
        {
          "output_type": "stream",
          "name": "stdout",
          "text": [
            "here??\n"
          ]
        },
        {
          "output_type": "stream",
          "name": "stderr",
          "text": [
            "INFO - ------------ Epoch 95 ------------\n",
            "INFO - Training:   Loss = 0.074 | Gradient norm = 2.050 | Param update norm = 0.060 | Runtime in seconds = 2.196\n",
            "INFO - Validation: Loss = 2.054 | Mae e = 0.238 | Mae f = 0.179 | Rmse e = 0.266 | Rmse f = 0.287\n",
            "INFO - Saving checkpoint at epoch 95...\n",
            "INFO - Best model: Loss = 2.054 | Best epoch = 95\n"
          ]
        },
        {
          "output_type": "stream",
          "name": "stdout",
          "text": [
            "here??\n"
          ]
        },
        {
          "output_type": "stream",
          "name": "stderr",
          "text": [
            "INFO - ------------ Epoch 96 ------------\n",
            "INFO - Training:   Loss = 0.070 | Gradient norm = 1.618 | Param update norm = 0.053 | Runtime in seconds = 2.095\n",
            "INFO - Validation: Loss = 2.046 | Mae e = 0.233 | Mae f = 0.179 | Rmse e = 0.261 | Rmse f = 0.286\n",
            "INFO - Saving checkpoint at epoch 96...\n",
            "INFO - Best model: Loss = 2.046 | Best epoch = 96\n"
          ]
        },
        {
          "output_type": "stream",
          "name": "stdout",
          "text": [
            "here??\n"
          ]
        },
        {
          "output_type": "stream",
          "name": "stderr",
          "text": [
            "INFO - ------------ Epoch 97 ------------\n",
            "INFO - Training:   Loss = 0.072 | Gradient norm = 1.834 | Param update norm = 0.060 | Runtime in seconds = 2.303\n",
            "INFO - Validation: Loss = 2.031 | Mae e = 0.240 | Mae f = 0.178 | Rmse e = 0.268 | Rmse f = 0.285\n",
            "INFO - Saving checkpoint at epoch 97...\n",
            "INFO - Best model: Loss = 2.031 | Best epoch = 97\n"
          ]
        },
        {
          "output_type": "stream",
          "name": "stdout",
          "text": [
            "here??\n"
          ]
        },
        {
          "output_type": "stream",
          "name": "stderr",
          "text": [
            "INFO - ------------ Epoch 98 ------------\n",
            "INFO - Training:   Loss = 0.072 | Gradient norm = 1.806 | Param update norm = 0.062 | Runtime in seconds = 2.721\n",
            "INFO - Validation: Loss = 2.017 | Mae e = 0.241 | Mae f = 0.177 | Rmse e = 0.268 | Rmse f = 0.284\n",
            "INFO - Saving checkpoint at epoch 98...\n",
            "INFO - Best model: Loss = 2.017 | Best epoch = 98\n"
          ]
        },
        {
          "output_type": "stream",
          "name": "stdout",
          "text": [
            "here??\n"
          ]
        },
        {
          "output_type": "stream",
          "name": "stderr",
          "text": [
            "INFO - ------------ Epoch 99 ------------\n",
            "INFO - Training:   Loss = 0.067 | Gradient norm = 1.492 | Param update norm = 0.054 | Runtime in seconds = 2.240\n",
            "INFO - Validation: Loss = 2.007 | Mae e = 0.223 | Mae f = 0.177 | Rmse e = 0.252 | Rmse f = 0.283\n",
            "INFO - Saving checkpoint at epoch 99...\n",
            "INFO - Best model: Loss = 2.007 | Best epoch = 99\n"
          ]
        },
        {
          "output_type": "stream",
          "name": "stdout",
          "text": [
            "here??\n"
          ]
        },
        {
          "output_type": "stream",
          "name": "stderr",
          "text": [
            "INFO - ------------ Epoch 100 ------------\n",
            "INFO - Training:   Loss = 0.066 | Gradient norm = 1.402 | Param update norm = 0.051 | Runtime in seconds = 3.028\n",
            "INFO - Validation: Loss = 1.993 | Mae e = 0.219 | Mae f = 0.176 | Rmse e = 0.248 | Rmse f = 0.282\n",
            "INFO - Saving checkpoint at epoch 100...\n",
            "INFO - Best model: Loss = 1.993 | Best epoch = 100\n",
            "INFO - Training loop completed.\n"
          ]
        },
        {
          "output_type": "stream",
          "name": "stdout",
          "text": [
            "here??\n"
          ]
        },
        {
          "output_type": "display_data",
          "data": {
            "text/plain": [
              "<IPython.core.display.HTML object>"
            ],
            "text/html": []
          },
          "metadata": {}
        },
        {
          "output_type": "display_data",
          "data": {
            "text/plain": [
              "<IPython.core.display.HTML object>"
            ],
            "text/html": [
              "<br>    <style><br>        .wandb-row {<br>            display: flex;<br>            flex-direction: row;<br>            flex-wrap: wrap;<br>            justify-content: flex-start;<br>            width: 100%;<br>        }<br>        .wandb-col {<br>            display: flex;<br>            flex-direction: column;<br>            flex-basis: 100%;<br>            flex: 1;<br>            padding: 10px;<br>        }<br>    </style><br><div class=\"wandb-row\"><div class=\"wandb-col\"><h3>Run history:</h3><br/><table class=\"wandb\"><tr><td>loss</td><td>█▄▄▃▃▂▂▂▁▁▁▁▁▁▁▁▁▁▁▁▁▁▁▁▁▁▁▁▁▁▁▁▁▁▁▁▁▁▁▁</td></tr><tr><td>mae_e</td><td>██▃▃▃▂▂▁▁▁▁▁▁▁▁▁▁▁▁▁▁▁▁▁▁▁▁▁▁▁▁▁▁▁▁▁▁▁▁▁</td></tr><tr><td>mae_f</td><td>█▇▅▄▄▃▃▃▃▃▂▂▂▂▂▂▂▁▁▁▁▁▁▁▁▁▁▁▁▁▁▁▁▁▁▁▁▁▁▁</td></tr><tr><td>mse_e</td><td>▂▂▇█▆▃▃▂▂▂▁▁▁▁▁▁▁▁▁▁▁▁▁▁▁▁▁▁▁▁▁▁▁▁▁▁▁▁▁▁</td></tr><tr><td>mse_f</td><td>█▇▅▄▃▂▂▁▁▁▁▁▁▁▁▁▁▁▁▁▁▁▁▁▁▁▁▁▁▁▁▁▁▁▁▁▁▁▁▁</td></tr></table><br/></div><div class=\"wandb-col\"><h3>Run summary:</h3><br/><table class=\"wandb\"><tr><td>loss</td><td>1.99279</td></tr><tr><td>mae_e</td><td>0.21906</td></tr><tr><td>mae_f</td><td>0.17612</td></tr><tr><td>mse_e</td><td>0.06171</td></tr><tr><td>mse_f</td><td>0.07971</td></tr></table><br/></div></div>"
            ]
          },
          "metadata": {}
        },
        {
          "output_type": "display_data",
          "data": {
            "text/plain": [
              "<IPython.core.display.HTML object>"
            ],
            "text/html": [
              " View run <strong style=\"color:#cdcd00\">worthy-sweep-2</strong> at: <a href='https://wandb.ai/cybercharl-ai-safety-south-africa/instadeep-hackathon-2025/runs/ahwoixtb' target=\"_blank\">https://wandb.ai/cybercharl-ai-safety-south-africa/instadeep-hackathon-2025/runs/ahwoixtb</a><br> View project at: <a href='https://wandb.ai/cybercharl-ai-safety-south-africa/instadeep-hackathon-2025' target=\"_blank\">https://wandb.ai/cybercharl-ai-safety-south-africa/instadeep-hackathon-2025</a><br>Synced 5 W&B file(s), 0 media file(s), 0 artifact file(s) and 0 other file(s)"
            ]
          },
          "metadata": {}
        },
        {
          "output_type": "display_data",
          "data": {
            "text/plain": [
              "<IPython.core.display.HTML object>"
            ],
            "text/html": [
              "Find logs at: <code>./wandb/run-20250709_185845-ahwoixtb/logs</code>"
            ]
          },
          "metadata": {}
        },
        {
          "output_type": "stream",
          "name": "stderr",
          "text": [
            "ERROR - Task was destroyed but it is pending!\n",
            "task: <Task cancelling name='Task-86800' coro=<Event.wait() running at /usr/lib/python3.11/asyncio/locks.py:213> wait_for=<Future cancelled>>\n",
            "\u001b[34m\u001b[1mwandb\u001b[0m: Sweep Agent: Waiting for job.\n",
            "\u001b[34m\u001b[1mwandb\u001b[0m: Job received.\n",
            "\u001b[34m\u001b[1mwandb\u001b[0m: Agent Starting Run: 6nm8sgmm with config:\n",
            "\u001b[34m\u001b[1mwandb\u001b[0m: \tenergy_weight: 500\n",
            "\u001b[34m\u001b[1mwandb\u001b[0m: \tfinal_learning_rate: 0.00026244440126435374\n",
            "\u001b[34m\u001b[1mwandb\u001b[0m: \tinit_learning_rate: 0.0013913684561052452\n",
            "\u001b[34m\u001b[1mwandb\u001b[0m: \tnum_layers: 4\n",
            "\u001b[34m\u001b[1mwandb\u001b[0m: \tpeak_learning_rate: 0.0015217805675181075\n",
            "\u001b[34m\u001b[1mwandb\u001b[0m: \tweight_decay: 0.0008304696644800984\n"
          ]
        },
        {
          "output_type": "display_data",
          "data": {
            "text/plain": [
              "<IPython.core.display.HTML object>"
            ],
            "text/html": [
              "Tracking run with wandb version 0.21.0"
            ]
          },
          "metadata": {}
        },
        {
          "output_type": "display_data",
          "data": {
            "text/plain": [
              "<IPython.core.display.HTML object>"
            ],
            "text/html": [
              "Run data is saved locally in <code>/content/wandb/run-20250709_190452-6nm8sgmm</code>"
            ]
          },
          "metadata": {}
        },
        {
          "output_type": "display_data",
          "data": {
            "text/plain": [
              "<IPython.core.display.HTML object>"
            ],
            "text/html": [
              "Syncing run <strong><a href='https://wandb.ai/cybercharl-ai-safety-south-africa/instadeep-hackathon-2025/runs/6nm8sgmm' target=\"_blank\">sleek-sweep-3</a></strong> to <a href='https://wandb.ai/cybercharl-ai-safety-south-africa/instadeep-hackathon-2025' target=\"_blank\">Weights & Biases</a> (<a href='https://wandb.me/developer-guide' target=\"_blank\">docs</a>)<br>Sweep page: <a href='https://wandb.ai/cybercharl-ai-safety-south-africa/instadeep-hackathon-2025/sweeps/156uxkmm' target=\"_blank\">https://wandb.ai/cybercharl-ai-safety-south-africa/instadeep-hackathon-2025/sweeps/156uxkmm</a>"
            ]
          },
          "metadata": {}
        },
        {
          "output_type": "display_data",
          "data": {
            "text/plain": [
              "<IPython.core.display.HTML object>"
            ],
            "text/html": [
              " View project at <a href='https://wandb.ai/cybercharl-ai-safety-south-africa/instadeep-hackathon-2025' target=\"_blank\">https://wandb.ai/cybercharl-ai-safety-south-africa/instadeep-hackathon-2025</a>"
            ]
          },
          "metadata": {}
        },
        {
          "output_type": "display_data",
          "data": {
            "text/plain": [
              "<IPython.core.display.HTML object>"
            ],
            "text/html": [
              " View sweep at <a href='https://wandb.ai/cybercharl-ai-safety-south-africa/instadeep-hackathon-2025/sweeps/156uxkmm' target=\"_blank\">https://wandb.ai/cybercharl-ai-safety-south-africa/instadeep-hackathon-2025/sweeps/156uxkmm</a>"
            ]
          },
          "metadata": {}
        },
        {
          "output_type": "display_data",
          "data": {
            "text/plain": [
              "<IPython.core.display.HTML object>"
            ],
            "text/html": [
              " View run at <a href='https://wandb.ai/cybercharl-ai-safety-south-africa/instadeep-hackathon-2025/runs/6nm8sgmm' target=\"_blank\">https://wandb.ai/cybercharl-ai-safety-south-africa/instadeep-hackathon-2025/runs/6nm8sgmm</a>"
            ]
          },
          "metadata": {}
        },
        {
          "output_type": "stream",
          "name": "stderr",
          "text": [
            "INFO - Cleaning up existing temporary directories at /content/training/model_training/model.\n",
            "INFO - Number of parameters: 59626\n",
            "INFO - Number of parameters in optimizer: 238510\n",
            "INFO - Starting training loop...\n",
            "INFO - Validation: Loss = 86.943 | Mae e = 2.963 | Mae f = 1.388 | Rmse e = 3.030 | Rmse f = 1.865\n",
            "INFO - Best model: Loss = 86.943 | Best epoch = 0\n"
          ]
        },
        {
          "output_type": "stream",
          "name": "stdout",
          "text": [
            "here??\n"
          ]
        },
        {
          "output_type": "stream",
          "name": "stderr",
          "text": [
            "INFO - ------------ Epoch 1 ------------\n",
            "INFO - Training:   Loss = 22.375 | Gradient norm = 0.251 | Param update norm = 0.268 | Runtime in seconds = 41.324\n",
            "INFO - Validation: Loss = 86.540 | Mae e = 3.055 | Mae f = 1.384 | Rmse e = 3.120 | Rmse f = 1.860\n",
            "INFO - Saving checkpoint at epoch 1...\n",
            "INFO - Best model: Loss = 86.540 | Best epoch = 1\n"
          ]
        },
        {
          "output_type": "stream",
          "name": "stdout",
          "text": [
            "here??\n"
          ]
        },
        {
          "output_type": "stream",
          "name": "stderr",
          "text": [
            "INFO - ------------ Epoch 2 ------------\n",
            "INFO - Training:   Loss = 20.976 | Gradient norm = 1.678 | Param update norm = 0.271 | Runtime in seconds = 1.330\n",
            "INFO - Validation: Loss = 84.555 | Mae e = 3.424 | Mae f = 1.368 | Rmse e = 3.481 | Rmse f = 1.839\n",
            "INFO - Saving checkpoint at epoch 2...\n",
            "INFO - Best model: Loss = 84.555 | Best epoch = 2\n"
          ]
        },
        {
          "output_type": "stream",
          "name": "stdout",
          "text": [
            "here??\n"
          ]
        },
        {
          "output_type": "stream",
          "name": "stderr",
          "text": [
            "INFO - ------------ Epoch 3 ------------\n",
            "INFO - Training:   Loss = 13.678 | Gradient norm = 4.085 | Param update norm = 0.313 | Runtime in seconds = 1.255\n",
            "INFO - Validation: Loss = 76.963 | Mae e = 4.462 | Mae f = 1.305 | Rmse e = 4.504 | Rmse f = 1.754\n",
            "INFO - Saving checkpoint at epoch 3...\n",
            "INFO - Best model: Loss = 76.963 | Best epoch = 3\n"
          ]
        },
        {
          "output_type": "stream",
          "name": "stdout",
          "text": [
            "here??\n"
          ]
        },
        {
          "output_type": "stream",
          "name": "stderr",
          "text": [
            "INFO - ------------ Epoch 4 ------------\n",
            "INFO - Training:   Loss = 6.565 | Gradient norm = 3.763 | Param update norm = 0.228 | Runtime in seconds = 1.240\n",
            "INFO - Validation: Loss = 64.114 | Mae e = 6.086 | Mae f = 1.189 | Rmse e = 6.114 | Rmse f = 1.601\n",
            "INFO - Saving checkpoint at epoch 4...\n",
            "INFO - Best model: Loss = 64.114 | Best epoch = 4\n"
          ]
        },
        {
          "output_type": "stream",
          "name": "stdout",
          "text": [
            "here??\n"
          ]
        },
        {
          "output_type": "stream",
          "name": "stderr",
          "text": [
            "INFO - ------------ Epoch 5 ------------\n",
            "INFO - Training:   Loss = 3.908 | Gradient norm = 4.295 | Param update norm = 0.156 | Runtime in seconds = 1.401\n",
            "INFO - Validation: Loss = 51.836 | Mae e = 7.609 | Mae f = 1.066 | Rmse e = 7.628 | Rmse f = 1.439\n",
            "INFO - Saving checkpoint at epoch 5...\n",
            "INFO - Best model: Loss = 51.836 | Best epoch = 5\n"
          ]
        },
        {
          "output_type": "stream",
          "name": "stdout",
          "text": [
            "here??\n"
          ]
        },
        {
          "output_type": "stream",
          "name": "stderr",
          "text": [
            "INFO - ------------ Epoch 6 ------------\n",
            "INFO - Training:   Loss = 3.098 | Gradient norm = 6.141 | Param update norm = 0.116 | Runtime in seconds = 1.262\n",
            "INFO - Validation: Loss = 42.316 | Mae e = 8.783 | Mae f = 0.960 | Rmse e = 8.798 | Rmse f = 1.299\n",
            "INFO - Saving checkpoint at epoch 6...\n",
            "INFO - Best model: Loss = 42.316 | Best epoch = 6\n"
          ]
        },
        {
          "output_type": "stream",
          "name": "stdout",
          "text": [
            "here??\n"
          ]
        },
        {
          "output_type": "stream",
          "name": "stderr",
          "text": [
            "INFO - ------------ Epoch 7 ------------\n",
            "INFO - Training:   Loss = 2.697 | Gradient norm = 5.619 | Param update norm = 0.099 | Runtime in seconds = 1.394\n",
            "INFO - Validation: Loss = 35.233 | Mae e = 9.629 | Mae f = 0.872 | Rmse e = 9.641 | Rmse f = 1.185\n",
            "INFO - Saving checkpoint at epoch 7...\n",
            "INFO - Best model: Loss = 35.233 | Best epoch = 7\n"
          ]
        },
        {
          "output_type": "stream",
          "name": "stdout",
          "text": [
            "here??\n"
          ]
        },
        {
          "output_type": "stream",
          "name": "stderr",
          "text": [
            "INFO - ------------ Epoch 8 ------------\n",
            "INFO - Training:   Loss = 2.410 | Gradient norm = 6.055 | Param update norm = 0.086 | Runtime in seconds = 1.252\n",
            "INFO - Validation: Loss = 30.031 | Mae e = 10.161 | Mae f = 0.801 | Rmse e = 10.171 | Rmse f = 1.093\n",
            "INFO - Saving checkpoint at epoch 8...\n",
            "INFO - Best model: Loss = 30.031 | Best epoch = 8\n"
          ]
        },
        {
          "output_type": "stream",
          "name": "stdout",
          "text": [
            "here??\n"
          ]
        },
        {
          "output_type": "stream",
          "name": "stderr",
          "text": [
            "INFO - ------------ Epoch 9 ------------\n",
            "INFO - Training:   Loss = 2.168 | Gradient norm = 6.624 | Param update norm = 0.082 | Runtime in seconds = 1.405\n",
            "INFO - Validation: Loss = 26.301 | Mae e = 10.426 | Mae f = 0.746 | Rmse e = 10.435 | Rmse f = 1.023\n",
            "INFO - Saving checkpoint at epoch 9...\n",
            "INFO - Best model: Loss = 26.301 | Best epoch = 9\n"
          ]
        },
        {
          "output_type": "stream",
          "name": "stdout",
          "text": [
            "here??\n"
          ]
        },
        {
          "output_type": "stream",
          "name": "stderr",
          "text": [
            "INFO - ------------ Epoch 10 ------------\n",
            "INFO - Training:   Loss = 2.016 | Gradient norm = 9.937 | Param update norm = 0.081 | Runtime in seconds = 1.254\n",
            "INFO - Validation: Loss = 23.553 | Mae e = 10.508 | Mae f = 0.702 | Rmse e = 10.515 | Rmse f = 0.968\n",
            "INFO - Saving checkpoint at epoch 10...\n",
            "INFO - Best model: Loss = 23.553 | Best epoch = 10\n"
          ]
        },
        {
          "output_type": "stream",
          "name": "stdout",
          "text": [
            "here??\n"
          ]
        },
        {
          "output_type": "stream",
          "name": "stderr",
          "text": [
            "INFO - ------------ Epoch 11 ------------\n",
            "INFO - Training:   Loss = 1.789 | Gradient norm = 7.623 | Param update norm = 0.072 | Runtime in seconds = 1.325\n",
            "INFO - Validation: Loss = 21.579 | Mae e = 10.436 | Mae f = 0.667 | Rmse e = 10.443 | Rmse f = 0.926\n",
            "INFO - Saving checkpoint at epoch 11...\n",
            "INFO - Best model: Loss = 21.579 | Best epoch = 11\n"
          ]
        },
        {
          "output_type": "stream",
          "name": "stdout",
          "text": [
            "here??\n"
          ]
        },
        {
          "output_type": "stream",
          "name": "stderr",
          "text": [
            "INFO - ------------ Epoch 12 ------------\n",
            "INFO - Training:   Loss = 1.601 | Gradient norm = 8.686 | Param update norm = 0.068 | Runtime in seconds = 1.343\n",
            "INFO - Validation: Loss = 20.359 | Mae e = 10.173 | Mae f = 0.644 | Rmse e = 10.179 | Rmse f = 0.899\n",
            "INFO - Saving checkpoint at epoch 12...\n",
            "INFO - Best model: Loss = 20.359 | Best epoch = 12\n"
          ]
        },
        {
          "output_type": "stream",
          "name": "stdout",
          "text": [
            "here??\n"
          ]
        },
        {
          "output_type": "stream",
          "name": "stderr",
          "text": [
            "INFO - ------------ Epoch 13 ------------\n",
            "INFO - Training:   Loss = 1.488 | Gradient norm = 12.824 | Param update norm = 0.069 | Runtime in seconds = 1.242\n",
            "INFO - Validation: Loss = 19.544 | Mae e = 9.814 | Mae f = 0.626 | Rmse e = 9.820 | Rmse f = 0.881\n",
            "INFO - Saving checkpoint at epoch 13...\n",
            "INFO - Best model: Loss = 19.544 | Best epoch = 13\n"
          ]
        },
        {
          "output_type": "stream",
          "name": "stdout",
          "text": [
            "here??\n"
          ]
        },
        {
          "output_type": "stream",
          "name": "stderr",
          "text": [
            "INFO - ------------ Epoch 14 ------------\n",
            "INFO - Training:   Loss = 1.356 | Gradient norm = 12.266 | Param update norm = 0.062 | Runtime in seconds = 1.269\n",
            "INFO - Validation: Loss = 18.943 | Mae e = 9.415 | Mae f = 0.612 | Rmse e = 9.421 | Rmse f = 0.868\n",
            "INFO - Saving checkpoint at epoch 14...\n",
            "INFO - Best model: Loss = 18.943 | Best epoch = 14\n"
          ]
        },
        {
          "output_type": "stream",
          "name": "stdout",
          "text": [
            "here??\n"
          ]
        },
        {
          "output_type": "stream",
          "name": "stderr",
          "text": [
            "INFO - ------------ Epoch 15 ------------\n",
            "INFO - Training:   Loss = 1.243 | Gradient norm = 12.228 | Param update norm = 0.057 | Runtime in seconds = 1.253\n",
            "INFO - Validation: Loss = 18.412 | Mae e = 8.999 | Mae f = 0.599 | Rmse e = 9.005 | Rmse f = 0.856\n",
            "INFO - Saving checkpoint at epoch 15...\n",
            "INFO - Best model: Loss = 18.412 | Best epoch = 15\n"
          ]
        },
        {
          "output_type": "stream",
          "name": "stdout",
          "text": [
            "here??\n"
          ]
        },
        {
          "output_type": "stream",
          "name": "stderr",
          "text": [
            "INFO - ------------ Epoch 16 ------------\n",
            "INFO - Training:   Loss = 1.107 | Gradient norm = 7.386 | Param update norm = 0.052 | Runtime in seconds = 1.298\n",
            "INFO - Validation: Loss = 18.095 | Mae e = 8.525 | Mae f = 0.591 | Rmse e = 8.531 | Rmse f = 0.848\n",
            "INFO - Saving checkpoint at epoch 16...\n",
            "INFO - Best model: Loss = 18.095 | Best epoch = 16\n"
          ]
        },
        {
          "output_type": "stream",
          "name": "stdout",
          "text": [
            "here??\n"
          ]
        },
        {
          "output_type": "stream",
          "name": "stderr",
          "text": [
            "INFO - ------------ Epoch 17 ------------\n",
            "INFO - Training:   Loss = 1.041 | Gradient norm = 9.060 | Param update norm = 0.051 | Runtime in seconds = 1.246\n",
            "INFO - Validation: Loss = 17.864 | Mae e = 8.033 | Mae f = 0.583 | Rmse e = 8.039 | Rmse f = 0.843\n",
            "INFO - Saving checkpoint at epoch 17...\n",
            "INFO - Best model: Loss = 17.864 | Best epoch = 17\n"
          ]
        },
        {
          "output_type": "stream",
          "name": "stdout",
          "text": [
            "here??\n"
          ]
        },
        {
          "output_type": "stream",
          "name": "stderr",
          "text": [
            "INFO - ------------ Epoch 18 ------------\n",
            "INFO - Training:   Loss = 0.965 | Gradient norm = 8.572 | Param update norm = 0.046 | Runtime in seconds = 1.255\n",
            "INFO - Validation: Loss = 17.673 | Mae e = 7.527 | Mae f = 0.577 | Rmse e = 7.533 | Rmse f = 0.839\n",
            "INFO - Saving checkpoint at epoch 18...\n",
            "INFO - Best model: Loss = 17.673 | Best epoch = 18\n"
          ]
        },
        {
          "output_type": "stream",
          "name": "stdout",
          "text": [
            "here??\n"
          ]
        },
        {
          "output_type": "stream",
          "name": "stderr",
          "text": [
            "INFO - ------------ Epoch 19 ------------\n",
            "INFO - Training:   Loss = 0.933 | Gradient norm = 10.010 | Param update norm = 0.048 | Runtime in seconds = 1.340\n",
            "INFO - Validation: Loss = 17.422 | Mae e = 7.072 | Mae f = 0.570 | Rmse e = 7.078 | Rmse f = 0.833\n",
            "INFO - Saving checkpoint at epoch 19...\n",
            "INFO - Best model: Loss = 17.422 | Best epoch = 19\n"
          ]
        },
        {
          "output_type": "stream",
          "name": "stdout",
          "text": [
            "here??\n"
          ]
        },
        {
          "output_type": "stream",
          "name": "stderr",
          "text": [
            "INFO - ------------ Epoch 20 ------------\n",
            "INFO - Training:   Loss = 0.869 | Gradient norm = 7.534 | Param update norm = 0.044 | Runtime in seconds = 1.311\n",
            "INFO - Validation: Loss = 17.140 | Mae e = 6.648 | Mae f = 0.562 | Rmse e = 6.654 | Rmse f = 0.827\n",
            "INFO - Saving checkpoint at epoch 20...\n",
            "INFO - Best model: Loss = 17.140 | Best epoch = 20\n"
          ]
        },
        {
          "output_type": "stream",
          "name": "stdout",
          "text": [
            "here??\n"
          ]
        },
        {
          "output_type": "stream",
          "name": "stderr",
          "text": [
            "INFO - ------------ Epoch 21 ------------\n",
            "INFO - Training:   Loss = 0.843 | Gradient norm = 9.021 | Param update norm = 0.044 | Runtime in seconds = 1.115\n",
            "INFO - Validation: Loss = 16.840 | Mae e = 6.263 | Mae f = 0.555 | Rmse e = 6.270 | Rmse f = 0.819\n",
            "INFO - Saving checkpoint at epoch 21...\n",
            "INFO - Best model: Loss = 16.840 | Best epoch = 21\n"
          ]
        },
        {
          "output_type": "stream",
          "name": "stdout",
          "text": [
            "here??\n"
          ]
        },
        {
          "output_type": "stream",
          "name": "stderr",
          "text": [
            "INFO - ------------ Epoch 22 ------------\n",
            "INFO - Training:   Loss = 0.803 | Gradient norm = 9.006 | Param update norm = 0.042 | Runtime in seconds = 1.452\n",
            "INFO - Validation: Loss = 16.584 | Mae e = 5.890 | Mae f = 0.549 | Rmse e = 5.897 | Rmse f = 0.813\n",
            "INFO - Saving checkpoint at epoch 22...\n",
            "INFO - Best model: Loss = 16.584 | Best epoch = 22\n"
          ]
        },
        {
          "output_type": "stream",
          "name": "stdout",
          "text": [
            "here??\n"
          ]
        },
        {
          "output_type": "stream",
          "name": "stderr",
          "text": [
            "INFO - ------------ Epoch 23 ------------\n",
            "INFO - Training:   Loss = 0.797 | Gradient norm = 11.142 | Param update norm = 0.044 | Runtime in seconds = 1.242\n",
            "INFO - Validation: Loss = 16.156 | Mae e = 5.605 | Mae f = 0.540 | Rmse e = 5.612 | Rmse f = 0.803\n",
            "INFO - Saving checkpoint at epoch 23...\n",
            "INFO - Best model: Loss = 16.156 | Best epoch = 23\n"
          ]
        },
        {
          "output_type": "stream",
          "name": "stdout",
          "text": [
            "here??\n"
          ]
        },
        {
          "output_type": "stream",
          "name": "stderr",
          "text": [
            "INFO - ------------ Epoch 24 ------------\n",
            "INFO - Training:   Loss = 0.745 | Gradient norm = 7.291 | Param update norm = 0.041 | Runtime in seconds = 1.368\n",
            "INFO - Validation: Loss = 15.831 | Mae e = 5.316 | Mae f = 0.533 | Rmse e = 5.324 | Rmse f = 0.795\n",
            "INFO - Saving checkpoint at epoch 24...\n",
            "INFO - Best model: Loss = 15.831 | Best epoch = 24\n"
          ]
        },
        {
          "output_type": "stream",
          "name": "stdout",
          "text": [
            "here??\n"
          ]
        },
        {
          "output_type": "stream",
          "name": "stderr",
          "text": [
            "INFO - ------------ Epoch 25 ------------\n",
            "INFO - Training:   Loss = 0.716 | Gradient norm = 8.784 | Param update norm = 0.037 | Runtime in seconds = 1.258\n",
            "INFO - Validation: Loss = 15.562 | Mae e = 5.030 | Mae f = 0.526 | Rmse e = 5.038 | Rmse f = 0.788\n",
            "INFO - Saving checkpoint at epoch 25...\n",
            "INFO - Best model: Loss = 15.562 | Best epoch = 25\n"
          ]
        },
        {
          "output_type": "stream",
          "name": "stdout",
          "text": [
            "here??\n"
          ]
        },
        {
          "output_type": "stream",
          "name": "stderr",
          "text": [
            "INFO - ------------ Epoch 26 ------------\n",
            "INFO - Training:   Loss = 0.684 | Gradient norm = 7.686 | Param update norm = 0.036 | Runtime in seconds = 1.246\n",
            "INFO - Validation: Loss = 15.332 | Mae e = 4.755 | Mae f = 0.521 | Rmse e = 4.763 | Rmse f = 0.782\n",
            "INFO - Saving checkpoint at epoch 26...\n",
            "INFO - Best model: Loss = 15.332 | Best epoch = 26\n"
          ]
        },
        {
          "output_type": "stream",
          "name": "stdout",
          "text": [
            "here??\n"
          ]
        },
        {
          "output_type": "stream",
          "name": "stderr",
          "text": [
            "INFO - ------------ Epoch 27 ------------\n",
            "INFO - Training:   Loss = 0.694 | Gradient norm = 10.688 | Param update norm = 0.040 | Runtime in seconds = 1.263\n",
            "INFO - Validation: Loss = 15.081 | Mae e = 4.509 | Mae f = 0.515 | Rmse e = 4.517 | Rmse f = 0.776\n",
            "INFO - Saving checkpoint at epoch 27...\n",
            "INFO - Best model: Loss = 15.081 | Best epoch = 27\n"
          ]
        },
        {
          "output_type": "stream",
          "name": "stdout",
          "text": [
            "here??\n"
          ]
        },
        {
          "output_type": "stream",
          "name": "stderr",
          "text": [
            "INFO - ------------ Epoch 28 ------------\n",
            "INFO - Training:   Loss = 0.661 | Gradient norm = 9.248 | Param update norm = 0.037 | Runtime in seconds = 1.289\n",
            "INFO - Validation: Loss = 14.746 | Mae e = 4.338 | Mae f = 0.508 | Rmse e = 4.347 | Rmse f = 0.767\n",
            "INFO - Saving checkpoint at epoch 28...\n",
            "INFO - Best model: Loss = 14.746 | Best epoch = 28\n"
          ]
        },
        {
          "output_type": "stream",
          "name": "stdout",
          "text": [
            "here??\n"
          ]
        },
        {
          "output_type": "stream",
          "name": "stderr",
          "text": [
            "INFO - ------------ Epoch 29 ------------\n",
            "INFO - Training:   Loss = 0.625 | Gradient norm = 6.367 | Param update norm = 0.035 | Runtime in seconds = 1.301\n",
            "INFO - Validation: Loss = 14.497 | Mae e = 4.124 | Mae f = 0.503 | Rmse e = 4.133 | Rmse f = 0.761\n",
            "INFO - Saving checkpoint at epoch 29...\n",
            "INFO - Best model: Loss = 14.497 | Best epoch = 29\n"
          ]
        },
        {
          "output_type": "stream",
          "name": "stdout",
          "text": [
            "here??\n"
          ]
        },
        {
          "output_type": "stream",
          "name": "stderr",
          "text": [
            "INFO - ------------ Epoch 30 ------------\n",
            "INFO - Training:   Loss = 0.632 | Gradient norm = 10.135 | Param update norm = 0.037 | Runtime in seconds = 1.259\n",
            "INFO - Validation: Loss = 14.291 | Mae e = 3.919 | Mae f = 0.498 | Rmse e = 3.929 | Rmse f = 0.756\n",
            "INFO - Saving checkpoint at epoch 30...\n",
            "INFO - Best model: Loss = 14.291 | Best epoch = 30\n"
          ]
        },
        {
          "output_type": "stream",
          "name": "stdout",
          "text": [
            "here??\n"
          ]
        },
        {
          "output_type": "stream",
          "name": "stderr",
          "text": [
            "INFO - ------------ Epoch 31 ------------\n",
            "INFO - Training:   Loss = 0.597 | Gradient norm = 7.444 | Param update norm = 0.032 | Runtime in seconds = 1.079\n",
            "INFO - Validation: Loss = 13.966 | Mae e = 3.776 | Mae f = 0.492 | Rmse e = 3.786 | Rmse f = 0.747\n",
            "INFO - Saving checkpoint at epoch 31...\n",
            "INFO - Best model: Loss = 13.966 | Best epoch = 31\n"
          ]
        },
        {
          "output_type": "stream",
          "name": "stdout",
          "text": [
            "here??\n"
          ]
        },
        {
          "output_type": "stream",
          "name": "stderr",
          "text": [
            "INFO - ------------ Epoch 32 ------------\n",
            "INFO - Training:   Loss = 0.596 | Gradient norm = 9.184 | Param update norm = 0.035 | Runtime in seconds = 1.085\n",
            "INFO - Validation: Loss = 13.737 | Mae e = 3.611 | Mae f = 0.487 | Rmse e = 3.621 | Rmse f = 0.741\n",
            "INFO - Saving checkpoint at epoch 32...\n",
            "INFO - Best model: Loss = 13.737 | Best epoch = 32\n"
          ]
        },
        {
          "output_type": "stream",
          "name": "stdout",
          "text": [
            "here??\n"
          ]
        },
        {
          "output_type": "stream",
          "name": "stderr",
          "text": [
            "INFO - ------------ Epoch 33 ------------\n",
            "INFO - Training:   Loss = 0.558 | Gradient norm = 5.570 | Param update norm = 0.029 | Runtime in seconds = 1.260\n",
            "INFO - Validation: Loss = 13.517 | Mae e = 3.449 | Mae f = 0.482 | Rmse e = 3.460 | Rmse f = 0.735\n",
            "INFO - Saving checkpoint at epoch 33...\n",
            "INFO - Best model: Loss = 13.517 | Best epoch = 33\n"
          ]
        },
        {
          "output_type": "stream",
          "name": "stdout",
          "text": [
            "here??\n"
          ]
        },
        {
          "output_type": "stream",
          "name": "stderr",
          "text": [
            "INFO - ------------ Epoch 34 ------------\n",
            "INFO - Training:   Loss = 0.555 | Gradient norm = 6.673 | Param update norm = 0.032 | Runtime in seconds = 1.224\n",
            "INFO - Validation: Loss = 13.362 | Mae e = 3.266 | Mae f = 0.478 | Rmse e = 3.277 | Rmse f = 0.731\n",
            "INFO - Saving checkpoint at epoch 34...\n",
            "INFO - Best model: Loss = 13.362 | Best epoch = 34\n"
          ]
        },
        {
          "output_type": "stream",
          "name": "stdout",
          "text": [
            "here??\n"
          ]
        },
        {
          "output_type": "stream",
          "name": "stderr",
          "text": [
            "INFO - ------------ Epoch 35 ------------\n",
            "INFO - Training:   Loss = 0.533 | Gradient norm = 5.531 | Param update norm = 0.029 | Runtime in seconds = 1.247\n",
            "INFO - Validation: Loss = 13.167 | Mae e = 3.115 | Mae f = 0.474 | Rmse e = 3.127 | Rmse f = 0.725\n",
            "INFO - Saving checkpoint at epoch 35...\n",
            "INFO - Best model: Loss = 13.167 | Best epoch = 35\n"
          ]
        },
        {
          "output_type": "stream",
          "name": "stdout",
          "text": [
            "here??\n"
          ]
        },
        {
          "output_type": "stream",
          "name": "stderr",
          "text": [
            "INFO - ------------ Epoch 36 ------------\n",
            "INFO - Training:   Loss = 0.518 | Gradient norm = 4.991 | Param update norm = 0.028 | Runtime in seconds = 1.426\n",
            "INFO - Validation: Loss = 13.019 | Mae e = 2.960 | Mae f = 0.470 | Rmse e = 2.972 | Rmse f = 0.721\n",
            "INFO - Saving checkpoint at epoch 36...\n",
            "INFO - Best model: Loss = 13.019 | Best epoch = 36\n"
          ]
        },
        {
          "output_type": "stream",
          "name": "stdout",
          "text": [
            "here??\n"
          ]
        },
        {
          "output_type": "stream",
          "name": "stderr",
          "text": [
            "INFO - ------------ Epoch 37 ------------\n",
            "INFO - Training:   Loss = 0.509 | Gradient norm = 5.436 | Param update norm = 0.029 | Runtime in seconds = 1.285\n",
            "INFO - Validation: Loss = 12.852 | Mae e = 2.814 | Mae f = 0.466 | Rmse e = 2.827 | Rmse f = 0.717\n",
            "INFO - Saving checkpoint at epoch 37...\n",
            "INFO - Best model: Loss = 12.852 | Best epoch = 37\n"
          ]
        },
        {
          "output_type": "stream",
          "name": "stdout",
          "text": [
            "here??\n"
          ]
        },
        {
          "output_type": "stream",
          "name": "stderr",
          "text": [
            "INFO - ------------ Epoch 38 ------------\n",
            "INFO - Training:   Loss = 0.512 | Gradient norm = 6.277 | Param update norm = 0.032 | Runtime in seconds = 1.305\n",
            "INFO - Validation: Loss = 12.683 | Mae e = 2.689 | Mae f = 0.463 | Rmse e = 2.701 | Rmse f = 0.712\n",
            "INFO - Saving checkpoint at epoch 38...\n",
            "INFO - Best model: Loss = 12.683 | Best epoch = 38\n"
          ]
        },
        {
          "output_type": "stream",
          "name": "stdout",
          "text": [
            "here??\n"
          ]
        },
        {
          "output_type": "stream",
          "name": "stderr",
          "text": [
            "INFO - ------------ Epoch 39 ------------\n",
            "INFO - Training:   Loss = 0.501 | Gradient norm = 6.762 | Param update norm = 0.031 | Runtime in seconds = 1.239\n",
            "INFO - Validation: Loss = 12.479 | Mae e = 2.586 | Mae f = 0.458 | Rmse e = 2.599 | Rmse f = 0.706\n",
            "INFO - Saving checkpoint at epoch 39...\n",
            "INFO - Best model: Loss = 12.479 | Best epoch = 39\n"
          ]
        },
        {
          "output_type": "stream",
          "name": "stdout",
          "text": [
            "here??\n"
          ]
        },
        {
          "output_type": "stream",
          "name": "stderr",
          "text": [
            "INFO - ------------ Epoch 40 ------------\n",
            "INFO - Training:   Loss = 0.522 | Gradient norm = 9.798 | Param update norm = 0.035 | Runtime in seconds = 1.389\n",
            "INFO - Validation: Loss = 12.285 | Mae e = 2.523 | Mae f = 0.454 | Rmse e = 2.536 | Rmse f = 0.701\n",
            "INFO - Saving checkpoint at epoch 40...\n",
            "INFO - Best model: Loss = 12.285 | Best epoch = 40\n"
          ]
        },
        {
          "output_type": "stream",
          "name": "stdout",
          "text": [
            "here??\n"
          ]
        },
        {
          "output_type": "stream",
          "name": "stderr",
          "text": [
            "INFO - ------------ Epoch 41 ------------\n",
            "INFO - Training:   Loss = 0.475 | Gradient norm = 5.902 | Param update norm = 0.026 | Runtime in seconds = 1.280\n",
            "INFO - Validation: Loss = 12.098 | Mae e = 2.439 | Mae f = 0.450 | Rmse e = 2.453 | Rmse f = 0.695\n",
            "INFO - Saving checkpoint at epoch 41...\n",
            "INFO - Best model: Loss = 12.098 | Best epoch = 41\n"
          ]
        },
        {
          "output_type": "stream",
          "name": "stdout",
          "text": [
            "here??\n"
          ]
        },
        {
          "output_type": "stream",
          "name": "stderr",
          "text": [
            "INFO - ------------ Epoch 42 ------------\n",
            "INFO - Training:   Loss = 0.497 | Gradient norm = 9.493 | Param update norm = 0.033 | Runtime in seconds = 1.416\n",
            "INFO - Validation: Loss = 11.905 | Mae e = 2.370 | Mae f = 0.446 | Rmse e = 2.384 | Rmse f = 0.690\n",
            "INFO - Saving checkpoint at epoch 42...\n",
            "INFO - Best model: Loss = 11.905 | Best epoch = 42\n"
          ]
        },
        {
          "output_type": "stream",
          "name": "stdout",
          "text": [
            "here??\n"
          ]
        },
        {
          "output_type": "stream",
          "name": "stderr",
          "text": [
            "INFO - ------------ Epoch 43 ------------\n",
            "INFO - Training:   Loss = 0.456 | Gradient norm = 4.652 | Param update norm = 0.025 | Runtime in seconds = 1.392\n",
            "INFO - Validation: Loss = 11.714 | Mae e = 2.293 | Mae f = 0.442 | Rmse e = 2.308 | Rmse f = 0.684\n",
            "INFO - Saving checkpoint at epoch 43...\n",
            "INFO - Best model: Loss = 11.714 | Best epoch = 43\n"
          ]
        },
        {
          "output_type": "stream",
          "name": "stdout",
          "text": [
            "here??\n"
          ]
        }
      ]
    },
    {
      "cell_type": "code",
      "execution_count": null,
      "metadata": {
        "id": "VJmZ6EmzlU16"
      },
      "outputs": [],
      "source": [
        "# force_field = ForceField.from_mlip_network(mlip_network)"
      ]
    },
    {
      "cell_type": "markdown",
      "metadata": {
        "id": "zj6OHwN3x3uu"
      },
      "source": [
        "Next, we **create an optimizer**:\n",
        "\n",
        "The *mlip* library is set up so that you can use any [`optax`](https://github.com/google-deepmind/optax) optimizer you like, here we've chosen for [`optax.adam`](https://optax.readthedocs.io/en/latest/api/optimizers.html#optax.adam).\n",
        "\n",
        "**Hint:** Also try an optimizer specialized for MLIP models (see [this](https://instadeepai.github.io/mlip/api_reference/training/optimizer.html#mlip.training.optimizer.get_default_mlip_optimizer) part of the documentation for more details)."
      ]
    },
    {
      "cell_type": "code",
      "execution_count": null,
      "metadata": {
        "id": "_PRdkIPopJc4"
      },
      "outputs": [],
      "source": [
        "# from mlip.training.optimizer import get_default_mlip_optimizer\n",
        "# from mlip.training.optimizer_config import OptimizerConfig\n",
        "\n",
        "# # Configure the specialized MLIP optimizer\n",
        "# optimizer_config = OptimizerConfig(\n",
        "#     apply_weight_decay_mask=True,\n",
        "#     weight_decay= run.config[\"weight_decay\"],\n",
        "#     grad_norm=run.config[\"grad_norm\"],\n",
        "#     num_gradient_accumulation_steps=run.config[\"num_gradient_accumulation_steps\"],\n",
        "#     init_learning_rate=run.config[\"init_learning_rate\"],\n",
        "#     peak_learning_rate=run.config[\"peak_learning_rate\"],\n",
        "#     final_learning_rate=run.config[\"final_learning_rate\"],\n",
        "#     warmup_steps=run.config[\"warmup_steps\"],\n",
        "#     transition_steps=run.config[\"transition_steps\"]\n",
        "# )\n",
        "\n",
        "# optimizer = get_default_mlip_optimizer(optimizer_config)\n",
        "\n",
        "# print(\"Loss function:\", loss)\n",
        "# print(\"Optimizer configuration:\", optimizer_config)\n",
        "# print(\"Optimizer:\", optimizer)"
      ]
    },
    {
      "cell_type": "markdown",
      "metadata": {
        "id": "47NWAw7uyL3D"
      },
      "source": [
        "For the **loss**:\n",
        "\n",
        "We use a Mean-Squared-Error (MSE) loss, that by default uses a weighting factor of 25.0 for MSE of forces, 1.0 for MSE of energies, and zero for MSE of stress (which is not available in this dataset). See [this](https://instadeepai.github.io/mlip/user_guide/training.html#loss) part of the documentation for more information on further options such as alternative loss functions and how to create a weight flip schedule between energy and forces."
      ]
    },
    {
      "cell_type": "code",
      "execution_count": null,
      "metadata": {
        "id": "Cj4d_ZoopJa6"
      },
      "outputs": [],
      "source": [
        "# loss = MSELoss()\n",
        "\n",
        "# energy_weight_schedule = optax.piecewise_constant_schedule(run.config[\"energy_weight\"])"
      ]
    },
    {
      "cell_type": "markdown",
      "metadata": {
        "id": "I7qOM_vSlU16"
      },
      "source": [
        "We can now set up a **custom I/O handler** with checkpointing for training:\n",
        "\n",
        "The I/O handler class is documented [here](https://instadeepai.github.io/mlip/api_reference/training/training_io_handling.html). Also check out [this](https://instadeepai.github.io/mlip/user_guide/training.html#io-handling-and-logging) part in our deep-dive on logging for more information. The code below adds a local directory for checkpointing to the I/O handler, which activates checkpointing during training."
      ]
    },
    {
      "cell_type": "code",
      "execution_count": null,
      "metadata": {
        "id": "zoaaXD7NlU16"
      },
      "outputs": [],
      "source": [
        "# io_handler = TrainingIOHandler(\n",
        "#     TrainingIOHandler.Config(\n",
        "#         local_model_output_dir=\"training/model_training\"\n",
        "#     )\n",
        "# )"
      ]
    },
    {
      "cell_type": "markdown",
      "metadata": {
        "id": "HVptSCsulU16"
      },
      "source": [
        "Next, we can **attach logging functions to the I/O handler**:\n",
        "\n",
        "Users can attached as many logging functions as required to the I/O handler. In this example, we attach two.\n",
        "1. The [`log_metrics_to_line`](https://instadeepai.github.io/mlip/api_reference/training/training_io_handling.html#mlip.training.training_loggers.log_metrics_to_line) function that is also included in the default I/O handler that we used in the previous example.\n",
        "2. A custom function that just keeps track of the validation set losses, so we can later easily create a curve from it."
      ]
    },
    {
      "cell_type": "code",
      "execution_count": null,
      "metadata": {
        "id": "OvGu40RYlU16"
      },
      "outputs": [],
      "source": [
        "# # The following logger is also attached in the default I/O handler\n",
        "# # # that was used in the training above\n",
        "# io_handler.attach_logger(log_metrics_to_line)\n",
        "\n",
        "# # Define a custom logging function that keeps track of validation loss\n",
        "# validation_losses = []\n",
        "# training_losses = []\n",
        "# def _custom_logger(category, to_log, epoch_number):\n",
        "#   if category == LogCategory.EVAL_METRICS:\n",
        "#     validation_losses.append(to_log[\"loss\"])\n",
        "#   elif category == LogCategory.TRAIN_METRICS:\n",
        "#     training_losses.append(to_log[\"loss\"])\n",
        "\n",
        "# # Attach our custom logging function to the I/O handler\n",
        "# io_handler.attach_logger(_custom_logger)"
      ]
    },
    {
      "cell_type": "markdown",
      "metadata": {
        "id": "zskGftVJlU16"
      },
      "source": [
        "The custom logging function is called several times during the training loop with the argument `category` (e.g. `TRAIN_METRICS`, `EVAL_METRICS`) telling the function what is currently being logged, for example, train or evaluation metrics. It is of enum type [`LogCategory`](https://instadeepai.github.io/mlip/api_reference/training/training_io_handling.html#mlip.training.training_io_handler.LogCategory). See the documentation of the built-in function [`log_metrics_to_line`](https://instadeepai.github.io/mlip/api_reference/training/training_io_handling.html#mlip.training.training_loggers.log_metrics_to_line) for what we expect the logging function's signature to be."
      ]
    },
    {
      "cell_type": "markdown",
      "metadata": {
        "id": "3zjiQX3d3EsK"
      },
      "source": [
        "Finally, we can **create our training loop**:\n",
        "\n",
        "At a minimum, it needs as input:\n",
        "- a training dataset\n",
        "- a validation dataset\n",
        "- a force field\n",
        "- a loss\n",
        "- an optimizer\n",
        "- a config (which specifies for instace the number of epochs)\n",
        "\n",
        "Note that the config is documented [here](https://instadeepai.github.io/mlip/api_reference/training/training_loop_config.html). Its only argument that lacks a default value is the number of epochs to train for."
      ]
    },
    {
      "cell_type": "code",
      "execution_count": null,
      "metadata": {
        "id": "nyNXJW6SurAD",
        "scrolled": true
      },
      "outputs": [],
      "source": [
        "# training_config = TrainingLoop.Config(\n",
        "#     num_epochs=run.config[\"epochs\"],\n",
        "#     energy_weight=run.config[\"energy_weight\"],\n",
        "#     force_weight=0, # Reduce this to make energy more important\n",
        "# )\n",
        "\n",
        "# training_loop = TrainingLoop(\n",
        "#     train_dataset=train_set,\n",
        "#     validation_dataset=validation_set,\n",
        "#     force_field=force_field,\n",
        "#     loss=loss,\n",
        "#     optimizer=optimizer,\n",
        "#     config=training_config,\n",
        "#     io_handler=io_handler,\n",
        "# )"
      ]
    },
    {
      "cell_type": "markdown",
      "metadata": {
        "id": "ecbtfdFa8iJc"
      },
      "source": [
        "## 3. Running a training loop"
      ]
    },
    {
      "cell_type": "markdown",
      "metadata": {
        "id": "wTre9bQD3IbJ"
      },
      "source": [
        "**Running the loop**:\n",
        "\n",
        "The following box runs the prepared training loop. Note that training will be a **lot more efficient for GPU users** (depending on the GPU, one should expect ~1s to ~12s per epoch, once the code is compiled) - for CPU users our measures ranged from ~12s to ~100s per epoch."
      ]
    },
    {
      "cell_type": "code",
      "execution_count": null,
      "metadata": {
        "id": "Eef9QrDPvJs7"
      },
      "outputs": [],
      "source": [
        "# training_loop.run()"
      ]
    },
    {
      "cell_type": "markdown",
      "metadata": {
        "id": "-Ie0uQOvlU17"
      },
      "source": [
        "We can now **access the information stored** by the custom logger saved into our validation loss list:"
      ]
    },
    {
      "cell_type": "code",
      "execution_count": null,
      "metadata": {
        "id": "nxi-fYGglU17"
      },
      "outputs": [],
      "source": [
        "# print(validation_losses)"
      ]
    },
    {
      "cell_type": "markdown",
      "metadata": {
        "id": "dmIME-wylU17"
      },
      "source": [
        "Let's create a training curve from these values."
      ]
    },
    {
      "cell_type": "code",
      "execution_count": null,
      "metadata": {
        "id": "GEOjLHKZlU1-"
      },
      "outputs": [],
      "source": [
        "# epoch_nums = list(range(len(validation_losses)))\n",
        "# epoch_nums = list(range(len(training_losses)))\n",
        "# plt.plot(epoch_nums, training_losses, c=\"red\")\n",
        "# plt.plot(epoch_nums, validation_losses, c=\"blue\")\n",
        "# plt.xlabel(\"Epoch\")\n",
        "# plt.ylabel(\"Validation loss (blue) & Training Loss (red)\")\n",
        "# plt.xticks(epoch_nums)\n",
        "# plt.show()"
      ]
    },
    {
      "cell_type": "markdown",
      "metadata": {
        "id": "gRPpV0CBlU1-"
      },
      "source": [
        "**Recovering the best validation model**:\n",
        "\n",
        "After training has completed, the [`TrainingLoop`](https://instadeepai.github.io/mlip/api_reference/training/training_loop.html) holds all the relevant information about the run. We can obtain the force field with the best validation parameters as follows:"
      ]
    },
    {
      "cell_type": "code",
      "execution_count": null,
      "metadata": {
        "id": "CSrWZFsZlU1_"
      },
      "outputs": [],
      "source": [
        "best_force_field = training_loop.best_model"
      ]
    },
    {
      "cell_type": "markdown",
      "metadata": {
        "id": "FWeaguhglU1_"
      },
      "source": [
        "This force field object can now be applied in, for example, MD simulations or energy minimizations.\n",
        "\n",
        "Furthermore, these checkpoints can of course also be **used to restart a training from a given checkpoint**. We refer to the [documentation of the I/O handler's config](https://instadeepai.github.io/mlip/api_reference/training/training_io_handling.html#mlip.training.training_io_handler.TrainingIOHandlerConfig) for more information on this.\n",
        "\n",
        "**Saving the model to a zip file**:\n",
        "\n",
        "We can also save the trained model in zip format. This is also the format that we provide our pre-trained models in."
      ]
    },
    {
      "cell_type": "code",
      "execution_count": null,
      "metadata": {
        "id": "Euv-3G-mlU1_"
      },
      "outputs": [],
      "source": [
        "save_model_to_zip(\"training/my_final_model.zip\", best_force_field)"
      ]
    },
    {
      "cell_type": "markdown",
      "metadata": {
        "id": "uMlcfZUalU1_"
      },
      "source": [
        "**Loading a pre-trained model**\n",
        "\n",
        "We can also load a pre-trained model from a zip file. This is useful if you want to use a pre-trained model for inference or fine-tuning on a different dataset."
      ]
    },
    {
      "cell_type": "code",
      "execution_count": null,
      "metadata": {
        "id": "2lZ0VpBPlU1_"
      },
      "outputs": [],
      "source": [
        "best_force_field = load_model_from_zip(Mace, \"training/my_final_model.zip\")\n",
        "\n",
        "print(\"Dataset info:\", best_force_field.dataset_info)"
      ]
    },
    {
      "cell_type": "markdown",
      "metadata": {
        "id": "2ZZeNap6lU1_"
      },
      "source": [
        "## Evaluation"
      ]
    },
    {
      "cell_type": "markdown",
      "metadata": {
        "id": "U14qTi5slU1_"
      },
      "source": [
        "The model will be tested on its ability to predict the energies of new conformations\n",
        "of the same molecule. However, to test the generalization\n",
        "capabilities of the model, these conformations are sampled at higher temperature,\n",
        "i.e., 1200 Kelvin. The test conformations are located in the\n",
        "`test_public.xyz` file. You can predict energies for them with a model saved in the\n",
        "zip format with the mlip library's batched inference functionality, described\n",
        "[here](https://instadeepai.github.io/mlip/user_guide/simulations.html#batched-inference)\n",
        "in the mlip documentation or explained in section 2 of\n",
        "[mlip's simulation tutorial](https://github.com/instadeepai/mlip/blob/main/tutorials/simulation_tutorial.ipynb).\n",
        "The public leaderboard contains the target energies. The metric the predictions will be scored on is root-mean-square error (RMSE).\n",
        "\n",
        "\n",
        "**Hint**: to get the best energies, you want to put higher weights on energies during training which is not the case in the default settings, where forces are more highly weighted.\n"
      ]
    },
    {
      "cell_type": "code",
      "execution_count": null,
      "metadata": {
        "id": "dpslpHjC2r0Z"
      },
      "outputs": [],
      "source": [
        "from ase.io import read as ase_read\n",
        "\n",
        "test_data = \"data/test_public.xyz\"\n",
        "structures = ase_read(test_data, index=\":\")"
      ]
    },
    {
      "cell_type": "markdown",
      "metadata": {
        "id": "EPbZlFAflU1_"
      },
      "source": [
        "We can now run inference with a single pre-built function, note Jax starts by compiling all the required functions. It may appear slow at the beginning but this provides significant acceleration at scales (compilation is saved in the notebook kernel, so if you want an illustration of the speed gains, you can run the cell twice):"
      ]
    },
    {
      "cell_type": "code",
      "execution_count": null,
      "metadata": {
        "id": "p2ZMvIJllU1_"
      },
      "outputs": [],
      "source": [
        "from mlip.inference import run_batched_inference\n",
        "\n",
        "predictions = run_batched_inference(structures, best_force_field, batch_size=8)"
      ]
    },
    {
      "cell_type": "markdown",
      "metadata": {
        "id": "PtxCDi26lU1_"
      },
      "source": [
        "# Get your output into submission format\n",
        "\n",
        "We need to get our outputs into their \"camera-ready\" form."
      ]
    },
    {
      "cell_type": "code",
      "execution_count": null,
      "metadata": {
        "id": "wGNFfcb5lU1_"
      },
      "outputs": [],
      "source": [
        "energies = np.array([prediction.energy for prediction in predictions])\n",
        "\n",
        "# Create DataFrame\n",
        "df = pd.DataFrame({\n",
        "    'ID': np.arange(len(energies)),\n",
        "    'energies': energies\n",
        "})\n",
        "\n",
        "df"
      ]
    },
    {
      "cell_type": "code",
      "execution_count": null,
      "metadata": {
        "id": "7WPAFZnalU1_"
      },
      "outputs": [],
      "source": [
        "your_name = \"YOUR_NAME_HERE\"\n",
        "filename = f\"{your_name}_submission.csv\"\n",
        "df.to_csv(filename, index=False)\n",
        "print(f\"Saved submission to {filename}\")"
      ]
    },
    {
      "cell_type": "markdown",
      "metadata": {
        "id": "vNi3n4JfSUS2"
      },
      "source": [
        "Submit your solution by uploading the CSV file to the [Zindi competition page](https://zindi.africa/competitions/indabax-south-africa-2025-hackathon-with-instadeep)."
      ]
    }
  ],
  "metadata": {
    "accelerator": "GPU",
    "colab": {
      "gpuType": "T4",
      "provenance": []
    },
    "kernelspec": {
      "display_name": "hackathon_IndabaX_2025_mlip",
      "language": "python",
      "name": "python3"
    },
    "language_info": {
      "codemirror_mode": {
        "name": "ipython",
        "version": 3
      },
      "file_extension": ".py",
      "mimetype": "text/x-python",
      "name": "python",
      "nbconvert_exporter": "python",
      "pygments_lexer": "ipython3",
      "version": "3.10.17"
    },
    "widgets": {
      "application/vnd.jupyter.widget-state+json": {
        "d9065d96eda140d3b55d383f4eb12a9a": {
          "model_module": "@jupyter-widgets/controls",
          "model_name": "HBoxModel",
          "model_module_version": "1.5.0",
          "state": {
            "_dom_classes": [],
            "_model_module": "@jupyter-widgets/controls",
            "_model_module_version": "1.5.0",
            "_model_name": "HBoxModel",
            "_view_count": null,
            "_view_module": "@jupyter-widgets/controls",
            "_view_module_version": "1.5.0",
            "_view_name": "HBoxView",
            "box_style": "",
            "children": [
              "IPY_MODEL_3ccd1e30a02249b48d68bbd290c09df7",
              "IPY_MODEL_72d02f0fcdf74c9fa873ac3ff536104d",
              "IPY_MODEL_fc1df937ac9a4a718b1b942354510d1e"
            ],
            "layout": "IPY_MODEL_9a6bf0549a164da1b532a67de1988540"
          }
        },
        "3ccd1e30a02249b48d68bbd290c09df7": {
          "model_module": "@jupyter-widgets/controls",
          "model_name": "HTMLModel",
          "model_module_version": "1.5.0",
          "state": {
            "_dom_classes": [],
            "_model_module": "@jupyter-widgets/controls",
            "_model_module_version": "1.5.0",
            "_model_name": "HTMLModel",
            "_view_count": null,
            "_view_module": "@jupyter-widgets/controls",
            "_view_module_version": "1.5.0",
            "_view_name": "HTMLView",
            "description": "",
            "description_tooltip": null,
            "layout": "IPY_MODEL_41e52f4b44e34c6aa1d6a6f4af310487",
            "placeholder": "​",
            "style": "IPY_MODEL_47fec0e83ea740acb5e4b12ef0e92c02",
            "value": "Graph creation: 100%"
          }
        },
        "72d02f0fcdf74c9fa873ac3ff536104d": {
          "model_module": "@jupyter-widgets/controls",
          "model_name": "FloatProgressModel",
          "model_module_version": "1.5.0",
          "state": {
            "_dom_classes": [],
            "_model_module": "@jupyter-widgets/controls",
            "_model_module_version": "1.5.0",
            "_model_name": "FloatProgressModel",
            "_view_count": null,
            "_view_module": "@jupyter-widgets/controls",
            "_view_module_version": "1.5.0",
            "_view_name": "ProgressView",
            "bar_style": "success",
            "description": "",
            "description_tooltip": null,
            "layout": "IPY_MODEL_1a9f49b358684caabd05619a0bbac5ef",
            "max": 500,
            "min": 0,
            "orientation": "horizontal",
            "style": "IPY_MODEL_551275c82dc74acdabfaad693f7ca829",
            "value": 500
          }
        },
        "fc1df937ac9a4a718b1b942354510d1e": {
          "model_module": "@jupyter-widgets/controls",
          "model_name": "HTMLModel",
          "model_module_version": "1.5.0",
          "state": {
            "_dom_classes": [],
            "_model_module": "@jupyter-widgets/controls",
            "_model_module_version": "1.5.0",
            "_model_name": "HTMLModel",
            "_view_count": null,
            "_view_module": "@jupyter-widgets/controls",
            "_view_module_version": "1.5.0",
            "_view_name": "HTMLView",
            "description": "",
            "description_tooltip": null,
            "layout": "IPY_MODEL_0a3fae77987b4366ab6ac168667433a0",
            "placeholder": "​",
            "style": "IPY_MODEL_9b0c11aa83f84da19ba638635698f5b9",
            "value": " 500/500 [00:00&lt;00:00, 1824.32it/s]"
          }
        },
        "9a6bf0549a164da1b532a67de1988540": {
          "model_module": "@jupyter-widgets/base",
          "model_name": "LayoutModel",
          "model_module_version": "1.2.0",
          "state": {
            "_model_module": "@jupyter-widgets/base",
            "_model_module_version": "1.2.0",
            "_model_name": "LayoutModel",
            "_view_count": null,
            "_view_module": "@jupyter-widgets/base",
            "_view_module_version": "1.2.0",
            "_view_name": "LayoutView",
            "align_content": null,
            "align_items": null,
            "align_self": null,
            "border": null,
            "bottom": null,
            "display": null,
            "flex": null,
            "flex_flow": null,
            "grid_area": null,
            "grid_auto_columns": null,
            "grid_auto_flow": null,
            "grid_auto_rows": null,
            "grid_column": null,
            "grid_gap": null,
            "grid_row": null,
            "grid_template_areas": null,
            "grid_template_columns": null,
            "grid_template_rows": null,
            "height": null,
            "justify_content": null,
            "justify_items": null,
            "left": null,
            "margin": null,
            "max_height": null,
            "max_width": null,
            "min_height": null,
            "min_width": null,
            "object_fit": null,
            "object_position": null,
            "order": null,
            "overflow": null,
            "overflow_x": null,
            "overflow_y": null,
            "padding": null,
            "right": null,
            "top": null,
            "visibility": null,
            "width": null
          }
        },
        "41e52f4b44e34c6aa1d6a6f4af310487": {
          "model_module": "@jupyter-widgets/base",
          "model_name": "LayoutModel",
          "model_module_version": "1.2.0",
          "state": {
            "_model_module": "@jupyter-widgets/base",
            "_model_module_version": "1.2.0",
            "_model_name": "LayoutModel",
            "_view_count": null,
            "_view_module": "@jupyter-widgets/base",
            "_view_module_version": "1.2.0",
            "_view_name": "LayoutView",
            "align_content": null,
            "align_items": null,
            "align_self": null,
            "border": null,
            "bottom": null,
            "display": null,
            "flex": null,
            "flex_flow": null,
            "grid_area": null,
            "grid_auto_columns": null,
            "grid_auto_flow": null,
            "grid_auto_rows": null,
            "grid_column": null,
            "grid_gap": null,
            "grid_row": null,
            "grid_template_areas": null,
            "grid_template_columns": null,
            "grid_template_rows": null,
            "height": null,
            "justify_content": null,
            "justify_items": null,
            "left": null,
            "margin": null,
            "max_height": null,
            "max_width": null,
            "min_height": null,
            "min_width": null,
            "object_fit": null,
            "object_position": null,
            "order": null,
            "overflow": null,
            "overflow_x": null,
            "overflow_y": null,
            "padding": null,
            "right": null,
            "top": null,
            "visibility": null,
            "width": null
          }
        },
        "47fec0e83ea740acb5e4b12ef0e92c02": {
          "model_module": "@jupyter-widgets/controls",
          "model_name": "DescriptionStyleModel",
          "model_module_version": "1.5.0",
          "state": {
            "_model_module": "@jupyter-widgets/controls",
            "_model_module_version": "1.5.0",
            "_model_name": "DescriptionStyleModel",
            "_view_count": null,
            "_view_module": "@jupyter-widgets/base",
            "_view_module_version": "1.2.0",
            "_view_name": "StyleView",
            "description_width": ""
          }
        },
        "1a9f49b358684caabd05619a0bbac5ef": {
          "model_module": "@jupyter-widgets/base",
          "model_name": "LayoutModel",
          "model_module_version": "1.2.0",
          "state": {
            "_model_module": "@jupyter-widgets/base",
            "_model_module_version": "1.2.0",
            "_model_name": "LayoutModel",
            "_view_count": null,
            "_view_module": "@jupyter-widgets/base",
            "_view_module_version": "1.2.0",
            "_view_name": "LayoutView",
            "align_content": null,
            "align_items": null,
            "align_self": null,
            "border": null,
            "bottom": null,
            "display": null,
            "flex": null,
            "flex_flow": null,
            "grid_area": null,
            "grid_auto_columns": null,
            "grid_auto_flow": null,
            "grid_auto_rows": null,
            "grid_column": null,
            "grid_gap": null,
            "grid_row": null,
            "grid_template_areas": null,
            "grid_template_columns": null,
            "grid_template_rows": null,
            "height": null,
            "justify_content": null,
            "justify_items": null,
            "left": null,
            "margin": null,
            "max_height": null,
            "max_width": null,
            "min_height": null,
            "min_width": null,
            "object_fit": null,
            "object_position": null,
            "order": null,
            "overflow": null,
            "overflow_x": null,
            "overflow_y": null,
            "padding": null,
            "right": null,
            "top": null,
            "visibility": null,
            "width": null
          }
        },
        "551275c82dc74acdabfaad693f7ca829": {
          "model_module": "@jupyter-widgets/controls",
          "model_name": "ProgressStyleModel",
          "model_module_version": "1.5.0",
          "state": {
            "_model_module": "@jupyter-widgets/controls",
            "_model_module_version": "1.5.0",
            "_model_name": "ProgressStyleModel",
            "_view_count": null,
            "_view_module": "@jupyter-widgets/base",
            "_view_module_version": "1.2.0",
            "_view_name": "StyleView",
            "bar_color": null,
            "description_width": ""
          }
        },
        "0a3fae77987b4366ab6ac168667433a0": {
          "model_module": "@jupyter-widgets/base",
          "model_name": "LayoutModel",
          "model_module_version": "1.2.0",
          "state": {
            "_model_module": "@jupyter-widgets/base",
            "_model_module_version": "1.2.0",
            "_model_name": "LayoutModel",
            "_view_count": null,
            "_view_module": "@jupyter-widgets/base",
            "_view_module_version": "1.2.0",
            "_view_name": "LayoutView",
            "align_content": null,
            "align_items": null,
            "align_self": null,
            "border": null,
            "bottom": null,
            "display": null,
            "flex": null,
            "flex_flow": null,
            "grid_area": null,
            "grid_auto_columns": null,
            "grid_auto_flow": null,
            "grid_auto_rows": null,
            "grid_column": null,
            "grid_gap": null,
            "grid_row": null,
            "grid_template_areas": null,
            "grid_template_columns": null,
            "grid_template_rows": null,
            "height": null,
            "justify_content": null,
            "justify_items": null,
            "left": null,
            "margin": null,
            "max_height": null,
            "max_width": null,
            "min_height": null,
            "min_width": null,
            "object_fit": null,
            "object_position": null,
            "order": null,
            "overflow": null,
            "overflow_x": null,
            "overflow_y": null,
            "padding": null,
            "right": null,
            "top": null,
            "visibility": null,
            "width": null
          }
        },
        "9b0c11aa83f84da19ba638635698f5b9": {
          "model_module": "@jupyter-widgets/controls",
          "model_name": "DescriptionStyleModel",
          "model_module_version": "1.5.0",
          "state": {
            "_model_module": "@jupyter-widgets/controls",
            "_model_module_version": "1.5.0",
            "_model_name": "DescriptionStyleModel",
            "_view_count": null,
            "_view_module": "@jupyter-widgets/base",
            "_view_module_version": "1.2.0",
            "_view_name": "StyleView",
            "description_width": ""
          }
        },
        "ee3fd5de13724a2ea558773d75ca4e74": {
          "model_module": "@jupyter-widgets/controls",
          "model_name": "HBoxModel",
          "model_module_version": "1.5.0",
          "state": {
            "_dom_classes": [],
            "_model_module": "@jupyter-widgets/controls",
            "_model_module_version": "1.5.0",
            "_model_name": "HBoxModel",
            "_view_count": null,
            "_view_module": "@jupyter-widgets/controls",
            "_view_module_version": "1.5.0",
            "_view_name": "HBoxView",
            "box_style": "",
            "children": [
              "IPY_MODEL_8cc0ee12e6eb48189c440e348c7a5ebc",
              "IPY_MODEL_9b1e0688d87d43eaa70a6db49703ccca",
              "IPY_MODEL_62128146627d47e480cb9702e54fed80"
            ],
            "layout": "IPY_MODEL_87bb97aa7e0849018a79eb09e46403e7"
          }
        },
        "8cc0ee12e6eb48189c440e348c7a5ebc": {
          "model_module": "@jupyter-widgets/controls",
          "model_name": "HTMLModel",
          "model_module_version": "1.5.0",
          "state": {
            "_dom_classes": [],
            "_model_module": "@jupyter-widgets/controls",
            "_model_module_version": "1.5.0",
            "_model_name": "HTMLModel",
            "_view_count": null,
            "_view_module": "@jupyter-widgets/controls",
            "_view_module_version": "1.5.0",
            "_view_name": "HTMLView",
            "description": "",
            "description_tooltip": null,
            "layout": "IPY_MODEL_eee3ce6bc227402794ddfad62d4dc326",
            "placeholder": "​",
            "style": "IPY_MODEL_b5d9160f295f411b93a17b2c1fe80ab2",
            "value": "valid graph creation: 100%"
          }
        },
        "9b1e0688d87d43eaa70a6db49703ccca": {
          "model_module": "@jupyter-widgets/controls",
          "model_name": "FloatProgressModel",
          "model_module_version": "1.5.0",
          "state": {
            "_dom_classes": [],
            "_model_module": "@jupyter-widgets/controls",
            "_model_module_version": "1.5.0",
            "_model_name": "FloatProgressModel",
            "_view_count": null,
            "_view_module": "@jupyter-widgets/controls",
            "_view_module_version": "1.5.0",
            "_view_name": "ProgressView",
            "bar_style": "success",
            "description": "",
            "description_tooltip": null,
            "layout": "IPY_MODEL_a6a5fcd76c6c4260aded04fa3ae4e97b",
            "max": 100,
            "min": 0,
            "orientation": "horizontal",
            "style": "IPY_MODEL_f4a7193dd19449bcbd3525839d85780c",
            "value": 100
          }
        },
        "62128146627d47e480cb9702e54fed80": {
          "model_module": "@jupyter-widgets/controls",
          "model_name": "HTMLModel",
          "model_module_version": "1.5.0",
          "state": {
            "_dom_classes": [],
            "_model_module": "@jupyter-widgets/controls",
            "_model_module_version": "1.5.0",
            "_model_name": "HTMLModel",
            "_view_count": null,
            "_view_module": "@jupyter-widgets/controls",
            "_view_module_version": "1.5.0",
            "_view_name": "HTMLView",
            "description": "",
            "description_tooltip": null,
            "layout": "IPY_MODEL_283892c18f3242a79c0aab27ee50d3d6",
            "placeholder": "​",
            "style": "IPY_MODEL_dc33021852ea4654a72d1f7cdf7ba153",
            "value": " 100/100 [00:00&lt;00:00, 936.63it/s]"
          }
        },
        "87bb97aa7e0849018a79eb09e46403e7": {
          "model_module": "@jupyter-widgets/base",
          "model_name": "LayoutModel",
          "model_module_version": "1.2.0",
          "state": {
            "_model_module": "@jupyter-widgets/base",
            "_model_module_version": "1.2.0",
            "_model_name": "LayoutModel",
            "_view_count": null,
            "_view_module": "@jupyter-widgets/base",
            "_view_module_version": "1.2.0",
            "_view_name": "LayoutView",
            "align_content": null,
            "align_items": null,
            "align_self": null,
            "border": null,
            "bottom": null,
            "display": null,
            "flex": null,
            "flex_flow": null,
            "grid_area": null,
            "grid_auto_columns": null,
            "grid_auto_flow": null,
            "grid_auto_rows": null,
            "grid_column": null,
            "grid_gap": null,
            "grid_row": null,
            "grid_template_areas": null,
            "grid_template_columns": null,
            "grid_template_rows": null,
            "height": null,
            "justify_content": null,
            "justify_items": null,
            "left": null,
            "margin": null,
            "max_height": null,
            "max_width": null,
            "min_height": null,
            "min_width": null,
            "object_fit": null,
            "object_position": null,
            "order": null,
            "overflow": null,
            "overflow_x": null,
            "overflow_y": null,
            "padding": null,
            "right": null,
            "top": null,
            "visibility": null,
            "width": null
          }
        },
        "eee3ce6bc227402794ddfad62d4dc326": {
          "model_module": "@jupyter-widgets/base",
          "model_name": "LayoutModel",
          "model_module_version": "1.2.0",
          "state": {
            "_model_module": "@jupyter-widgets/base",
            "_model_module_version": "1.2.0",
            "_model_name": "LayoutModel",
            "_view_count": null,
            "_view_module": "@jupyter-widgets/base",
            "_view_module_version": "1.2.0",
            "_view_name": "LayoutView",
            "align_content": null,
            "align_items": null,
            "align_self": null,
            "border": null,
            "bottom": null,
            "display": null,
            "flex": null,
            "flex_flow": null,
            "grid_area": null,
            "grid_auto_columns": null,
            "grid_auto_flow": null,
            "grid_auto_rows": null,
            "grid_column": null,
            "grid_gap": null,
            "grid_row": null,
            "grid_template_areas": null,
            "grid_template_columns": null,
            "grid_template_rows": null,
            "height": null,
            "justify_content": null,
            "justify_items": null,
            "left": null,
            "margin": null,
            "max_height": null,
            "max_width": null,
            "min_height": null,
            "min_width": null,
            "object_fit": null,
            "object_position": null,
            "order": null,
            "overflow": null,
            "overflow_x": null,
            "overflow_y": null,
            "padding": null,
            "right": null,
            "top": null,
            "visibility": null,
            "width": null
          }
        },
        "b5d9160f295f411b93a17b2c1fe80ab2": {
          "model_module": "@jupyter-widgets/controls",
          "model_name": "DescriptionStyleModel",
          "model_module_version": "1.5.0",
          "state": {
            "_model_module": "@jupyter-widgets/controls",
            "_model_module_version": "1.5.0",
            "_model_name": "DescriptionStyleModel",
            "_view_count": null,
            "_view_module": "@jupyter-widgets/base",
            "_view_module_version": "1.2.0",
            "_view_name": "StyleView",
            "description_width": ""
          }
        },
        "a6a5fcd76c6c4260aded04fa3ae4e97b": {
          "model_module": "@jupyter-widgets/base",
          "model_name": "LayoutModel",
          "model_module_version": "1.2.0",
          "state": {
            "_model_module": "@jupyter-widgets/base",
            "_model_module_version": "1.2.0",
            "_model_name": "LayoutModel",
            "_view_count": null,
            "_view_module": "@jupyter-widgets/base",
            "_view_module_version": "1.2.0",
            "_view_name": "LayoutView",
            "align_content": null,
            "align_items": null,
            "align_self": null,
            "border": null,
            "bottom": null,
            "display": null,
            "flex": null,
            "flex_flow": null,
            "grid_area": null,
            "grid_auto_columns": null,
            "grid_auto_flow": null,
            "grid_auto_rows": null,
            "grid_column": null,
            "grid_gap": null,
            "grid_row": null,
            "grid_template_areas": null,
            "grid_template_columns": null,
            "grid_template_rows": null,
            "height": null,
            "justify_content": null,
            "justify_items": null,
            "left": null,
            "margin": null,
            "max_height": null,
            "max_width": null,
            "min_height": null,
            "min_width": null,
            "object_fit": null,
            "object_position": null,
            "order": null,
            "overflow": null,
            "overflow_x": null,
            "overflow_y": null,
            "padding": null,
            "right": null,
            "top": null,
            "visibility": null,
            "width": null
          }
        },
        "f4a7193dd19449bcbd3525839d85780c": {
          "model_module": "@jupyter-widgets/controls",
          "model_name": "ProgressStyleModel",
          "model_module_version": "1.5.0",
          "state": {
            "_model_module": "@jupyter-widgets/controls",
            "_model_module_version": "1.5.0",
            "_model_name": "ProgressStyleModel",
            "_view_count": null,
            "_view_module": "@jupyter-widgets/base",
            "_view_module_version": "1.2.0",
            "_view_name": "StyleView",
            "bar_color": null,
            "description_width": ""
          }
        },
        "283892c18f3242a79c0aab27ee50d3d6": {
          "model_module": "@jupyter-widgets/base",
          "model_name": "LayoutModel",
          "model_module_version": "1.2.0",
          "state": {
            "_model_module": "@jupyter-widgets/base",
            "_model_module_version": "1.2.0",
            "_model_name": "LayoutModel",
            "_view_count": null,
            "_view_module": "@jupyter-widgets/base",
            "_view_module_version": "1.2.0",
            "_view_name": "LayoutView",
            "align_content": null,
            "align_items": null,
            "align_self": null,
            "border": null,
            "bottom": null,
            "display": null,
            "flex": null,
            "flex_flow": null,
            "grid_area": null,
            "grid_auto_columns": null,
            "grid_auto_flow": null,
            "grid_auto_rows": null,
            "grid_column": null,
            "grid_gap": null,
            "grid_row": null,
            "grid_template_areas": null,
            "grid_template_columns": null,
            "grid_template_rows": null,
            "height": null,
            "justify_content": null,
            "justify_items": null,
            "left": null,
            "margin": null,
            "max_height": null,
            "max_width": null,
            "min_height": null,
            "min_width": null,
            "object_fit": null,
            "object_position": null,
            "order": null,
            "overflow": null,
            "overflow_x": null,
            "overflow_y": null,
            "padding": null,
            "right": null,
            "top": null,
            "visibility": null,
            "width": null
          }
        },
        "dc33021852ea4654a72d1f7cdf7ba153": {
          "model_module": "@jupyter-widgets/controls",
          "model_name": "DescriptionStyleModel",
          "model_module_version": "1.5.0",
          "state": {
            "_model_module": "@jupyter-widgets/controls",
            "_model_module_version": "1.5.0",
            "_model_name": "DescriptionStyleModel",
            "_view_count": null,
            "_view_module": "@jupyter-widgets/base",
            "_view_module_version": "1.2.0",
            "_view_name": "StyleView",
            "description_width": ""
          }
        },
        "72b7ae9a2a9a4a9bbf0b8257ed0390a9": {
          "model_module": "@jupyter-widgets/controls",
          "model_name": "HBoxModel",
          "model_module_version": "1.5.0",
          "state": {
            "_dom_classes": [],
            "_model_module": "@jupyter-widgets/controls",
            "_model_module_version": "1.5.0",
            "_model_name": "HBoxModel",
            "_view_count": null,
            "_view_module": "@jupyter-widgets/controls",
            "_view_module_version": "1.5.0",
            "_view_name": "HBoxView",
            "box_style": "",
            "children": [
              "IPY_MODEL_1c5316ada6ff4cbbafc7fa5932b00844",
              "IPY_MODEL_7791b1d07c0f4f90ad5665591beb0ed1",
              "IPY_MODEL_5e157a4b8b274f648a3f4bd0920bfbe1"
            ],
            "layout": "IPY_MODEL_8b505a45bc0544abafd17211e611b336"
          }
        },
        "1c5316ada6ff4cbbafc7fa5932b00844": {
          "model_module": "@jupyter-widgets/controls",
          "model_name": "HTMLModel",
          "model_module_version": "1.5.0",
          "state": {
            "_dom_classes": [],
            "_model_module": "@jupyter-widgets/controls",
            "_model_module_version": "1.5.0",
            "_model_name": "HTMLModel",
            "_view_count": null,
            "_view_module": "@jupyter-widgets/controls",
            "_view_module_version": "1.5.0",
            "_view_name": "HTMLView",
            "description": "",
            "description_tooltip": null,
            "layout": "IPY_MODEL_3033d10c5e4b4e429fbc527df42e21d6",
            "placeholder": "​",
            "style": "IPY_MODEL_6d07cf8c01654f7983d8954768147671",
            "value": "test graph creation: "
          }
        },
        "7791b1d07c0f4f90ad5665591beb0ed1": {
          "model_module": "@jupyter-widgets/controls",
          "model_name": "FloatProgressModel",
          "model_module_version": "1.5.0",
          "state": {
            "_dom_classes": [],
            "_model_module": "@jupyter-widgets/controls",
            "_model_module_version": "1.5.0",
            "_model_name": "FloatProgressModel",
            "_view_count": null,
            "_view_module": "@jupyter-widgets/controls",
            "_view_module_version": "1.5.0",
            "_view_name": "ProgressView",
            "bar_style": "success",
            "description": "",
            "description_tooltip": null,
            "layout": "IPY_MODEL_86f6cd0f21a942fbb4d62058ce88dd94",
            "max": 1,
            "min": 0,
            "orientation": "horizontal",
            "style": "IPY_MODEL_e9c85169f69a4651abc39b6d7137835e",
            "value": 0
          }
        },
        "5e157a4b8b274f648a3f4bd0920bfbe1": {
          "model_module": "@jupyter-widgets/controls",
          "model_name": "HTMLModel",
          "model_module_version": "1.5.0",
          "state": {
            "_dom_classes": [],
            "_model_module": "@jupyter-widgets/controls",
            "_model_module_version": "1.5.0",
            "_model_name": "HTMLModel",
            "_view_count": null,
            "_view_module": "@jupyter-widgets/controls",
            "_view_module_version": "1.5.0",
            "_view_name": "HTMLView",
            "description": "",
            "description_tooltip": null,
            "layout": "IPY_MODEL_c5f5a5193ad94ba9873fd30f0e212b7b",
            "placeholder": "​",
            "style": "IPY_MODEL_fc487cc4a544490e825f59be85c61a0b",
            "value": " 0/0 [00:00&lt;?, ?it/s]"
          }
        },
        "8b505a45bc0544abafd17211e611b336": {
          "model_module": "@jupyter-widgets/base",
          "model_name": "LayoutModel",
          "model_module_version": "1.2.0",
          "state": {
            "_model_module": "@jupyter-widgets/base",
            "_model_module_version": "1.2.0",
            "_model_name": "LayoutModel",
            "_view_count": null,
            "_view_module": "@jupyter-widgets/base",
            "_view_module_version": "1.2.0",
            "_view_name": "LayoutView",
            "align_content": null,
            "align_items": null,
            "align_self": null,
            "border": null,
            "bottom": null,
            "display": null,
            "flex": null,
            "flex_flow": null,
            "grid_area": null,
            "grid_auto_columns": null,
            "grid_auto_flow": null,
            "grid_auto_rows": null,
            "grid_column": null,
            "grid_gap": null,
            "grid_row": null,
            "grid_template_areas": null,
            "grid_template_columns": null,
            "grid_template_rows": null,
            "height": null,
            "justify_content": null,
            "justify_items": null,
            "left": null,
            "margin": null,
            "max_height": null,
            "max_width": null,
            "min_height": null,
            "min_width": null,
            "object_fit": null,
            "object_position": null,
            "order": null,
            "overflow": null,
            "overflow_x": null,
            "overflow_y": null,
            "padding": null,
            "right": null,
            "top": null,
            "visibility": null,
            "width": null
          }
        },
        "3033d10c5e4b4e429fbc527df42e21d6": {
          "model_module": "@jupyter-widgets/base",
          "model_name": "LayoutModel",
          "model_module_version": "1.2.0",
          "state": {
            "_model_module": "@jupyter-widgets/base",
            "_model_module_version": "1.2.0",
            "_model_name": "LayoutModel",
            "_view_count": null,
            "_view_module": "@jupyter-widgets/base",
            "_view_module_version": "1.2.0",
            "_view_name": "LayoutView",
            "align_content": null,
            "align_items": null,
            "align_self": null,
            "border": null,
            "bottom": null,
            "display": null,
            "flex": null,
            "flex_flow": null,
            "grid_area": null,
            "grid_auto_columns": null,
            "grid_auto_flow": null,
            "grid_auto_rows": null,
            "grid_column": null,
            "grid_gap": null,
            "grid_row": null,
            "grid_template_areas": null,
            "grid_template_columns": null,
            "grid_template_rows": null,
            "height": null,
            "justify_content": null,
            "justify_items": null,
            "left": null,
            "margin": null,
            "max_height": null,
            "max_width": null,
            "min_height": null,
            "min_width": null,
            "object_fit": null,
            "object_position": null,
            "order": null,
            "overflow": null,
            "overflow_x": null,
            "overflow_y": null,
            "padding": null,
            "right": null,
            "top": null,
            "visibility": null,
            "width": null
          }
        },
        "6d07cf8c01654f7983d8954768147671": {
          "model_module": "@jupyter-widgets/controls",
          "model_name": "DescriptionStyleModel",
          "model_module_version": "1.5.0",
          "state": {
            "_model_module": "@jupyter-widgets/controls",
            "_model_module_version": "1.5.0",
            "_model_name": "DescriptionStyleModel",
            "_view_count": null,
            "_view_module": "@jupyter-widgets/base",
            "_view_module_version": "1.2.0",
            "_view_name": "StyleView",
            "description_width": ""
          }
        },
        "86f6cd0f21a942fbb4d62058ce88dd94": {
          "model_module": "@jupyter-widgets/base",
          "model_name": "LayoutModel",
          "model_module_version": "1.2.0",
          "state": {
            "_model_module": "@jupyter-widgets/base",
            "_model_module_version": "1.2.0",
            "_model_name": "LayoutModel",
            "_view_count": null,
            "_view_module": "@jupyter-widgets/base",
            "_view_module_version": "1.2.0",
            "_view_name": "LayoutView",
            "align_content": null,
            "align_items": null,
            "align_self": null,
            "border": null,
            "bottom": null,
            "display": null,
            "flex": null,
            "flex_flow": null,
            "grid_area": null,
            "grid_auto_columns": null,
            "grid_auto_flow": null,
            "grid_auto_rows": null,
            "grid_column": null,
            "grid_gap": null,
            "grid_row": null,
            "grid_template_areas": null,
            "grid_template_columns": null,
            "grid_template_rows": null,
            "height": null,
            "justify_content": null,
            "justify_items": null,
            "left": null,
            "margin": null,
            "max_height": null,
            "max_width": null,
            "min_height": null,
            "min_width": null,
            "object_fit": null,
            "object_position": null,
            "order": null,
            "overflow": null,
            "overflow_x": null,
            "overflow_y": null,
            "padding": null,
            "right": null,
            "top": null,
            "visibility": null,
            "width": "20px"
          }
        },
        "e9c85169f69a4651abc39b6d7137835e": {
          "model_module": "@jupyter-widgets/controls",
          "model_name": "ProgressStyleModel",
          "model_module_version": "1.5.0",
          "state": {
            "_model_module": "@jupyter-widgets/controls",
            "_model_module_version": "1.5.0",
            "_model_name": "ProgressStyleModel",
            "_view_count": null,
            "_view_module": "@jupyter-widgets/base",
            "_view_module_version": "1.2.0",
            "_view_name": "StyleView",
            "bar_color": null,
            "description_width": ""
          }
        },
        "c5f5a5193ad94ba9873fd30f0e212b7b": {
          "model_module": "@jupyter-widgets/base",
          "model_name": "LayoutModel",
          "model_module_version": "1.2.0",
          "state": {
            "_model_module": "@jupyter-widgets/base",
            "_model_module_version": "1.2.0",
            "_model_name": "LayoutModel",
            "_view_count": null,
            "_view_module": "@jupyter-widgets/base",
            "_view_module_version": "1.2.0",
            "_view_name": "LayoutView",
            "align_content": null,
            "align_items": null,
            "align_self": null,
            "border": null,
            "bottom": null,
            "display": null,
            "flex": null,
            "flex_flow": null,
            "grid_area": null,
            "grid_auto_columns": null,
            "grid_auto_flow": null,
            "grid_auto_rows": null,
            "grid_column": null,
            "grid_gap": null,
            "grid_row": null,
            "grid_template_areas": null,
            "grid_template_columns": null,
            "grid_template_rows": null,
            "height": null,
            "justify_content": null,
            "justify_items": null,
            "left": null,
            "margin": null,
            "max_height": null,
            "max_width": null,
            "min_height": null,
            "min_width": null,
            "object_fit": null,
            "object_position": null,
            "order": null,
            "overflow": null,
            "overflow_x": null,
            "overflow_y": null,
            "padding": null,
            "right": null,
            "top": null,
            "visibility": null,
            "width": null
          }
        },
        "fc487cc4a544490e825f59be85c61a0b": {
          "model_module": "@jupyter-widgets/controls",
          "model_name": "DescriptionStyleModel",
          "model_module_version": "1.5.0",
          "state": {
            "_model_module": "@jupyter-widgets/controls",
            "_model_module_version": "1.5.0",
            "_model_name": "DescriptionStyleModel",
            "_view_count": null,
            "_view_module": "@jupyter-widgets/base",
            "_view_module_version": "1.2.0",
            "_view_name": "StyleView",
            "description_width": ""
          }
        },
        "93ade586e0bc4bb9a6dbd147e245c8cd": {
          "model_module": "@jupyter-widgets/controls",
          "model_name": "HBoxModel",
          "model_module_version": "1.5.0",
          "state": {
            "_dom_classes": [],
            "_model_module": "@jupyter-widgets/controls",
            "_model_module_version": "1.5.0",
            "_model_name": "HBoxModel",
            "_view_count": null,
            "_view_module": "@jupyter-widgets/controls",
            "_view_module_version": "1.5.0",
            "_view_name": "HBoxView",
            "box_style": "",
            "children": [
              "IPY_MODEL_d448626d271346e89da3f40999b49dab",
              "IPY_MODEL_80e629bb188c4b7aa58ed5ef618a3a7f",
              "IPY_MODEL_8c4264bba57d4351997cc4143cb89af7"
            ],
            "layout": "IPY_MODEL_cf65ecc737384e35a2bb892cc6ea6f20"
          }
        },
        "d448626d271346e89da3f40999b49dab": {
          "model_module": "@jupyter-widgets/controls",
          "model_name": "HTMLModel",
          "model_module_version": "1.5.0",
          "state": {
            "_dom_classes": [],
            "_model_module": "@jupyter-widgets/controls",
            "_model_module_version": "1.5.0",
            "_model_name": "HTMLModel",
            "_view_count": null,
            "_view_module": "@jupyter-widgets/controls",
            "_view_module_version": "1.5.0",
            "_view_name": "HTMLView",
            "description": "",
            "description_tooltip": null,
            "layout": "IPY_MODEL_e26cc8704d414785ae8b9b4cf4acf657",
            "placeholder": "​",
            "style": "IPY_MODEL_fbe8a81101734d89a4a2fec6d4c544a9",
            "value": "Average number of neighbors computation: 100%"
          }
        },
        "80e629bb188c4b7aa58ed5ef618a3a7f": {
          "model_module": "@jupyter-widgets/controls",
          "model_name": "FloatProgressModel",
          "model_module_version": "1.5.0",
          "state": {
            "_dom_classes": [],
            "_model_module": "@jupyter-widgets/controls",
            "_model_module_version": "1.5.0",
            "_model_name": "FloatProgressModel",
            "_view_count": null,
            "_view_module": "@jupyter-widgets/controls",
            "_view_module_version": "1.5.0",
            "_view_name": "ProgressView",
            "bar_style": "success",
            "description": "",
            "description_tooltip": null,
            "layout": "IPY_MODEL_6ffc391f29e241f3b33f92909821e9fa",
            "max": 500,
            "min": 0,
            "orientation": "horizontal",
            "style": "IPY_MODEL_6e6f0d486bb34be289eda95676d1b96c",
            "value": 500
          }
        },
        "8c4264bba57d4351997cc4143cb89af7": {
          "model_module": "@jupyter-widgets/controls",
          "model_name": "HTMLModel",
          "model_module_version": "1.5.0",
          "state": {
            "_dom_classes": [],
            "_model_module": "@jupyter-widgets/controls",
            "_model_module_version": "1.5.0",
            "_model_name": "HTMLModel",
            "_view_count": null,
            "_view_module": "@jupyter-widgets/controls",
            "_view_module_version": "1.5.0",
            "_view_name": "HTMLView",
            "description": "",
            "description_tooltip": null,
            "layout": "IPY_MODEL_4d2db213e7e9444dba638885ab145f55",
            "placeholder": "​",
            "style": "IPY_MODEL_3cf4b867d10a4c3b9e36dbd1b70dc528",
            "value": " 500/500 [00:00&lt;00:00, 8318.80it/s]"
          }
        },
        "cf65ecc737384e35a2bb892cc6ea6f20": {
          "model_module": "@jupyter-widgets/base",
          "model_name": "LayoutModel",
          "model_module_version": "1.2.0",
          "state": {
            "_model_module": "@jupyter-widgets/base",
            "_model_module_version": "1.2.0",
            "_model_name": "LayoutModel",
            "_view_count": null,
            "_view_module": "@jupyter-widgets/base",
            "_view_module_version": "1.2.0",
            "_view_name": "LayoutView",
            "align_content": null,
            "align_items": null,
            "align_self": null,
            "border": null,
            "bottom": null,
            "display": null,
            "flex": null,
            "flex_flow": null,
            "grid_area": null,
            "grid_auto_columns": null,
            "grid_auto_flow": null,
            "grid_auto_rows": null,
            "grid_column": null,
            "grid_gap": null,
            "grid_row": null,
            "grid_template_areas": null,
            "grid_template_columns": null,
            "grid_template_rows": null,
            "height": null,
            "justify_content": null,
            "justify_items": null,
            "left": null,
            "margin": null,
            "max_height": null,
            "max_width": null,
            "min_height": null,
            "min_width": null,
            "object_fit": null,
            "object_position": null,
            "order": null,
            "overflow": null,
            "overflow_x": null,
            "overflow_y": null,
            "padding": null,
            "right": null,
            "top": null,
            "visibility": null,
            "width": null
          }
        },
        "e26cc8704d414785ae8b9b4cf4acf657": {
          "model_module": "@jupyter-widgets/base",
          "model_name": "LayoutModel",
          "model_module_version": "1.2.0",
          "state": {
            "_model_module": "@jupyter-widgets/base",
            "_model_module_version": "1.2.0",
            "_model_name": "LayoutModel",
            "_view_count": null,
            "_view_module": "@jupyter-widgets/base",
            "_view_module_version": "1.2.0",
            "_view_name": "LayoutView",
            "align_content": null,
            "align_items": null,
            "align_self": null,
            "border": null,
            "bottom": null,
            "display": null,
            "flex": null,
            "flex_flow": null,
            "grid_area": null,
            "grid_auto_columns": null,
            "grid_auto_flow": null,
            "grid_auto_rows": null,
            "grid_column": null,
            "grid_gap": null,
            "grid_row": null,
            "grid_template_areas": null,
            "grid_template_columns": null,
            "grid_template_rows": null,
            "height": null,
            "justify_content": null,
            "justify_items": null,
            "left": null,
            "margin": null,
            "max_height": null,
            "max_width": null,
            "min_height": null,
            "min_width": null,
            "object_fit": null,
            "object_position": null,
            "order": null,
            "overflow": null,
            "overflow_x": null,
            "overflow_y": null,
            "padding": null,
            "right": null,
            "top": null,
            "visibility": null,
            "width": null
          }
        },
        "fbe8a81101734d89a4a2fec6d4c544a9": {
          "model_module": "@jupyter-widgets/controls",
          "model_name": "DescriptionStyleModel",
          "model_module_version": "1.5.0",
          "state": {
            "_model_module": "@jupyter-widgets/controls",
            "_model_module_version": "1.5.0",
            "_model_name": "DescriptionStyleModel",
            "_view_count": null,
            "_view_module": "@jupyter-widgets/base",
            "_view_module_version": "1.2.0",
            "_view_name": "StyleView",
            "description_width": ""
          }
        },
        "6ffc391f29e241f3b33f92909821e9fa": {
          "model_module": "@jupyter-widgets/base",
          "model_name": "LayoutModel",
          "model_module_version": "1.2.0",
          "state": {
            "_model_module": "@jupyter-widgets/base",
            "_model_module_version": "1.2.0",
            "_model_name": "LayoutModel",
            "_view_count": null,
            "_view_module": "@jupyter-widgets/base",
            "_view_module_version": "1.2.0",
            "_view_name": "LayoutView",
            "align_content": null,
            "align_items": null,
            "align_self": null,
            "border": null,
            "bottom": null,
            "display": null,
            "flex": null,
            "flex_flow": null,
            "grid_area": null,
            "grid_auto_columns": null,
            "grid_auto_flow": null,
            "grid_auto_rows": null,
            "grid_column": null,
            "grid_gap": null,
            "grid_row": null,
            "grid_template_areas": null,
            "grid_template_columns": null,
            "grid_template_rows": null,
            "height": null,
            "justify_content": null,
            "justify_items": null,
            "left": null,
            "margin": null,
            "max_height": null,
            "max_width": null,
            "min_height": null,
            "min_width": null,
            "object_fit": null,
            "object_position": null,
            "order": null,
            "overflow": null,
            "overflow_x": null,
            "overflow_y": null,
            "padding": null,
            "right": null,
            "top": null,
            "visibility": null,
            "width": null
          }
        },
        "6e6f0d486bb34be289eda95676d1b96c": {
          "model_module": "@jupyter-widgets/controls",
          "model_name": "ProgressStyleModel",
          "model_module_version": "1.5.0",
          "state": {
            "_model_module": "@jupyter-widgets/controls",
            "_model_module_version": "1.5.0",
            "_model_name": "ProgressStyleModel",
            "_view_count": null,
            "_view_module": "@jupyter-widgets/base",
            "_view_module_version": "1.2.0",
            "_view_name": "StyleView",
            "bar_color": null,
            "description_width": ""
          }
        },
        "4d2db213e7e9444dba638885ab145f55": {
          "model_module": "@jupyter-widgets/base",
          "model_name": "LayoutModel",
          "model_module_version": "1.2.0",
          "state": {
            "_model_module": "@jupyter-widgets/base",
            "_model_module_version": "1.2.0",
            "_model_name": "LayoutModel",
            "_view_count": null,
            "_view_module": "@jupyter-widgets/base",
            "_view_module_version": "1.2.0",
            "_view_name": "LayoutView",
            "align_content": null,
            "align_items": null,
            "align_self": null,
            "border": null,
            "bottom": null,
            "display": null,
            "flex": null,
            "flex_flow": null,
            "grid_area": null,
            "grid_auto_columns": null,
            "grid_auto_flow": null,
            "grid_auto_rows": null,
            "grid_column": null,
            "grid_gap": null,
            "grid_row": null,
            "grid_template_areas": null,
            "grid_template_columns": null,
            "grid_template_rows": null,
            "height": null,
            "justify_content": null,
            "justify_items": null,
            "left": null,
            "margin": null,
            "max_height": null,
            "max_width": null,
            "min_height": null,
            "min_width": null,
            "object_fit": null,
            "object_position": null,
            "order": null,
            "overflow": null,
            "overflow_x": null,
            "overflow_y": null,
            "padding": null,
            "right": null,
            "top": null,
            "visibility": null,
            "width": null
          }
        },
        "3cf4b867d10a4c3b9e36dbd1b70dc528": {
          "model_module": "@jupyter-widgets/controls",
          "model_name": "DescriptionStyleModel",
          "model_module_version": "1.5.0",
          "state": {
            "_model_module": "@jupyter-widgets/controls",
            "_model_module_version": "1.5.0",
            "_model_name": "DescriptionStyleModel",
            "_view_count": null,
            "_view_module": "@jupyter-widgets/base",
            "_view_module_version": "1.2.0",
            "_view_name": "StyleView",
            "description_width": ""
          }
        }
      }
    }
  },
  "nbformat": 4,
  "nbformat_minor": 0
}